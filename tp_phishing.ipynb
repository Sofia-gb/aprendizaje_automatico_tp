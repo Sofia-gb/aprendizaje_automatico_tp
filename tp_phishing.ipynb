{
 "cells": [
  {
   "cell_type": "code",
   "execution_count": 1,
   "id": "a0224b1a",
   "metadata": {},
   "outputs": [],
   "source": [
    "file_path = \"Phishing_Email.csv\""
   ]
  },
  {
   "cell_type": "code",
   "execution_count": 2,
   "id": "44cb0527",
   "metadata": {},
   "outputs": [],
   "source": [
    "import pandas as pd\n",
    "pd.set_option('display.max_columns', None)\n",
    "pd.set_option('display.max_rows', None)\n",
    "pd.set_option('display.max_colwidth', None)\n",
    "pd.set_option('display.precision', 3)\n",
    "pd.set_option('plotting.backend', 'matplotlib') \n",
    "pd.options.mode.chained_assignment = None"
   ]
  },
  {
   "cell_type": "code",
   "execution_count": 3,
   "id": "4f80f897",
   "metadata": {},
   "outputs": [],
   "source": [
    "dataset = pd.read_csv(file_path)"
   ]
  },
  {
   "cell_type": "code",
   "execution_count": 4,
   "id": "bb3404ae",
   "metadata": {},
   "outputs": [],
   "source": [
    "import warnings\n",
    "warnings.filterwarnings(\"ignore\")"
   ]
  },
  {
   "cell_type": "code",
   "execution_count": 5,
   "id": "6e5bd35c",
   "metadata": {},
   "outputs": [
    {
     "data": {
      "text/plain": [
       "(18650, 3)"
      ]
     },
     "execution_count": 5,
     "metadata": {},
     "output_type": "execute_result"
    }
   ],
   "source": [
    "dataset.shape"
   ]
  },
  {
   "cell_type": "code",
   "execution_count": 6,
   "id": "56c39a6f",
   "metadata": {},
   "outputs": [
    {
     "name": "stdout",
     "output_type": "stream",
     "text": [
      "<class 'pandas.core.frame.DataFrame'>\n",
      "RangeIndex: 18650 entries, 0 to 18649\n",
      "Data columns (total 3 columns):\n",
      " #   Column      Non-Null Count  Dtype \n",
      "---  ------      --------------  ----- \n",
      " 0   Unnamed: 0  18650 non-null  int64 \n",
      " 1   Email Text  18634 non-null  object\n",
      " 2   Email Type  18650 non-null  object\n",
      "dtypes: int64(1), object(2)\n",
      "memory usage: 437.2+ KB\n"
     ]
    }
   ],
   "source": [
    "dataset.info()"
   ]
  },
  {
   "cell_type": "code",
   "execution_count": 7,
   "id": "ab24ae4f",
   "metadata": {},
   "outputs": [
    {
     "data": {
      "text/html": [
       "<div>\n",
       "<style scoped>\n",
       "    .dataframe tbody tr th:only-of-type {\n",
       "        vertical-align: middle;\n",
       "    }\n",
       "\n",
       "    .dataframe tbody tr th {\n",
       "        vertical-align: top;\n",
       "    }\n",
       "\n",
       "    .dataframe thead th {\n",
       "        text-align: right;\n",
       "    }\n",
       "</style>\n",
       "<table border=\"1\" class=\"dataframe\">\n",
       "  <thead>\n",
       "    <tr style=\"text-align: right;\">\n",
       "      <th></th>\n",
       "      <th>Unnamed: 0</th>\n",
       "      <th>Email Text</th>\n",
       "      <th>Email Type</th>\n",
       "    </tr>\n",
       "  </thead>\n",
       "  <tbody>\n",
       "    <tr>\n",
       "      <th>0</th>\n",
       "      <td>0</td>\n",
       "      <td>re : 6 . 1100 , disc : uniformitarianism , re : 1086 ; sex / lang dick hudson 's observations on us use of 's on ' but not 'd aughter ' as a vocative are very thought-provoking , but i am not sure that it is fair to attribute this to \" sons \" being \" treated like senior relatives \" . for one thing , we do n't normally use ' brother ' in this way any more than we do 'd aughter ' , and it is hard to imagine a natural class comprising senior relatives and 's on ' but excluding ' brother ' . for another , there seem to me to be differences here . if i am not imagining a distinction that is not there , it seems to me that the senior relative terms are used in a wider variety of contexts , e . g . , calling out from a distance to get someone 's attention , and hence at the beginning of an utterance , whereas 's on ' seems more natural in utterances like ' yes , son ' , ' hand me that , son ' than in ones like ' son ! ' or ' son , help me ! ' ( although perhaps these latter ones are not completely impossible ) . alexis mr</td>\n",
       "      <td>Safe Email</td>\n",
       "    </tr>\n",
       "    <tr>\n",
       "      <th>1</th>\n",
       "      <td>1</td>\n",
       "      <td>the other side of * galicismos * * galicismo * is a spanish term which names the improper introduction of french words which are spanish sounding and thus very deceptive to the ear . * galicismo * is often considered to be a * barbarismo * . what would be the term which designates the opposite phenomenon , that is unlawful words of spanish origin which may have crept into french ? can someone provide examples ? thank you joseph m kozono &lt; kozonoj @ gunet . georgetown . edu &gt;</td>\n",
       "      <td>Safe Email</td>\n",
       "    </tr>\n",
       "  </tbody>\n",
       "</table>\n",
       "</div>"
      ],
      "text/plain": [
       "   Unnamed: 0  \\\n",
       "0           0   \n",
       "1           1   \n",
       "\n",
       "                                                                                                                                                                                                                                                                                                                                                                                                                                                                                                                                                                                                                                                                                                                                                                                                                                                                                                                                                                                                                                                               Email Text  \\\n",
       "0  re : 6 . 1100 , disc : uniformitarianism , re : 1086 ; sex / lang dick hudson 's observations on us use of 's on ' but not 'd aughter ' as a vocative are very thought-provoking , but i am not sure that it is fair to attribute this to \" sons \" being \" treated like senior relatives \" . for one thing , we do n't normally use ' brother ' in this way any more than we do 'd aughter ' , and it is hard to imagine a natural class comprising senior relatives and 's on ' but excluding ' brother ' . for another , there seem to me to be differences here . if i am not imagining a distinction that is not there , it seems to me that the senior relative terms are used in a wider variety of contexts , e . g . , calling out from a distance to get someone 's attention , and hence at the beginning of an utterance , whereas 's on ' seems more natural in utterances like ' yes , son ' , ' hand me that , son ' than in ones like ' son ! ' or ' son , help me ! ' ( although perhaps these latter ones are not completely impossible ) . alexis mr   \n",
       "1                                                                                                                                                                                                                                                                                                                                                                                                                                                                                                                                                                         the other side of * galicismos * * galicismo * is a spanish term which names the improper introduction of french words which are spanish sounding and thus very deceptive to the ear . * galicismo * is often considered to be a * barbarismo * . what would be the term which designates the opposite phenomenon , that is unlawful words of spanish origin which may have crept into french ? can someone provide examples ? thank you joseph m kozono < kozonoj @ gunet . georgetown . edu >   \n",
       "\n",
       "   Email Type  \n",
       "0  Safe Email  \n",
       "1  Safe Email  "
      ]
     },
     "execution_count": 7,
     "metadata": {},
     "output_type": "execute_result"
    }
   ],
   "source": [
    "dataset.head(2)"
   ]
  },
  {
   "cell_type": "code",
   "execution_count": 8,
   "id": "49b81a59",
   "metadata": {},
   "outputs": [
    {
     "data": {
      "text/html": [
       "<div>\n",
       "<style scoped>\n",
       "    .dataframe tbody tr th:only-of-type {\n",
       "        vertical-align: middle;\n",
       "    }\n",
       "\n",
       "    .dataframe tbody tr th {\n",
       "        vertical-align: top;\n",
       "    }\n",
       "\n",
       "    .dataframe thead th {\n",
       "        text-align: right;\n",
       "    }\n",
       "</style>\n",
       "<table border=\"1\" class=\"dataframe\">\n",
       "  <thead>\n",
       "    <tr style=\"text-align: right;\">\n",
       "      <th></th>\n",
       "      <th>Unnamed: 0</th>\n",
       "      <th>Email Text</th>\n",
       "      <th>Email Type</th>\n",
       "    </tr>\n",
       "  </thead>\n",
       "  <tbody>\n",
       "    <tr>\n",
       "      <th>18648</th>\n",
       "      <td>18649</td>\n",
       "      <td>press clippings - letter on californian utilities please find attached the following article : ' californian utilities ' - financial times ( also sent to california distribution team ) kind regards , kuldeep chana</td>\n",
       "      <td>Safe Email</td>\n",
       "    </tr>\n",
       "    <tr>\n",
       "      <th>18649</th>\n",
       "      <td>18650</td>\n",
       "      <td>empty</td>\n",
       "      <td>Phishing Email</td>\n",
       "    </tr>\n",
       "  </tbody>\n",
       "</table>\n",
       "</div>"
      ],
      "text/plain": [
       "       Unnamed: 0  \\\n",
       "18648       18649   \n",
       "18649       18650   \n",
       "\n",
       "                                                                                                                                                                                                                  Email Text  \\\n",
       "18648  press clippings - letter on californian utilities please find attached the following article : ' californian utilities ' - financial times ( also sent to california distribution team ) kind regards , kuldeep chana   \n",
       "18649                                                                                                                                                                                                                  empty   \n",
       "\n",
       "           Email Type  \n",
       "18648      Safe Email  \n",
       "18649  Phishing Email  "
      ]
     },
     "execution_count": 8,
     "metadata": {},
     "output_type": "execute_result"
    }
   ],
   "source": [
    "dataset.tail(2)"
   ]
  },
  {
   "cell_type": "code",
   "execution_count": 9,
   "id": "f0abff05",
   "metadata": {},
   "outputs": [
    {
     "data": {
      "text/html": [
       "<div>\n",
       "<style scoped>\n",
       "    .dataframe tbody tr th:only-of-type {\n",
       "        vertical-align: middle;\n",
       "    }\n",
       "\n",
       "    .dataframe tbody tr th {\n",
       "        vertical-align: top;\n",
       "    }\n",
       "\n",
       "    .dataframe thead th {\n",
       "        text-align: right;\n",
       "    }\n",
       "</style>\n",
       "<table border=\"1\" class=\"dataframe\">\n",
       "  <thead>\n",
       "    <tr style=\"text-align: right;\">\n",
       "      <th></th>\n",
       "      <th>Unnamed: 0</th>\n",
       "      <th>Email Text</th>\n",
       "      <th>Email Type</th>\n",
       "    </tr>\n",
       "  </thead>\n",
       "  <tbody>\n",
       "    <tr>\n",
       "      <th>15406</th>\n",
       "      <td>15407</td>\n",
       "      <td>\\n&gt; hmm, I've never used gentoo\\n&gt; so I'll have to take your word\\n&gt; on that.  Perhaps something\\n&gt; similar to that Ximian RedHat\\n&gt; dealy would be cool.  Like\\n&gt; a gui installer for slackware![1]\\n&gt; \\n&gt; ;]\\n&gt; \\n&gt; shane\\n&gt; \\n&gt; [1]I'm shure Patrick V. would love\\n&gt; that.(not)Or slackware with ports... not portage.-- \\nIrish Linux Users' Group: ilug@linux.ie\\nhttp://www.linux.ie/mailman/listinfo/ilug for (un)subscription information.\\nList maintainer: listmaster@linux.ie\\n</td>\n",
       "      <td>Safe Email</td>\n",
       "    </tr>\n",
       "    <tr>\n",
       "      <th>11250</th>\n",
       "      <td>11251</td>\n",
       "      <td>Eugen Leitl writes:\\n&gt; Apart from twiddling with the surface albedo which might be not\\n&gt; enough -- we currently don't have ion drives with enough power, or at\\n&gt; least we can't develop and deploy them on time, My estimate is that, in the worst case, we have 17 years (5.4e8\\nseconds) to move it one earth radius, or about 6000 km (6e6 m).  \\na t^2/2 = x, if I remember right, so a = 2x/t^2, which is \\n1.2e7 m/(2.9e17 s^2), or about 4.1e-11 m/s^2, which is not a very\\nlarge acceleration, roughly equivalent to the gravitational\\nacceleration in these parts divided by 200000000000.  Assuming a\\n2km-wide --- that is, 20 000 decimeter-wide --- spherical asteroid of\\nspecific gravity 10, 4/3 pi r^3 says it would have a volume of 4e12\\ncubic decimeters and thus a mass of 4e13 kg.  The force we'd have to\\napply to achieve this acceleration would be roughly equivalent to the\\nweight of 200 kg here on Earth.So, yeah, ion drives are probably a no-go, unless I screwed up the\\ncalculations here; I think the force they typically exert is about\\nfour orders of magnitude too small.If we just wanted to hit today it with enough of an impulse that it\\nwould miss us 17 years later, we'd need to accelerate it by about 1.1\\ncm/s.  A one-ton (1000kg) mass would need to hit it at about 4e9 m/s,\\nor about ten times the speed of light, to achieve this, so that's not\\npossible.  (If you could actually put enough work into a one-ton mass,\\nas it approached the speed of light, it would mass more, so you could\\nstill do it with a one-ton mass; but we don't have anything\\napproaching that speed.)  The impulse required is inversely\\nproportional to the remaining time to impact, so if we were to hit it\\nafter half the time has elapsed, we'd need to accelerate it by around\\n2.2 cm/s instead.The gravitational force of an Earth-sized mass could provide\\nsufficient deflection if that mass were about 4.5e5 times as far away\\nfrom the asteroid as we are from Earth's center, or about 2.7e9 m, or\\nabout 0.018 times the distance from the Earth to the Sun (0.018 AU).\\n(And if that mass stayed so nearby for 17 years.)The effects of continuous acceleration benefit greatly from planning\\nahead, since they scale with t^2, not t --- and thus the needed\\nacceleration scales with 1/t^2.  After half the time has elapsed, we'd\\nneed four times as much acceleration to make it miss the Earth than if\\nwe were to start accelerating it now.All of these numbers are a little low, because the Earth presents a\\nslightly easier target than its physical size suggests, due to its\\ngravity well.  How much easier depends on the speed of the projectile\\nin ways I don't understand.They're also a little high, because they assume the force is being\\napplied purely at right angles to the asteroid's current path, which\\nis a slightly suboptimal scenario (although for velocity changes five\\norders of magnitude smaller than the relative velocity, the difference\\nis probably insignificant.)  And they assume there are no other effects on the asteroid's path.What about electrical charges?  Could we electrically charge the\\nasteroid and another nearby asteroid, perhaps with electron beams, to\\nprovide the needed acceleration?Of course, all of this calculation could be applied in the other\\ndirection, too.  If you want to sock a moon colony with a one-ton\\nasteroid, you could do it with a tiny amount of force applied over\\ntwenty-five years to adjust its orbit.***About spam: I'm sorry to admit I haven't implemented any of the better\\nsolutions, and so I'm afraid I'll have to allow non-subscriber FoRK\\nmail to be detained for scanning.  I hope this measure can be reversed\\nsoon when I have time to implement better measures.  As has often been\\nnoted by other posters, measures to reduce spam sent to the FoRK list\\nwill not significantly decrease the spam load of FoRKposters, since\\nthe vast majority of spam received by FoRKposters is sent to them\\ndirectly, not through the FoRK list.-- \\n       Kragen Sitaker     \\nSilence may not be golden, but at least it's quiet.  Don't speak unless you\\ncan improve the silence.  I have often regretted my speech, never my silence.\\n-- ancient philosopher Syrus (?) via Adam Rifkin, \\nhttp://xent.com/mailman/listinfo/fork\\n</td>\n",
       "      <td>Safe Email</td>\n",
       "    </tr>\n",
       "  </tbody>\n",
       "</table>\n",
       "</div>"
      ],
      "text/plain": [
       "       Unnamed: 0  \\\n",
       "15406       15407   \n",
       "11250       11251   \n",
       "\n",
       "                                                                                                                                                                                                                                                                                                                                                                                                                                                                                                                                                                                                                                                                                                                                                                                                                                                                                                                                                                                                                                                                                                                                                                                                                                                                                                                                                                                                                                                                                                                                                                                                                                                                                                                                                                                                                                                                                                                                                                                                                                                                                                                                                                                                                                                                                                                                                                                                                                                                                                                                                                                                                                                                                                                                                                                                                                                                                                                                                                                                                                                                                                                                                                                                                                                                                                                                                                                                                                                                                                                                                                                                                                                                                                                                                                                                                                                                                                                                                                                                                                                                                                                                                                                                                                                                                                                                                                                                                            Email Text  \\\n",
       "15406                                                                                                                                                                                                                                                                                                                                                                                                                                                                                                                                                                                                                                                                                                                                                                                                                                                                                                                                                                                                                                                                                                                                                                                                                                                                                                                                                                                                                                                                                                                                                                                                                                                                                                                                                                                                                                                                                                                                                                                                                                                                                                                                                                                                                                                                                                                                                                                                                                                                                                                                                                                                                                                                                                                                                                                                                                                                                                                                                                                                                                                                                                                                                                                                                                                                                                                                                                                                                                                                                                                                                                                                                                                                                                                                                                                                                                                                                                                                      \\n> hmm, I've never used gentoo\\n> so I'll have to take your word\\n> on that.  Perhaps something\\n> similar to that Ximian RedHat\\n> dealy would be cool.  Like\\n> a gui installer for slackware![1]\\n> \\n> ;]\\n> \\n> shane\\n> \\n> [1]I'm shure Patrick V. would love\\n> that.(not)Or slackware with ports... not portage.-- \\nIrish Linux Users' Group: ilug@linux.ie\\nhttp://www.linux.ie/mailman/listinfo/ilug for (un)subscription information.\\nList maintainer: listmaster@linux.ie\\n   \n",
       "11250  Eugen Leitl writes:\\n> Apart from twiddling with the surface albedo which might be not\\n> enough -- we currently don't have ion drives with enough power, or at\\n> least we can't develop and deploy them on time, My estimate is that, in the worst case, we have 17 years (5.4e8\\nseconds) to move it one earth radius, or about 6000 km (6e6 m).  \\na t^2/2 = x, if I remember right, so a = 2x/t^2, which is \\n1.2e7 m/(2.9e17 s^2), or about 4.1e-11 m/s^2, which is not a very\\nlarge acceleration, roughly equivalent to the gravitational\\nacceleration in these parts divided by 200000000000.  Assuming a\\n2km-wide --- that is, 20 000 decimeter-wide --- spherical asteroid of\\nspecific gravity 10, 4/3 pi r^3 says it would have a volume of 4e12\\ncubic decimeters and thus a mass of 4e13 kg.  The force we'd have to\\napply to achieve this acceleration would be roughly equivalent to the\\nweight of 200 kg here on Earth.So, yeah, ion drives are probably a no-go, unless I screwed up the\\ncalculations here; I think the force they typically exert is about\\nfour orders of magnitude too small.If we just wanted to hit today it with enough of an impulse that it\\nwould miss us 17 years later, we'd need to accelerate it by about 1.1\\ncm/s.  A one-ton (1000kg) mass would need to hit it at about 4e9 m/s,\\nor about ten times the speed of light, to achieve this, so that's not\\npossible.  (If you could actually put enough work into a one-ton mass,\\nas it approached the speed of light, it would mass more, so you could\\nstill do it with a one-ton mass; but we don't have anything\\napproaching that speed.)  The impulse required is inversely\\nproportional to the remaining time to impact, so if we were to hit it\\nafter half the time has elapsed, we'd need to accelerate it by around\\n2.2 cm/s instead.The gravitational force of an Earth-sized mass could provide\\nsufficient deflection if that mass were about 4.5e5 times as far away\\nfrom the asteroid as we are from Earth's center, or about 2.7e9 m, or\\nabout 0.018 times the distance from the Earth to the Sun (0.018 AU).\\n(And if that mass stayed so nearby for 17 years.)The effects of continuous acceleration benefit greatly from planning\\nahead, since they scale with t^2, not t --- and thus the needed\\nacceleration scales with 1/t^2.  After half the time has elapsed, we'd\\nneed four times as much acceleration to make it miss the Earth than if\\nwe were to start accelerating it now.All of these numbers are a little low, because the Earth presents a\\nslightly easier target than its physical size suggests, due to its\\ngravity well.  How much easier depends on the speed of the projectile\\nin ways I don't understand.They're also a little high, because they assume the force is being\\napplied purely at right angles to the asteroid's current path, which\\nis a slightly suboptimal scenario (although for velocity changes five\\norders of magnitude smaller than the relative velocity, the difference\\nis probably insignificant.)  And they assume there are no other effects on the asteroid's path.What about electrical charges?  Could we electrically charge the\\nasteroid and another nearby asteroid, perhaps with electron beams, to\\nprovide the needed acceleration?Of course, all of this calculation could be applied in the other\\ndirection, too.  If you want to sock a moon colony with a one-ton\\nasteroid, you could do it with a tiny amount of force applied over\\ntwenty-five years to adjust its orbit.***About spam: I'm sorry to admit I haven't implemented any of the better\\nsolutions, and so I'm afraid I'll have to allow non-subscriber FoRK\\nmail to be detained for scanning.  I hope this measure can be reversed\\nsoon when I have time to implement better measures.  As has often been\\nnoted by other posters, measures to reduce spam sent to the FoRK list\\nwill not significantly decrease the spam load of FoRKposters, since\\nthe vast majority of spam received by FoRKposters is sent to them\\ndirectly, not through the FoRK list.-- \\n       Kragen Sitaker     \\nSilence may not be golden, but at least it's quiet.  Don't speak unless you\\ncan improve the silence.  I have often regretted my speech, never my silence.\\n-- ancient philosopher Syrus (?) via Adam Rifkin, \\nhttp://xent.com/mailman/listinfo/fork\\n   \n",
       "\n",
       "       Email Type  \n",
       "15406  Safe Email  \n",
       "11250  Safe Email  "
      ]
     },
     "execution_count": 9,
     "metadata": {},
     "output_type": "execute_result"
    }
   ],
   "source": [
    "dataset.sample(2) "
   ]
  },
  {
   "cell_type": "code",
   "execution_count": 10,
   "id": "26f75c68",
   "metadata": {},
   "outputs": [
    {
     "data": {
      "text/plain": [
       "Unnamed: 0     int64\n",
       "Email Text    object\n",
       "Email Type    object\n",
       "dtype: object"
      ]
     },
     "execution_count": 10,
     "metadata": {},
     "output_type": "execute_result"
    }
   ],
   "source": [
    "dataset.dtypes"
   ]
  },
  {
   "cell_type": "code",
   "execution_count": 11,
   "id": "6e642323",
   "metadata": {},
   "outputs": [
    {
     "name": "stdout",
     "output_type": "stream",
     "text": [
      "Unique values in each column:\n",
      "Unnamed: 0    18650\n",
      "Email Text    17537\n",
      "Email Type        2\n",
      "dtype: int64\n"
     ]
    }
   ],
   "source": [
    "unique_values = dataset.nunique()\n",
    "print(\"Unique values in each column:\")\n",
    "print(unique_values)"
   ]
  },
  {
   "cell_type": "code",
   "execution_count": 12,
   "id": "1821e5ca",
   "metadata": {},
   "outputs": [
    {
     "data": {
      "text/plain": [
       "Email Type\n",
       "Safe Email        11322\n",
       "Phishing Email     7328\n",
       "Name: count, dtype: int64"
      ]
     },
     "execution_count": 12,
     "metadata": {},
     "output_type": "execute_result"
    }
   ],
   "source": [
    "dataset['Email Type'].value_counts()"
   ]
  },
  {
   "cell_type": "code",
   "execution_count": 13,
   "id": "a65bb7d2",
   "metadata": {},
   "outputs": [
    {
     "data": {
      "text/plain": [
       "Unnamed: 0     0\n",
       "Email Text    16\n",
       "Email Type     0\n",
       "dtype: int64"
      ]
     },
     "execution_count": 13,
     "metadata": {},
     "output_type": "execute_result"
    }
   ],
   "source": [
    "dataset.isna().sum()"
   ]
  },
  {
   "cell_type": "code",
   "execution_count": null,
   "id": "891b810c",
   "metadata": {},
   "outputs": [],
   "source": [
    "dataset = dataset.dropna()"
   ]
  },
  {
   "cell_type": "code",
   "execution_count": 15,
   "id": "1cedfe6d",
   "metadata": {},
   "outputs": [
    {
     "data": {
      "text/plain": [
       "(18634, 3)"
      ]
     },
     "execution_count": 15,
     "metadata": {},
     "output_type": "execute_result"
    }
   ],
   "source": [
    "dataset.shape"
   ]
  },
  {
   "cell_type": "code",
   "execution_count": 16,
   "id": "6e3441b1",
   "metadata": {},
   "outputs": [],
   "source": [
    "dataset['Email Type'] = dataset['Email Type'].replace({\n",
    "    'Safe Email': 0,\n",
    "    'Phishing Email': 1\n",
    "})\n"
   ]
  },
  {
   "cell_type": "code",
   "execution_count": 17,
   "id": "3567fe3a",
   "metadata": {},
   "outputs": [],
   "source": [
    "dataset.to_csv(\"Phishing_Email_Processed.csv\", index=False)"
   ]
  },
  {
   "cell_type": "code",
   "execution_count": 18,
   "id": "cb664620",
   "metadata": {},
   "outputs": [
    {
     "data": {
      "text/plain": [
       "Email Type\n",
       "0    500\n",
       "1    500\n",
       "Name: count, dtype: int64"
      ]
     },
     "execution_count": 18,
     "metadata": {},
     "output_type": "execute_result"
    }
   ],
   "source": [
    "N = 500\n",
    "\n",
    "data_r = dataset.groupby('Email Type').sample(n=N, random_state=786)\n",
    "\n",
    "data_r['Email Type'].value_counts()"
   ]
  },
  {
   "cell_type": "code",
   "execution_count": 19,
   "id": "989306fe",
   "metadata": {},
   "outputs": [],
   "source": [
    "data_r.to_csv(\"Phishing_Email_Reduced.csv\", index=False)"
   ]
  },
  {
   "cell_type": "code",
   "execution_count": 20,
   "id": "857fa5f9",
   "metadata": {},
   "outputs": [],
   "source": [
    "data = data_r.sample(frac=0.95, random_state=786)\n",
    "data_indices = data.index\n",
    "data = data.reset_index(drop=True)"
   ]
  },
  {
   "cell_type": "code",
   "execution_count": 21,
   "id": "3ac0546b",
   "metadata": {},
   "outputs": [],
   "source": [
    "data_unseen = data_r.drop(data_indices)\n",
    "data_unseen = data_unseen.reset_index(drop=True)"
   ]
  },
  {
   "cell_type": "code",
   "execution_count": 22,
   "id": "a47752a6",
   "metadata": {},
   "outputs": [],
   "source": [
    "from pycaret.classification import *"
   ]
  },
  {
   "cell_type": "code",
   "execution_count": 23,
   "id": "05f6f612",
   "metadata": {},
   "outputs": [
    {
     "data": {
      "text/html": [
       "<style type=\"text/css\">\n",
       "#T_7a856_row9_col1 {\n",
       "  background-color: lightgreen;\n",
       "}\n",
       "</style>\n",
       "<table id=\"T_7a856\">\n",
       "  <thead>\n",
       "    <tr>\n",
       "      <th class=\"blank level0\" >&nbsp;</th>\n",
       "      <th id=\"T_7a856_level0_col0\" class=\"col_heading level0 col0\" >Description</th>\n",
       "      <th id=\"T_7a856_level0_col1\" class=\"col_heading level0 col1\" >Value</th>\n",
       "    </tr>\n",
       "  </thead>\n",
       "  <tbody>\n",
       "    <tr>\n",
       "      <th id=\"T_7a856_level0_row0\" class=\"row_heading level0 row0\" >0</th>\n",
       "      <td id=\"T_7a856_row0_col0\" class=\"data row0 col0\" >Session id</td>\n",
       "      <td id=\"T_7a856_row0_col1\" class=\"data row0 col1\" >42</td>\n",
       "    </tr>\n",
       "    <tr>\n",
       "      <th id=\"T_7a856_level0_row1\" class=\"row_heading level0 row1\" >1</th>\n",
       "      <td id=\"T_7a856_row1_col0\" class=\"data row1 col0\" >Target</td>\n",
       "      <td id=\"T_7a856_row1_col1\" class=\"data row1 col1\" >Email Type</td>\n",
       "    </tr>\n",
       "    <tr>\n",
       "      <th id=\"T_7a856_level0_row2\" class=\"row_heading level0 row2\" >2</th>\n",
       "      <td id=\"T_7a856_row2_col0\" class=\"data row2 col0\" >Target type</td>\n",
       "      <td id=\"T_7a856_row2_col1\" class=\"data row2 col1\" >Binary</td>\n",
       "    </tr>\n",
       "    <tr>\n",
       "      <th id=\"T_7a856_level0_row3\" class=\"row_heading level0 row3\" >3</th>\n",
       "      <td id=\"T_7a856_row3_col0\" class=\"data row3 col0\" >Original data shape</td>\n",
       "      <td id=\"T_7a856_row3_col1\" class=\"data row3 col1\" >(950, 3)</td>\n",
       "    </tr>\n",
       "    <tr>\n",
       "      <th id=\"T_7a856_level0_row4\" class=\"row_heading level0 row4\" >4</th>\n",
       "      <td id=\"T_7a856_row4_col0\" class=\"data row4 col0\" >Transformed data shape</td>\n",
       "      <td id=\"T_7a856_row4_col1\" class=\"data row4 col1\" >(950, 20727)</td>\n",
       "    </tr>\n",
       "    <tr>\n",
       "      <th id=\"T_7a856_level0_row5\" class=\"row_heading level0 row5\" >5</th>\n",
       "      <td id=\"T_7a856_row5_col0\" class=\"data row5 col0\" >Transformed train set shape</td>\n",
       "      <td id=\"T_7a856_row5_col1\" class=\"data row5 col1\" >(665, 20727)</td>\n",
       "    </tr>\n",
       "    <tr>\n",
       "      <th id=\"T_7a856_level0_row6\" class=\"row_heading level0 row6\" >6</th>\n",
       "      <td id=\"T_7a856_row6_col0\" class=\"data row6 col0\" >Transformed test set shape</td>\n",
       "      <td id=\"T_7a856_row6_col1\" class=\"data row6 col1\" >(285, 20727)</td>\n",
       "    </tr>\n",
       "    <tr>\n",
       "      <th id=\"T_7a856_level0_row7\" class=\"row_heading level0 row7\" >7</th>\n",
       "      <td id=\"T_7a856_row7_col0\" class=\"data row7 col0\" >Numeric features</td>\n",
       "      <td id=\"T_7a856_row7_col1\" class=\"data row7 col1\" >1</td>\n",
       "    </tr>\n",
       "    <tr>\n",
       "      <th id=\"T_7a856_level0_row8\" class=\"row_heading level0 row8\" >8</th>\n",
       "      <td id=\"T_7a856_row8_col0\" class=\"data row8 col0\" >Text features</td>\n",
       "      <td id=\"T_7a856_row8_col1\" class=\"data row8 col1\" >1</td>\n",
       "    </tr>\n",
       "    <tr>\n",
       "      <th id=\"T_7a856_level0_row9\" class=\"row_heading level0 row9\" >9</th>\n",
       "      <td id=\"T_7a856_row9_col0\" class=\"data row9 col0\" >Preprocess</td>\n",
       "      <td id=\"T_7a856_row9_col1\" class=\"data row9 col1\" >True</td>\n",
       "    </tr>\n",
       "    <tr>\n",
       "      <th id=\"T_7a856_level0_row10\" class=\"row_heading level0 row10\" >10</th>\n",
       "      <td id=\"T_7a856_row10_col0\" class=\"data row10 col0\" >Imputation type</td>\n",
       "      <td id=\"T_7a856_row10_col1\" class=\"data row10 col1\" >simple</td>\n",
       "    </tr>\n",
       "    <tr>\n",
       "      <th id=\"T_7a856_level0_row11\" class=\"row_heading level0 row11\" >11</th>\n",
       "      <td id=\"T_7a856_row11_col0\" class=\"data row11 col0\" >Numeric imputation</td>\n",
       "      <td id=\"T_7a856_row11_col1\" class=\"data row11 col1\" >mean</td>\n",
       "    </tr>\n",
       "    <tr>\n",
       "      <th id=\"T_7a856_level0_row12\" class=\"row_heading level0 row12\" >12</th>\n",
       "      <td id=\"T_7a856_row12_col0\" class=\"data row12 col0\" >Categorical imputation</td>\n",
       "      <td id=\"T_7a856_row12_col1\" class=\"data row12 col1\" >mode</td>\n",
       "    </tr>\n",
       "    <tr>\n",
       "      <th id=\"T_7a856_level0_row13\" class=\"row_heading level0 row13\" >13</th>\n",
       "      <td id=\"T_7a856_row13_col0\" class=\"data row13 col0\" >Text features embedding method</td>\n",
       "      <td id=\"T_7a856_row13_col1\" class=\"data row13 col1\" >tf-idf</td>\n",
       "    </tr>\n",
       "    <tr>\n",
       "      <th id=\"T_7a856_level0_row14\" class=\"row_heading level0 row14\" >14</th>\n",
       "      <td id=\"T_7a856_row14_col0\" class=\"data row14 col0\" >Fold Generator</td>\n",
       "      <td id=\"T_7a856_row14_col1\" class=\"data row14 col1\" >StratifiedKFold</td>\n",
       "    </tr>\n",
       "    <tr>\n",
       "      <th id=\"T_7a856_level0_row15\" class=\"row_heading level0 row15\" >15</th>\n",
       "      <td id=\"T_7a856_row15_col0\" class=\"data row15 col0\" >Fold Number</td>\n",
       "      <td id=\"T_7a856_row15_col1\" class=\"data row15 col1\" >10</td>\n",
       "    </tr>\n",
       "    <tr>\n",
       "      <th id=\"T_7a856_level0_row16\" class=\"row_heading level0 row16\" >16</th>\n",
       "      <td id=\"T_7a856_row16_col0\" class=\"data row16 col0\" >CPU Jobs</td>\n",
       "      <td id=\"T_7a856_row16_col1\" class=\"data row16 col1\" >-1</td>\n",
       "    </tr>\n",
       "    <tr>\n",
       "      <th id=\"T_7a856_level0_row17\" class=\"row_heading level0 row17\" >17</th>\n",
       "      <td id=\"T_7a856_row17_col0\" class=\"data row17 col0\" >Use GPU</td>\n",
       "      <td id=\"T_7a856_row17_col1\" class=\"data row17 col1\" >False</td>\n",
       "    </tr>\n",
       "    <tr>\n",
       "      <th id=\"T_7a856_level0_row18\" class=\"row_heading level0 row18\" >18</th>\n",
       "      <td id=\"T_7a856_row18_col0\" class=\"data row18 col0\" >Log Experiment</td>\n",
       "      <td id=\"T_7a856_row18_col1\" class=\"data row18 col1\" >False</td>\n",
       "    </tr>\n",
       "    <tr>\n",
       "      <th id=\"T_7a856_level0_row19\" class=\"row_heading level0 row19\" >19</th>\n",
       "      <td id=\"T_7a856_row19_col0\" class=\"data row19 col0\" >Experiment Name</td>\n",
       "      <td id=\"T_7a856_row19_col1\" class=\"data row19 col1\" >clf-default-name</td>\n",
       "    </tr>\n",
       "    <tr>\n",
       "      <th id=\"T_7a856_level0_row20\" class=\"row_heading level0 row20\" >20</th>\n",
       "      <td id=\"T_7a856_row20_col0\" class=\"data row20 col0\" >USI</td>\n",
       "      <td id=\"T_7a856_row20_col1\" class=\"data row20 col1\" >2246</td>\n",
       "    </tr>\n",
       "  </tbody>\n",
       "</table>\n"
      ],
      "text/plain": [
       "<pandas.io.formats.style.Styler at 0x281337a1720>"
      ]
     },
     "metadata": {},
     "output_type": "display_data"
    }
   ],
   "source": [
    "exp = setup(\n",
    "    data=data,\n",
    "    target='Email Type',                \n",
    "    text_features=['Email Text'], \n",
    "    session_id=42,\n",
    ")"
   ]
  },
  {
   "cell_type": "code",
   "execution_count": 24,
   "id": "adfcab66",
   "metadata": {},
   "outputs": [
    {
     "data": {
      "text/html": [],
      "text/plain": [
       "<IPython.core.display.HTML object>"
      ]
     },
     "metadata": {},
     "output_type": "display_data"
    },
    {
     "data": {
      "text/html": [
       "<style type=\"text/css\">\n",
       "#T_58fca th {\n",
       "  text-align: left;\n",
       "}\n",
       "#T_58fca_row0_col0, #T_58fca_row0_col3, #T_58fca_row0_col4, #T_58fca_row1_col0, #T_58fca_row1_col1, #T_58fca_row1_col2, #T_58fca_row1_col3, #T_58fca_row1_col5, #T_58fca_row1_col6, #T_58fca_row1_col7, #T_58fca_row2_col0, #T_58fca_row2_col1, #T_58fca_row2_col2, #T_58fca_row2_col3, #T_58fca_row2_col4, #T_58fca_row2_col5, #T_58fca_row2_col6, #T_58fca_row2_col7, #T_58fca_row3_col0, #T_58fca_row3_col1, #T_58fca_row3_col2, #T_58fca_row3_col3, #T_58fca_row3_col4, #T_58fca_row3_col5, #T_58fca_row3_col6, #T_58fca_row3_col7, #T_58fca_row4_col0, #T_58fca_row4_col1, #T_58fca_row4_col2, #T_58fca_row4_col3, #T_58fca_row4_col4, #T_58fca_row4_col5, #T_58fca_row4_col6, #T_58fca_row4_col7, #T_58fca_row5_col0, #T_58fca_row5_col1, #T_58fca_row5_col2, #T_58fca_row5_col3, #T_58fca_row5_col4, #T_58fca_row5_col5, #T_58fca_row5_col6, #T_58fca_row5_col7, #T_58fca_row6_col0, #T_58fca_row6_col1, #T_58fca_row6_col2, #T_58fca_row6_col3, #T_58fca_row6_col4, #T_58fca_row6_col5, #T_58fca_row6_col6, #T_58fca_row6_col7, #T_58fca_row7_col0, #T_58fca_row7_col1, #T_58fca_row7_col2, #T_58fca_row7_col3, #T_58fca_row7_col4, #T_58fca_row7_col5, #T_58fca_row7_col6, #T_58fca_row7_col7, #T_58fca_row8_col0, #T_58fca_row8_col1, #T_58fca_row8_col2, #T_58fca_row8_col3, #T_58fca_row8_col4, #T_58fca_row8_col5, #T_58fca_row8_col6, #T_58fca_row8_col7, #T_58fca_row9_col0, #T_58fca_row9_col1, #T_58fca_row9_col2, #T_58fca_row9_col3, #T_58fca_row9_col4, #T_58fca_row9_col5, #T_58fca_row9_col6, #T_58fca_row9_col7, #T_58fca_row10_col0, #T_58fca_row10_col1, #T_58fca_row10_col2, #T_58fca_row10_col4, #T_58fca_row10_col5, #T_58fca_row10_col6, #T_58fca_row10_col7, #T_58fca_row11_col0, #T_58fca_row11_col1, #T_58fca_row11_col2, #T_58fca_row11_col3, #T_58fca_row11_col4, #T_58fca_row11_col5, #T_58fca_row11_col6, #T_58fca_row11_col7, #T_58fca_row12_col0, #T_58fca_row12_col1, #T_58fca_row12_col2, #T_58fca_row12_col3, #T_58fca_row12_col4, #T_58fca_row12_col5, #T_58fca_row12_col6, #T_58fca_row12_col7, #T_58fca_row13_col0, #T_58fca_row13_col1, #T_58fca_row13_col2, #T_58fca_row13_col3, #T_58fca_row13_col4, #T_58fca_row13_col5, #T_58fca_row13_col6, #T_58fca_row13_col7, #T_58fca_row14_col0, #T_58fca_row14_col1, #T_58fca_row14_col2, #T_58fca_row14_col3, #T_58fca_row14_col4, #T_58fca_row14_col5, #T_58fca_row14_col6, #T_58fca_row14_col7, #T_58fca_row15_col0, #T_58fca_row15_col1, #T_58fca_row15_col2, #T_58fca_row15_col3, #T_58fca_row15_col4, #T_58fca_row15_col5, #T_58fca_row15_col6, #T_58fca_row15_col7 {\n",
       "  text-align: left;\n",
       "}\n",
       "#T_58fca_row0_col1, #T_58fca_row0_col2, #T_58fca_row0_col5, #T_58fca_row0_col6, #T_58fca_row0_col7, #T_58fca_row1_col4, #T_58fca_row10_col3 {\n",
       "  text-align: left;\n",
       "  background-color: yellow;\n",
       "}\n",
       "#T_58fca_row0_col8, #T_58fca_row1_col8, #T_58fca_row2_col8, #T_58fca_row3_col8, #T_58fca_row4_col8, #T_58fca_row5_col8, #T_58fca_row6_col8, #T_58fca_row7_col8, #T_58fca_row8_col8, #T_58fca_row9_col8, #T_58fca_row10_col8, #T_58fca_row11_col8, #T_58fca_row12_col8, #T_58fca_row13_col8, #T_58fca_row15_col8 {\n",
       "  text-align: left;\n",
       "  background-color: lightgrey;\n",
       "}\n",
       "#T_58fca_row14_col8 {\n",
       "  text-align: left;\n",
       "  background-color: yellow;\n",
       "  background-color: lightgrey;\n",
       "}\n",
       "</style>\n",
       "<table id=\"T_58fca\">\n",
       "  <thead>\n",
       "    <tr>\n",
       "      <th class=\"blank level0\" >&nbsp;</th>\n",
       "      <th id=\"T_58fca_level0_col0\" class=\"col_heading level0 col0\" >Model</th>\n",
       "      <th id=\"T_58fca_level0_col1\" class=\"col_heading level0 col1\" >Accuracy</th>\n",
       "      <th id=\"T_58fca_level0_col2\" class=\"col_heading level0 col2\" >AUC</th>\n",
       "      <th id=\"T_58fca_level0_col3\" class=\"col_heading level0 col3\" >Recall</th>\n",
       "      <th id=\"T_58fca_level0_col4\" class=\"col_heading level0 col4\" >Prec.</th>\n",
       "      <th id=\"T_58fca_level0_col5\" class=\"col_heading level0 col5\" >F1</th>\n",
       "      <th id=\"T_58fca_level0_col6\" class=\"col_heading level0 col6\" >Kappa</th>\n",
       "      <th id=\"T_58fca_level0_col7\" class=\"col_heading level0 col7\" >MCC</th>\n",
       "      <th id=\"T_58fca_level0_col8\" class=\"col_heading level0 col8\" >TT (Sec)</th>\n",
       "    </tr>\n",
       "  </thead>\n",
       "  <tbody>\n",
       "    <tr>\n",
       "      <th id=\"T_58fca_level0_row0\" class=\"row_heading level0 row0\" >ridge</th>\n",
       "      <td id=\"T_58fca_row0_col0\" class=\"data row0 col0\" >Ridge Classifier</td>\n",
       "      <td id=\"T_58fca_row0_col1\" class=\"data row0 col1\" >0.9519</td>\n",
       "      <td id=\"T_58fca_row0_col2\" class=\"data row0 col2\" >0.9868</td>\n",
       "      <td id=\"T_58fca_row0_col3\" class=\"data row0 col3\" >0.9577</td>\n",
       "      <td id=\"T_58fca_row0_col4\" class=\"data row0 col4\" >0.9484</td>\n",
       "      <td id=\"T_58fca_row0_col5\" class=\"data row0 col5\" >0.9523</td>\n",
       "      <td id=\"T_58fca_row0_col6\" class=\"data row0 col6\" >0.9037</td>\n",
       "      <td id=\"T_58fca_row0_col7\" class=\"data row0 col7\" >0.9052</td>\n",
       "      <td id=\"T_58fca_row0_col8\" class=\"data row0 col8\" >0.9340</td>\n",
       "    </tr>\n",
       "    <tr>\n",
       "      <th id=\"T_58fca_level0_row1\" class=\"row_heading level0 row1\" >lr</th>\n",
       "      <td id=\"T_58fca_row1_col0\" class=\"data row1 col0\" >Logistic Regression</td>\n",
       "      <td id=\"T_58fca_row1_col1\" class=\"data row1 col1\" >0.9444</td>\n",
       "      <td id=\"T_58fca_row1_col2\" class=\"data row1 col2\" >0.9799</td>\n",
       "      <td id=\"T_58fca_row1_col3\" class=\"data row1 col3\" >0.9337</td>\n",
       "      <td id=\"T_58fca_row1_col4\" class=\"data row1 col4\" >0.9555</td>\n",
       "      <td id=\"T_58fca_row1_col5\" class=\"data row1 col5\" >0.9439</td>\n",
       "      <td id=\"T_58fca_row1_col6\" class=\"data row1 col6\" >0.8887</td>\n",
       "      <td id=\"T_58fca_row1_col7\" class=\"data row1 col7\" >0.8900</td>\n",
       "      <td id=\"T_58fca_row1_col8\" class=\"data row1 col8\" >6.1320</td>\n",
       "    </tr>\n",
       "    <tr>\n",
       "      <th id=\"T_58fca_level0_row2\" class=\"row_heading level0 row2\" >lda</th>\n",
       "      <td id=\"T_58fca_row2_col0\" class=\"data row2 col0\" >Linear Discriminant Analysis</td>\n",
       "      <td id=\"T_58fca_row2_col1\" class=\"data row2 col1\" >0.9370</td>\n",
       "      <td id=\"T_58fca_row2_col2\" class=\"data row2 col2\" >0.9755</td>\n",
       "      <td id=\"T_58fca_row2_col3\" class=\"data row2 col3\" >0.9668</td>\n",
       "      <td id=\"T_58fca_row2_col4\" class=\"data row2 col4\" >0.9146</td>\n",
       "      <td id=\"T_58fca_row2_col5\" class=\"data row2 col5\" >0.9392</td>\n",
       "      <td id=\"T_58fca_row2_col6\" class=\"data row2 col6\" >0.8740</td>\n",
       "      <td id=\"T_58fca_row2_col7\" class=\"data row2 col7\" >0.8771</td>\n",
       "      <td id=\"T_58fca_row2_col8\" class=\"data row2 col8\" >5.4860</td>\n",
       "    </tr>\n",
       "    <tr>\n",
       "      <th id=\"T_58fca_level0_row3\" class=\"row_heading level0 row3\" >rf</th>\n",
       "      <td id=\"T_58fca_row3_col0\" class=\"data row3 col0\" >Random Forest Classifier</td>\n",
       "      <td id=\"T_58fca_row3_col1\" class=\"data row3 col1\" >0.9309</td>\n",
       "      <td id=\"T_58fca_row3_col2\" class=\"data row3 col2\" >0.9636</td>\n",
       "      <td id=\"T_58fca_row3_col3\" class=\"data row3 col3\" >0.9518</td>\n",
       "      <td id=\"T_58fca_row3_col4\" class=\"data row3 col4\" >0.9165</td>\n",
       "      <td id=\"T_58fca_row3_col5\" class=\"data row3 col5\" >0.9326</td>\n",
       "      <td id=\"T_58fca_row3_col6\" class=\"data row3 col6\" >0.8619</td>\n",
       "      <td id=\"T_58fca_row3_col7\" class=\"data row3 col7\" >0.8648</td>\n",
       "      <td id=\"T_58fca_row3_col8\" class=\"data row3 col8\" >1.1510</td>\n",
       "    </tr>\n",
       "    <tr>\n",
       "      <th id=\"T_58fca_level0_row4\" class=\"row_heading level0 row4\" >et</th>\n",
       "      <td id=\"T_58fca_row4_col0\" class=\"data row4 col0\" >Extra Trees Classifier</td>\n",
       "      <td id=\"T_58fca_row4_col1\" class=\"data row4 col1\" >0.9309</td>\n",
       "      <td id=\"T_58fca_row4_col2\" class=\"data row4 col2\" >0.9678</td>\n",
       "      <td id=\"T_58fca_row4_col3\" class=\"data row4 col3\" >0.9459</td>\n",
       "      <td id=\"T_58fca_row4_col4\" class=\"data row4 col4\" >0.9205</td>\n",
       "      <td id=\"T_58fca_row4_col5\" class=\"data row4 col5\" >0.9322</td>\n",
       "      <td id=\"T_58fca_row4_col6\" class=\"data row4 col6\" >0.8618</td>\n",
       "      <td id=\"T_58fca_row4_col7\" class=\"data row4 col7\" >0.8638</td>\n",
       "      <td id=\"T_58fca_row4_col8\" class=\"data row4 col8\" >1.5210</td>\n",
       "    </tr>\n",
       "    <tr>\n",
       "      <th id=\"T_58fca_level0_row5\" class=\"row_heading level0 row5\" >catboost</th>\n",
       "      <td id=\"T_58fca_row5_col0\" class=\"data row5 col0\" >CatBoost Classifier</td>\n",
       "      <td id=\"T_58fca_row5_col1\" class=\"data row5 col1\" >0.9309</td>\n",
       "      <td id=\"T_58fca_row5_col2\" class=\"data row5 col2\" >0.9774</td>\n",
       "      <td id=\"T_58fca_row5_col3\" class=\"data row5 col3\" >0.9577</td>\n",
       "      <td id=\"T_58fca_row5_col4\" class=\"data row5 col4\" >0.9104</td>\n",
       "      <td id=\"T_58fca_row5_col5\" class=\"data row5 col5\" >0.9324</td>\n",
       "      <td id=\"T_58fca_row5_col6\" class=\"data row5 col6\" >0.8618</td>\n",
       "      <td id=\"T_58fca_row5_col7\" class=\"data row5 col7\" >0.8652</td>\n",
       "      <td id=\"T_58fca_row5_col8\" class=\"data row5 col8\" >78.8290</td>\n",
       "    </tr>\n",
       "    <tr>\n",
       "      <th id=\"T_58fca_level0_row6\" class=\"row_heading level0 row6\" >lightgbm</th>\n",
       "      <td id=\"T_58fca_row6_col0\" class=\"data row6 col0\" >Light Gradient Boosting Machine</td>\n",
       "      <td id=\"T_58fca_row6_col1\" class=\"data row6 col1\" >0.8993</td>\n",
       "      <td id=\"T_58fca_row6_col2\" class=\"data row6 col2\" >0.9626</td>\n",
       "      <td id=\"T_58fca_row6_col3\" class=\"data row6 col3\" >0.9008</td>\n",
       "      <td id=\"T_58fca_row6_col4\" class=\"data row6 col4\" >0.8996</td>\n",
       "      <td id=\"T_58fca_row6_col5\" class=\"data row6 col5\" >0.8994</td>\n",
       "      <td id=\"T_58fca_row6_col6\" class=\"data row6 col6\" >0.7986</td>\n",
       "      <td id=\"T_58fca_row6_col7\" class=\"data row6 col7\" >0.7999</td>\n",
       "      <td id=\"T_58fca_row6_col8\" class=\"data row6 col8\" >1.3260</td>\n",
       "    </tr>\n",
       "    <tr>\n",
       "      <th id=\"T_58fca_level0_row7\" class=\"row_heading level0 row7\" >gbc</th>\n",
       "      <td id=\"T_58fca_row7_col0\" class=\"data row7 col0\" >Gradient Boosting Classifier</td>\n",
       "      <td id=\"T_58fca_row7_col1\" class=\"data row7 col1\" >0.8949</td>\n",
       "      <td id=\"T_58fca_row7_col2\" class=\"data row7 col2\" >0.9634</td>\n",
       "      <td id=\"T_58fca_row7_col3\" class=\"data row7 col3\" >0.9004</td>\n",
       "      <td id=\"T_58fca_row7_col4\" class=\"data row7 col4\" >0.8926</td>\n",
       "      <td id=\"T_58fca_row7_col5\" class=\"data row7 col5\" >0.8947</td>\n",
       "      <td id=\"T_58fca_row7_col6\" class=\"data row7 col6\" >0.7898</td>\n",
       "      <td id=\"T_58fca_row7_col7\" class=\"data row7 col7\" >0.7930</td>\n",
       "      <td id=\"T_58fca_row7_col8\" class=\"data row7 col8\" >6.2370</td>\n",
       "    </tr>\n",
       "    <tr>\n",
       "      <th id=\"T_58fca_level0_row8\" class=\"row_heading level0 row8\" >ada</th>\n",
       "      <td id=\"T_58fca_row8_col0\" class=\"data row8 col0\" >Ada Boost Classifier</td>\n",
       "      <td id=\"T_58fca_row8_col1\" class=\"data row8 col1\" >0.8903</td>\n",
       "      <td id=\"T_58fca_row8_col2\" class=\"data row8 col2\" >0.9407</td>\n",
       "      <td id=\"T_58fca_row8_col3\" class=\"data row8 col3\" >0.9005</td>\n",
       "      <td id=\"T_58fca_row8_col4\" class=\"data row8 col4\" >0.8827</td>\n",
       "      <td id=\"T_58fca_row8_col5\" class=\"data row8 col5\" >0.8909</td>\n",
       "      <td id=\"T_58fca_row8_col6\" class=\"data row8 col6\" >0.7805</td>\n",
       "      <td id=\"T_58fca_row8_col7\" class=\"data row8 col7\" >0.7820</td>\n",
       "      <td id=\"T_58fca_row8_col8\" class=\"data row8 col8\" >3.4940</td>\n",
       "    </tr>\n",
       "    <tr>\n",
       "      <th id=\"T_58fca_level0_row9\" class=\"row_heading level0 row9\" >xgboost</th>\n",
       "      <td id=\"T_58fca_row9_col0\" class=\"data row9 col0\" >Extreme Gradient Boosting</td>\n",
       "      <td id=\"T_58fca_row9_col1\" class=\"data row9 col1\" >0.8888</td>\n",
       "      <td id=\"T_58fca_row9_col2\" class=\"data row9 col2\" >0.9567</td>\n",
       "      <td id=\"T_58fca_row9_col3\" class=\"data row9 col3\" >0.9006</td>\n",
       "      <td id=\"T_58fca_row9_col4\" class=\"data row9 col4\" >0.8820</td>\n",
       "      <td id=\"T_58fca_row9_col5\" class=\"data row9 col5\" >0.8901</td>\n",
       "      <td id=\"T_58fca_row9_col6\" class=\"data row9 col6\" >0.7775</td>\n",
       "      <td id=\"T_58fca_row9_col7\" class=\"data row9 col7\" >0.7799</td>\n",
       "      <td id=\"T_58fca_row9_col8\" class=\"data row9 col8\" >8.5580</td>\n",
       "    </tr>\n",
       "    <tr>\n",
       "      <th id=\"T_58fca_level0_row10\" class=\"row_heading level0 row10\" >nb</th>\n",
       "      <td id=\"T_58fca_row10_col0\" class=\"data row10 col0\" >Naive Bayes</td>\n",
       "      <td id=\"T_58fca_row10_col1\" class=\"data row10 col1\" >0.8633</td>\n",
       "      <td id=\"T_58fca_row10_col2\" class=\"data row10 col2\" >0.9665</td>\n",
       "      <td id=\"T_58fca_row10_col3\" class=\"data row10 col3\" >0.9730</td>\n",
       "      <td id=\"T_58fca_row10_col4\" class=\"data row10 col4\" >0.8000</td>\n",
       "      <td id=\"T_58fca_row10_col5\" class=\"data row10 col5\" >0.8773</td>\n",
       "      <td id=\"T_58fca_row10_col6\" class=\"data row10 col6\" >0.7265</td>\n",
       "      <td id=\"T_58fca_row10_col7\" class=\"data row10 col7\" >0.7460</td>\n",
       "      <td id=\"T_58fca_row10_col8\" class=\"data row10 col8\" >0.9130</td>\n",
       "    </tr>\n",
       "    <tr>\n",
       "      <th id=\"T_58fca_level0_row11\" class=\"row_heading level0 row11\" >dt</th>\n",
       "      <td id=\"T_58fca_row11_col0\" class=\"data row11 col0\" >Decision Tree Classifier</td>\n",
       "      <td id=\"T_58fca_row11_col1\" class=\"data row11 col1\" >0.8030</td>\n",
       "      <td id=\"T_58fca_row11_col2\" class=\"data row11 col2\" >0.8031</td>\n",
       "      <td id=\"T_58fca_row11_col3\" class=\"data row11 col3\" >0.8225</td>\n",
       "      <td id=\"T_58fca_row11_col4\" class=\"data row11 col4\" >0.7945</td>\n",
       "      <td id=\"T_58fca_row11_col5\" class=\"data row11 col5\" >0.8059</td>\n",
       "      <td id=\"T_58fca_row11_col6\" class=\"data row11 col6\" >0.6060</td>\n",
       "      <td id=\"T_58fca_row11_col7\" class=\"data row11 col7\" >0.6105</td>\n",
       "      <td id=\"T_58fca_row11_col8\" class=\"data row11 col8\" >0.8730</td>\n",
       "    </tr>\n",
       "    <tr>\n",
       "      <th id=\"T_58fca_level0_row12\" class=\"row_heading level0 row12\" >qda</th>\n",
       "      <td id=\"T_58fca_row12_col0\" class=\"data row12 col0\" >Quadratic Discriminant Analysis</td>\n",
       "      <td id=\"T_58fca_row12_col1\" class=\"data row12 col1\" >0.5322</td>\n",
       "      <td id=\"T_58fca_row12_col2\" class=\"data row12 col2\" >0.5267</td>\n",
       "      <td id=\"T_58fca_row12_col3\" class=\"data row12 col3\" >0.1472</td>\n",
       "      <td id=\"T_58fca_row12_col4\" class=\"data row12 col4\" >0.6624</td>\n",
       "      <td id=\"T_58fca_row12_col5\" class=\"data row12 col5\" >0.2260</td>\n",
       "      <td id=\"T_58fca_row12_col6\" class=\"data row12 col6\" >0.0632</td>\n",
       "      <td id=\"T_58fca_row12_col7\" class=\"data row12 col7\" >0.0998</td>\n",
       "      <td id=\"T_58fca_row12_col8\" class=\"data row12 col8\" >4.0780</td>\n",
       "    </tr>\n",
       "    <tr>\n",
       "      <th id=\"T_58fca_level0_row13\" class=\"row_heading level0 row13\" >knn</th>\n",
       "      <td id=\"T_58fca_row13_col0\" class=\"data row13 col0\" >K Neighbors Classifier</td>\n",
       "      <td id=\"T_58fca_row13_col1\" class=\"data row13 col1\" >0.5232</td>\n",
       "      <td id=\"T_58fca_row13_col2\" class=\"data row13 col2\" >0.5289</td>\n",
       "      <td id=\"T_58fca_row13_col3\" class=\"data row13 col3\" >0.5392</td>\n",
       "      <td id=\"T_58fca_row13_col4\" class=\"data row13 col4\" >0.5228</td>\n",
       "      <td id=\"T_58fca_row13_col5\" class=\"data row13 col5\" >0.5299</td>\n",
       "      <td id=\"T_58fca_row13_col6\" class=\"data row13 col6\" >0.0467</td>\n",
       "      <td id=\"T_58fca_row13_col7\" class=\"data row13 col7\" >0.0466</td>\n",
       "      <td id=\"T_58fca_row13_col8\" class=\"data row13 col8\" >0.7830</td>\n",
       "    </tr>\n",
       "    <tr>\n",
       "      <th id=\"T_58fca_level0_row14\" class=\"row_heading level0 row14\" >dummy</th>\n",
       "      <td id=\"T_58fca_row14_col0\" class=\"data row14 col0\" >Dummy Classifier</td>\n",
       "      <td id=\"T_58fca_row14_col1\" class=\"data row14 col1\" >0.5007</td>\n",
       "      <td id=\"T_58fca_row14_col2\" class=\"data row14 col2\" >0.5000</td>\n",
       "      <td id=\"T_58fca_row14_col3\" class=\"data row14 col3\" >0.0000</td>\n",
       "      <td id=\"T_58fca_row14_col4\" class=\"data row14 col4\" >0.0000</td>\n",
       "      <td id=\"T_58fca_row14_col5\" class=\"data row14 col5\" >0.0000</td>\n",
       "      <td id=\"T_58fca_row14_col6\" class=\"data row14 col6\" >0.0000</td>\n",
       "      <td id=\"T_58fca_row14_col7\" class=\"data row14 col7\" >0.0000</td>\n",
       "      <td id=\"T_58fca_row14_col8\" class=\"data row14 col8\" >0.7150</td>\n",
       "    </tr>\n",
       "    <tr>\n",
       "      <th id=\"T_58fca_level0_row15\" class=\"row_heading level0 row15\" >svm</th>\n",
       "      <td id=\"T_58fca_row15_col0\" class=\"data row15 col0\" >SVM - Linear Kernel</td>\n",
       "      <td id=\"T_58fca_row15_col1\" class=\"data row15 col1\" >0.4993</td>\n",
       "      <td id=\"T_58fca_row15_col2\" class=\"data row15 col2\" >0.5180</td>\n",
       "      <td id=\"T_58fca_row15_col3\" class=\"data row15 col3\" >0.6000</td>\n",
       "      <td id=\"T_58fca_row15_col4\" class=\"data row15 col4\" >0.2993</td>\n",
       "      <td id=\"T_58fca_row15_col5\" class=\"data row15 col5\" >0.3993</td>\n",
       "      <td id=\"T_58fca_row15_col6\" class=\"data row15 col6\" >0.0000</td>\n",
       "      <td id=\"T_58fca_row15_col7\" class=\"data row15 col7\" >0.0000</td>\n",
       "      <td id=\"T_58fca_row15_col8\" class=\"data row15 col8\" >1.2890</td>\n",
       "    </tr>\n",
       "  </tbody>\n",
       "</table>\n"
      ],
      "text/plain": [
       "<pandas.io.formats.style.Styler at 0x28135ec7130>"
      ]
     },
     "metadata": {},
     "output_type": "display_data"
    },
    {
     "data": {
      "text/html": [],
      "text/plain": [
       "<IPython.core.display.HTML object>"
      ]
     },
     "metadata": {},
     "output_type": "display_data"
    }
   ],
   "source": [
    "best_model = compare_models()"
   ]
  },
  {
   "cell_type": "code",
   "execution_count": 25,
   "id": "684882b3",
   "metadata": {},
   "outputs": [
    {
     "name": "stdout",
     "output_type": "stream",
     "text": [
      "RidgeClassifier(alpha=1.0, class_weight=None, copy_X=True, fit_intercept=True,\n",
      "                max_iter=None, positive=False, random_state=42, solver='auto',\n",
      "                tol=0.0001)\n"
     ]
    }
   ],
   "source": [
    "print(best_model)"
   ]
  },
  {
   "cell_type": "code",
   "execution_count": 28,
   "id": "aaae1e39",
   "metadata": {},
   "outputs": [
    {
     "name": "stdout",
     "output_type": "stream",
     "text": [
      "Transformation Pipeline and Model Successfully Saved\n"
     ]
    },
    {
     "data": {
      "text/plain": [
       "(Pipeline(memory=Memory(location=None),\n",
       "          steps=[('numerical_imputer',\n",
       "                  TransformerWrapper(exclude=None, include=['Unnamed: 0'],\n",
       "                                     transformer=SimpleImputer(add_indicator=False,\n",
       "                                                               copy=True,\n",
       "                                                               fill_value=None,\n",
       "                                                               keep_empty_features=False,\n",
       "                                                               missing_values=nan,\n",
       "                                                               strategy='mean'))),\n",
       "                 ('categorical_imputer',\n",
       "                  TransformerWrapper(exclude=None, include=[],\n",
       "                                     transformer=SimpleImputer(ad...\n",
       "                                     transformer=EmbedTextFeatures(kwargs=None,\n",
       "                                                                   method='tf-idf'))),\n",
       "                 ('clean_column_names',\n",
       "                  TransformerWrapper(exclude=None, include=None,\n",
       "                                     transformer=CleanColumnNames(match='[\\\\]\\\\[\\\\,\\\\{\\\\}\\\\\"\\\\:]+'))),\n",
       "                 ('trained_model',\n",
       "                  RidgeClassifier(alpha=1.0, class_weight=None, copy_X=True,\n",
       "                                  fit_intercept=True, max_iter=None,\n",
       "                                  positive=False, random_state=42, solver='auto',\n",
       "                                  tol=0.0001))],\n",
       "          verbose=False),\n",
       " './pkl/phishing_model.pkl')"
      ]
     },
     "execution_count": 28,
     "metadata": {},
     "output_type": "execute_result"
    }
   ],
   "source": [
    "import os\n",
    "os.makedirs(\"./pkl\", exist_ok=True)\n",
    "save_model(best_model, './pkl/phishing_model')"
   ]
  },
  {
   "cell_type": "code",
   "execution_count": 29,
   "id": "44c21886",
   "metadata": {},
   "outputs": [
    {
     "data": {
      "text/html": [],
      "text/plain": [
       "<IPython.core.display.HTML object>"
      ]
     },
     "metadata": {},
     "output_type": "display_data"
    },
    {
     "data": {
      "text/html": [
       "<style type=\"text/css\">\n",
       "#T_f8cc3_row10_col0, #T_f8cc3_row10_col1, #T_f8cc3_row10_col2, #T_f8cc3_row10_col3, #T_f8cc3_row10_col4, #T_f8cc3_row10_col5, #T_f8cc3_row10_col6 {\n",
       "  background: yellow;\n",
       "}\n",
       "</style>\n",
       "<table id=\"T_f8cc3\">\n",
       "  <thead>\n",
       "    <tr>\n",
       "      <th class=\"blank level0\" >&nbsp;</th>\n",
       "      <th id=\"T_f8cc3_level0_col0\" class=\"col_heading level0 col0\" >Accuracy</th>\n",
       "      <th id=\"T_f8cc3_level0_col1\" class=\"col_heading level0 col1\" >AUC</th>\n",
       "      <th id=\"T_f8cc3_level0_col2\" class=\"col_heading level0 col2\" >Recall</th>\n",
       "      <th id=\"T_f8cc3_level0_col3\" class=\"col_heading level0 col3\" >Prec.</th>\n",
       "      <th id=\"T_f8cc3_level0_col4\" class=\"col_heading level0 col4\" >F1</th>\n",
       "      <th id=\"T_f8cc3_level0_col5\" class=\"col_heading level0 col5\" >Kappa</th>\n",
       "      <th id=\"T_f8cc3_level0_col6\" class=\"col_heading level0 col6\" >MCC</th>\n",
       "    </tr>\n",
       "    <tr>\n",
       "      <th class=\"index_name level0\" >Fold</th>\n",
       "      <th class=\"blank col0\" >&nbsp;</th>\n",
       "      <th class=\"blank col1\" >&nbsp;</th>\n",
       "      <th class=\"blank col2\" >&nbsp;</th>\n",
       "      <th class=\"blank col3\" >&nbsp;</th>\n",
       "      <th class=\"blank col4\" >&nbsp;</th>\n",
       "      <th class=\"blank col5\" >&nbsp;</th>\n",
       "      <th class=\"blank col6\" >&nbsp;</th>\n",
       "    </tr>\n",
       "  </thead>\n",
       "  <tbody>\n",
       "    <tr>\n",
       "      <th id=\"T_f8cc3_level0_row0\" class=\"row_heading level0 row0\" >0</th>\n",
       "      <td id=\"T_f8cc3_row0_col0\" class=\"data row0 col0\" >0.9701</td>\n",
       "      <td id=\"T_f8cc3_row0_col1\" class=\"data row0 col1\" >0.9804</td>\n",
       "      <td id=\"T_f8cc3_row0_col2\" class=\"data row0 col2\" >0.9706</td>\n",
       "      <td id=\"T_f8cc3_row0_col3\" class=\"data row0 col3\" >0.9706</td>\n",
       "      <td id=\"T_f8cc3_row0_col4\" class=\"data row0 col4\" >0.9706</td>\n",
       "      <td id=\"T_f8cc3_row0_col5\" class=\"data row0 col5\" >0.9403</td>\n",
       "      <td id=\"T_f8cc3_row0_col6\" class=\"data row0 col6\" >0.9403</td>\n",
       "    </tr>\n",
       "    <tr>\n",
       "      <th id=\"T_f8cc3_level0_row1\" class=\"row_heading level0 row1\" >1</th>\n",
       "      <td id=\"T_f8cc3_row1_col0\" class=\"data row1 col0\" >0.9403</td>\n",
       "      <td id=\"T_f8cc3_row1_col1\" class=\"data row1 col1\" >0.9581</td>\n",
       "      <td id=\"T_f8cc3_row1_col2\" class=\"data row1 col2\" >1.0000</td>\n",
       "      <td id=\"T_f8cc3_row1_col3\" class=\"data row1 col3\" >0.8947</td>\n",
       "      <td id=\"T_f8cc3_row1_col4\" class=\"data row1 col4\" >0.9444</td>\n",
       "      <td id=\"T_f8cc3_row1_col5\" class=\"data row1 col5\" >0.8804</td>\n",
       "      <td id=\"T_f8cc3_row1_col6\" class=\"data row1 col6\" >0.8867</td>\n",
       "    </tr>\n",
       "    <tr>\n",
       "      <th id=\"T_f8cc3_level0_row2\" class=\"row_heading level0 row2\" >2</th>\n",
       "      <td id=\"T_f8cc3_row2_col0\" class=\"data row2 col0\" >0.9851</td>\n",
       "      <td id=\"T_f8cc3_row2_col1\" class=\"data row2 col1\" >0.9982</td>\n",
       "      <td id=\"T_f8cc3_row2_col2\" class=\"data row2 col2\" >0.9697</td>\n",
       "      <td id=\"T_f8cc3_row2_col3\" class=\"data row2 col3\" >1.0000</td>\n",
       "      <td id=\"T_f8cc3_row2_col4\" class=\"data row2 col4\" >0.9846</td>\n",
       "      <td id=\"T_f8cc3_row2_col5\" class=\"data row2 col5\" >0.9701</td>\n",
       "      <td id=\"T_f8cc3_row2_col6\" class=\"data row2 col6\" >0.9706</td>\n",
       "    </tr>\n",
       "    <tr>\n",
       "      <th id=\"T_f8cc3_level0_row3\" class=\"row_heading level0 row3\" >3</th>\n",
       "      <td id=\"T_f8cc3_row3_col0\" class=\"data row3 col0\" >0.9254</td>\n",
       "      <td id=\"T_f8cc3_row3_col1\" class=\"data row3 col1\" >0.9902</td>\n",
       "      <td id=\"T_f8cc3_row3_col2\" class=\"data row3 col2\" >0.9091</td>\n",
       "      <td id=\"T_f8cc3_row3_col3\" class=\"data row3 col3\" >0.9375</td>\n",
       "      <td id=\"T_f8cc3_row3_col4\" class=\"data row3 col4\" >0.9231</td>\n",
       "      <td id=\"T_f8cc3_row3_col5\" class=\"data row3 col5\" >0.8506</td>\n",
       "      <td id=\"T_f8cc3_row3_col6\" class=\"data row3 col6\" >0.8510</td>\n",
       "    </tr>\n",
       "    <tr>\n",
       "      <th id=\"T_f8cc3_level0_row4\" class=\"row_heading level0 row4\" >4</th>\n",
       "      <td id=\"T_f8cc3_row4_col0\" class=\"data row4 col0\" >0.9403</td>\n",
       "      <td id=\"T_f8cc3_row4_col1\" class=\"data row4 col1\" >0.9973</td>\n",
       "      <td id=\"T_f8cc3_row4_col2\" class=\"data row4 col2\" >0.9091</td>\n",
       "      <td id=\"T_f8cc3_row4_col3\" class=\"data row4 col3\" >0.9677</td>\n",
       "      <td id=\"T_f8cc3_row4_col4\" class=\"data row4 col4\" >0.9375</td>\n",
       "      <td id=\"T_f8cc3_row4_col5\" class=\"data row4 col5\" >0.8805</td>\n",
       "      <td id=\"T_f8cc3_row4_col6\" class=\"data row4 col6\" >0.8820</td>\n",
       "    </tr>\n",
       "    <tr>\n",
       "      <th id=\"T_f8cc3_level0_row5\" class=\"row_heading level0 row5\" >5</th>\n",
       "      <td id=\"T_f8cc3_row5_col0\" class=\"data row5 col0\" >0.9697</td>\n",
       "      <td id=\"T_f8cc3_row5_col1\" class=\"data row5 col1\" >0.9798</td>\n",
       "      <td id=\"T_f8cc3_row5_col2\" class=\"data row5 col2\" >0.9697</td>\n",
       "      <td id=\"T_f8cc3_row5_col3\" class=\"data row5 col3\" >0.9697</td>\n",
       "      <td id=\"T_f8cc3_row5_col4\" class=\"data row5 col4\" >0.9697</td>\n",
       "      <td id=\"T_f8cc3_row5_col5\" class=\"data row5 col5\" >0.9394</td>\n",
       "      <td id=\"T_f8cc3_row5_col6\" class=\"data row5 col6\" >0.9394</td>\n",
       "    </tr>\n",
       "    <tr>\n",
       "      <th id=\"T_f8cc3_level0_row6\" class=\"row_heading level0 row6\" >6</th>\n",
       "      <td id=\"T_f8cc3_row6_col0\" class=\"data row6 col0\" >0.9242</td>\n",
       "      <td id=\"T_f8cc3_row6_col1\" class=\"data row6 col1\" >0.9862</td>\n",
       "      <td id=\"T_f8cc3_row6_col2\" class=\"data row6 col2\" >0.9697</td>\n",
       "      <td id=\"T_f8cc3_row6_col3\" class=\"data row6 col3\" >0.8889</td>\n",
       "      <td id=\"T_f8cc3_row6_col4\" class=\"data row6 col4\" >0.9275</td>\n",
       "      <td id=\"T_f8cc3_row6_col5\" class=\"data row6 col5\" >0.8485</td>\n",
       "      <td id=\"T_f8cc3_row6_col6\" class=\"data row6 col6\" >0.8520</td>\n",
       "    </tr>\n",
       "    <tr>\n",
       "      <th id=\"T_f8cc3_level0_row7\" class=\"row_heading level0 row7\" >7</th>\n",
       "      <td id=\"T_f8cc3_row7_col0\" class=\"data row7 col0\" >1.0000</td>\n",
       "      <td id=\"T_f8cc3_row7_col1\" class=\"data row7 col1\" >1.0000</td>\n",
       "      <td id=\"T_f8cc3_row7_col2\" class=\"data row7 col2\" >1.0000</td>\n",
       "      <td id=\"T_f8cc3_row7_col3\" class=\"data row7 col3\" >1.0000</td>\n",
       "      <td id=\"T_f8cc3_row7_col4\" class=\"data row7 col4\" >1.0000</td>\n",
       "      <td id=\"T_f8cc3_row7_col5\" class=\"data row7 col5\" >1.0000</td>\n",
       "      <td id=\"T_f8cc3_row7_col6\" class=\"data row7 col6\" >1.0000</td>\n",
       "    </tr>\n",
       "    <tr>\n",
       "      <th id=\"T_f8cc3_level0_row8\" class=\"row_heading level0 row8\" >8</th>\n",
       "      <td id=\"T_f8cc3_row8_col0\" class=\"data row8 col0\" >0.9545</td>\n",
       "      <td id=\"T_f8cc3_row8_col1\" class=\"data row8 col1\" >0.9982</td>\n",
       "      <td id=\"T_f8cc3_row8_col2\" class=\"data row8 col2\" >0.9697</td>\n",
       "      <td id=\"T_f8cc3_row8_col3\" class=\"data row8 col3\" >0.9412</td>\n",
       "      <td id=\"T_f8cc3_row8_col4\" class=\"data row8 col4\" >0.9552</td>\n",
       "      <td id=\"T_f8cc3_row8_col5\" class=\"data row8 col5\" >0.9091</td>\n",
       "      <td id=\"T_f8cc3_row8_col6\" class=\"data row8 col6\" >0.9095</td>\n",
       "    </tr>\n",
       "    <tr>\n",
       "      <th id=\"T_f8cc3_level0_row9\" class=\"row_heading level0 row9\" >9</th>\n",
       "      <td id=\"T_f8cc3_row9_col0\" class=\"data row9 col0\" >0.9394</td>\n",
       "      <td id=\"T_f8cc3_row9_col1\" class=\"data row9 col1\" >0.9917</td>\n",
       "      <td id=\"T_f8cc3_row9_col2\" class=\"data row9 col2\" >0.9091</td>\n",
       "      <td id=\"T_f8cc3_row9_col3\" class=\"data row9 col3\" >0.9677</td>\n",
       "      <td id=\"T_f8cc3_row9_col4\" class=\"data row9 col4\" >0.9375</td>\n",
       "      <td id=\"T_f8cc3_row9_col5\" class=\"data row9 col5\" >0.8788</td>\n",
       "      <td id=\"T_f8cc3_row9_col6\" class=\"data row9 col6\" >0.8804</td>\n",
       "    </tr>\n",
       "    <tr>\n",
       "      <th id=\"T_f8cc3_level0_row10\" class=\"row_heading level0 row10\" >Mean</th>\n",
       "      <td id=\"T_f8cc3_row10_col0\" class=\"data row10 col0\" >0.9549</td>\n",
       "      <td id=\"T_f8cc3_row10_col1\" class=\"data row10 col1\" >0.9880</td>\n",
       "      <td id=\"T_f8cc3_row10_col2\" class=\"data row10 col2\" >0.9577</td>\n",
       "      <td id=\"T_f8cc3_row10_col3\" class=\"data row10 col3\" >0.9538</td>\n",
       "      <td id=\"T_f8cc3_row10_col4\" class=\"data row10 col4\" >0.9550</td>\n",
       "      <td id=\"T_f8cc3_row10_col5\" class=\"data row10 col5\" >0.9098</td>\n",
       "      <td id=\"T_f8cc3_row10_col6\" class=\"data row10 col6\" >0.9112</td>\n",
       "    </tr>\n",
       "    <tr>\n",
       "      <th id=\"T_f8cc3_level0_row11\" class=\"row_heading level0 row11\" >Std</th>\n",
       "      <td id=\"T_f8cc3_row11_col0\" class=\"data row11 col0\" >0.0242</td>\n",
       "      <td id=\"T_f8cc3_row11_col1\" class=\"data row11 col1\" >0.0122</td>\n",
       "      <td id=\"T_f8cc3_row11_col2\" class=\"data row11 col2\" >0.0338</td>\n",
       "      <td id=\"T_f8cc3_row11_col3\" class=\"data row11 col3\" >0.0365</td>\n",
       "      <td id=\"T_f8cc3_row11_col4\" class=\"data row11 col4\" >0.0242</td>\n",
       "      <td id=\"T_f8cc3_row11_col5\" class=\"data row11 col5\" >0.0485</td>\n",
       "      <td id=\"T_f8cc3_row11_col6\" class=\"data row11 col6\" >0.0475</td>\n",
       "    </tr>\n",
       "  </tbody>\n",
       "</table>\n"
      ],
      "text/plain": [
       "<pandas.io.formats.style.Styler at 0x28137a70760>"
      ]
     },
     "metadata": {},
     "output_type": "display_data"
    },
    {
     "data": {
      "text/html": [],
      "text/plain": [
       "<IPython.core.display.HTML object>"
      ]
     },
     "metadata": {},
     "output_type": "display_data"
    },
    {
     "name": "stdout",
     "output_type": "stream",
     "text": [
      "Fitting 10 folds for each of 10 candidates, totalling 100 fits\n"
     ]
    }
   ],
   "source": [
    "tuned_model = tune_model(best_model)"
   ]
  },
  {
   "cell_type": "code",
   "execution_count": 30,
   "id": "26e61753",
   "metadata": {},
   "outputs": [
    {
     "name": "stdout",
     "output_type": "stream",
     "text": [
      "RidgeClassifier(alpha=0.61, class_weight=None, copy_X=True, fit_intercept=False,\n",
      "                max_iter=None, positive=False, random_state=42, solver='auto',\n",
      "                tol=0.0001)\n"
     ]
    }
   ],
   "source": [
    "print(tuned_model)"
   ]
  },
  {
   "cell_type": "code",
   "execution_count": 31,
   "id": "696166dd",
   "metadata": {},
   "outputs": [
    {
     "name": "stdout",
     "output_type": "stream",
     "text": [
      "Transformation Pipeline and Model Successfully Saved\n"
     ]
    },
    {
     "data": {
      "text/plain": [
       "(Pipeline(memory=Memory(location=None),\n",
       "          steps=[('numerical_imputer',\n",
       "                  TransformerWrapper(exclude=None, include=['Unnamed: 0'],\n",
       "                                     transformer=SimpleImputer(add_indicator=False,\n",
       "                                                               copy=True,\n",
       "                                                               fill_value=None,\n",
       "                                                               keep_empty_features=False,\n",
       "                                                               missing_values=nan,\n",
       "                                                               strategy='mean'))),\n",
       "                 ('categorical_imputer',\n",
       "                  TransformerWrapper(exclude=None, include=[],\n",
       "                                     transformer=SimpleImputer(ad...\n",
       "                                     transformer=EmbedTextFeatures(kwargs=None,\n",
       "                                                                   method='tf-idf'))),\n",
       "                 ('clean_column_names',\n",
       "                  TransformerWrapper(exclude=None, include=None,\n",
       "                                     transformer=CleanColumnNames(match='[\\\\]\\\\[\\\\,\\\\{\\\\}\\\\\"\\\\:]+'))),\n",
       "                 ('trained_model',\n",
       "                  RidgeClassifier(alpha=0.61, class_weight=None, copy_X=True,\n",
       "                                  fit_intercept=False, max_iter=None,\n",
       "                                  positive=False, random_state=42, solver='auto',\n",
       "                                  tol=0.0001))],\n",
       "          verbose=False),\n",
       " './pkl/phishing_model_tuned.pkl')"
      ]
     },
     "execution_count": 31,
     "metadata": {},
     "output_type": "execute_result"
    }
   ],
   "source": [
    "save_model(tuned_model, './pkl/phishing_model_tuned')"
   ]
  },
  {
   "cell_type": "markdown",
   "id": "05161852",
   "metadata": {},
   "source": [
    "## Plots"
   ]
  },
  {
   "cell_type": "code",
   "execution_count": 34,
   "id": "d534fda7",
   "metadata": {},
   "outputs": [
    {
     "data": {
      "text/html": [],
      "text/plain": [
       "<IPython.core.display.HTML object>"
      ]
     },
     "metadata": {},
     "output_type": "display_data"
    },
    {
     "data": {
      "image/png": "[encoded data removed]",
      "text/plain": [
       "<Figure size 800x550 with 1 Axes>"
      ]
     },
     "metadata": {},
     "output_type": "display_data"
    }
   ],
   "source": [
    "plot_model(tuned_model, plot = 'pr')"
   ]
  },
  {
   "cell_type": "code",
   "execution_count": 33,
   "id": "60daa42c",
   "metadata": {},
   "outputs": [
    {
     "data": {
      "text/html": [],
      "text/plain": [
       "<IPython.core.display.HTML object>"
      ]
     },
     "metadata": {},
     "output_type": "display_data"
    },
    {
     "data": {
      "image/png": "[encoded data removed]",
      "text/plain": [
       "<Figure size 800x550 with 1 Axes>"
      ]
     },
     "metadata": {},
     "output_type": "display_data"
    }
   ],
   "source": [
    "plot_model(tuned_model, plot='confusion_matrix')"
   ]
  },
  {
   "cell_type": "markdown",
   "id": "7ce0a073",
   "metadata": {},
   "source": [
    "## Predictions"
   ]
  },
  {
   "cell_type": "code",
   "execution_count": null,
   "id": "4d1bee8e",
   "metadata": {},
   "outputs": [
    {
     "data": {
      "application/vnd.jupyter.widget-view+json": {
       "model_id": "3184fc48ba7e48c1b6f8a0bdf8889ebc",
       "version_major": 2,
       "version_minor": 0
      },
      "text/plain": [
       "interactive(children=(ToggleButtons(description='Plot Type:', icons=('',), options=(('Pipeline Plot', 'pipelin…"
      ]
     },
     "metadata": {},
     "output_type": "display_data"
    }
   ],
   "source": [
    "evaluate_model(tuned_model)"
   ]
  },
  {
   "cell_type": "markdown",
   "id": "71aec362",
   "metadata": {},
   "source": [
    "### Predict on Test"
   ]
  },
  {
   "cell_type": "code",
   "execution_count": 38,
   "id": "e77a403e",
   "metadata": {},
   "outputs": [
    {
     "data": {
      "text/html": [
       "<style type=\"text/css\">\n",
       "</style>\n",
       "<table id=\"T_50a26\">\n",
       "  <thead>\n",
       "    <tr>\n",
       "      <th class=\"blank level0\" >&nbsp;</th>\n",
       "      <th id=\"T_50a26_level0_col0\" class=\"col_heading level0 col0\" >Model</th>\n",
       "      <th id=\"T_50a26_level0_col1\" class=\"col_heading level0 col1\" >Accuracy</th>\n",
       "      <th id=\"T_50a26_level0_col2\" class=\"col_heading level0 col2\" >AUC</th>\n",
       "      <th id=\"T_50a26_level0_col3\" class=\"col_heading level0 col3\" >Recall</th>\n",
       "      <th id=\"T_50a26_level0_col4\" class=\"col_heading level0 col4\" >Prec.</th>\n",
       "      <th id=\"T_50a26_level0_col5\" class=\"col_heading level0 col5\" >F1</th>\n",
       "      <th id=\"T_50a26_level0_col6\" class=\"col_heading level0 col6\" >Kappa</th>\n",
       "      <th id=\"T_50a26_level0_col7\" class=\"col_heading level0 col7\" >MCC</th>\n",
       "    </tr>\n",
       "  </thead>\n",
       "  <tbody>\n",
       "    <tr>\n",
       "      <th id=\"T_50a26_level0_row0\" class=\"row_heading level0 row0\" >0</th>\n",
       "      <td id=\"T_50a26_row0_col0\" class=\"data row0 col0\" >Ridge Classifier</td>\n",
       "      <td id=\"T_50a26_row0_col1\" class=\"data row0 col1\" >0.9474</td>\n",
       "      <td id=\"T_50a26_row0_col2\" class=\"data row0 col2\" >0.9473</td>\n",
       "      <td id=\"T_50a26_row0_col3\" class=\"data row0 col3\" >0.9366</td>\n",
       "      <td id=\"T_50a26_row0_col4\" class=\"data row0 col4\" >0.9568</td>\n",
       "      <td id=\"T_50a26_row0_col5\" class=\"data row0 col5\" >0.9466</td>\n",
       "      <td id=\"T_50a26_row0_col6\" class=\"data row0 col6\" >0.8947</td>\n",
       "      <td id=\"T_50a26_row0_col7\" class=\"data row0 col7\" >0.8949</td>\n",
       "    </tr>\n",
       "  </tbody>\n",
       "</table>\n"
      ],
      "text/plain": [
       "<pandas.io.formats.style.Styler at 0x280e4a3ee90>"
      ]
     },
     "metadata": {},
     "output_type": "display_data"
    },
    {
     "data": {
      "text/html": [
       "<div>\n",
       "<style scoped>\n",
       "    .dataframe tbody tr th:only-of-type {\n",
       "        vertical-align: middle;\n",
       "    }\n",
       "\n",
       "    .dataframe tbody tr th {\n",
       "        vertical-align: top;\n",
       "    }\n",
       "\n",
       "    .dataframe thead th {\n",
       "        text-align: right;\n",
       "    }\n",
       "</style>\n",
       "<table border=\"1\" class=\"dataframe\">\n",
       "  <thead>\n",
       "    <tr style=\"text-align: right;\">\n",
       "      <th></th>\n",
       "      <th>Unnamed: 0</th>\n",
       "      <th>Email Text</th>\n",
       "      <th>Email Type</th>\n",
       "      <th>prediction_label</th>\n",
       "    </tr>\n",
       "  </thead>\n",
       "  <tbody>\n",
       "    <tr>\n",
       "      <th>547</th>\n",
       "      <td>17378</td>\n",
       "      <td>hi explain bad off explain . companion companion gym again , hottest demanding meds at afforrdable priicewe shiip to all countriies shiiping 150 hottest selling meds for you to choose from notsugar clicck here to order thus use not whom a hard . companion off fire . speaking added edge am wrong . similar mischievous promised side . back love night companion bad fly ? wife friends side .</td>\n",
       "      <td>1</td>\n",
       "      <td>1</td>\n",
       "    </tr>\n",
       "    <tr>\n",
       "      <th>343</th>\n",
       "      <td>9701</td>\n",
       "      <td>lower your company phone bill every month ! unlimited web conferencing subscribe to the web conference center for only $ 40 . 00 per month ! ( connects up to 15 participants at a time plus audio charges ) conduct real - time interactive meetings and presentations over the internet application sharing review and revise documents in real - time record and archive your meeting simulate a live classroom quickly hold a meeting with anyone anywhere in the world lowest rate $ . 18 per minute for audio ( toll charges included ) call anytime , from anywhere , to anywhere quality , easy to use service free demo eliminate or reduce travel expense try this on for savings . . . and turn those unnecessary trips into problem solving and fact finding conferences , saving time and wear and tear on your overworked business staff . to find out more about this revolutionary concept , fill out the form below . required input field * name * web address company name * state * business phone * home phone email address * all information given herein is strictly confidential and will not be re - distributed for any reason other than for the specific use intended . to be removed from our distribution lists , please click here . . - - - - this sf . net email is sponsored by : jabber - the world ' s fastest growing real - time communications platform ! don ' t just im . build it in ! http : / / www . jabber . com / osdn / xim spamassassin - sightings mailing list</td>\n",
       "      <td>1</td>\n",
       "      <td>1</td>\n",
       "    </tr>\n",
       "    <tr>\n",
       "      <th>760</th>\n",
       "      <td>6271</td>\n",
       "      <td>Hi all --We had a pretty serious crash on the list host over the weekend, and it\\ndestroyed all configuration data.  As a result, I've had to rebuild the\\nmailing list from various other sources -- including the archives of\\npast list traffic.If you're a list subscriber, you may have received a \"welcome to the list\"\\nmail. All well and good.  However, if you *used* to be subscribed to one \\nof the lists at some point in 2002, or never were (I'm hoping that didn't\\nhappen!), you may have also have received one of these.  Just go to the\\nURL and click \"unsubscribe\", providing the password from the mail if\\nnecessary.If you're a list admin on any of the lists at lists.boxhost.net or\\ntaint.org, I'd appreciate if you could take a look and make sure the\\nsettings match up with what they used to be.Sorry about this :(--j.-- \\n'Justin Mason' =&gt; { url =&gt; 'http://jmason.org/', blog =&gt; 'http://taint.org/' }_______________________________________________\\nIIU mailing list\\nIIU@iiu.taint.org\\nhttp://iiu.taint.org/mailman/listinfo/iiu\\n</td>\n",
       "      <td>0</td>\n",
       "      <td>0</td>\n",
       "    </tr>\n",
       "    <tr>\n",
       "      <th>824</th>\n",
       "      <td>14117</td>\n",
       "      <td>re : mitch robinson is out no - he cant be on my team even if you changed his mind chris calger 503 - 464 - 3735 - - - - - original message - - - - - from : kitchen , louise sent : thursday , january 24 , 2002 9 : 08 am to : calger , christopher f . ; presto , kevin m . ; oxley , david ; whalley , greg subject : re : mitch robinson is out any point in talking to him ? - - - - - - - - - - - - - - - - - - - - - - - - - - sent from my blackberry wireless handheld - - - - - original message - - - - - from : calger , christopher f . to : presto , kevin m . ; kitchen , louise ; oxley , david ; whalley , greg sent : thu jan 24 11 : 02 : 40 2002 subject : mitch robinson is out got him what he asked for . he said done . he flaked . does not want to work for a \" trading company \" . chris calger 503 - 464 - 3735</td>\n",
       "      <td>0</td>\n",
       "      <td>0</td>\n",
       "    </tr>\n",
       "    <tr>\n",
       "      <th>784</th>\n",
       "      <td>13929</td>\n",
       "      <td>ARE YOU HAVING TROUBLE WITH YOUR COMPUTER?  THE PROBLEMS MAY NOT BE WITH YOUR COMPUTER?As part of a National Marketing Test, we are offering the most amazing Windows Tips. \\nOver 60 ways to improve the performance of your computer. (GUARANTEED)\\nYou will gain a better understanding of your computer and Windows 95 - 98SE operating system just by using these amazing tips and tricks.With this program and its information you will be able to: Increase your computer's resources (Are you at 96%?)\\nSearch for hidden files\\nKeyboard Shortcuts\\nRestart your computer faster\\nOpen programs faster\\nFind better ways to free up memory\\nNew PnP devices\\nFind the hidden settings for Windows\\nHow to make a Restart Icon\\nWhat to do when Windows won't start?\\nMemory issues\\nINI versus registry\\nChanging Logon and Logoff screens\\nDid you know you could change the name of your \"Start\" menu?THIS IS ONLY A SAMPLE OF WHAT IS AVAILABLE TO YOU WITH THIS PROGRAM.During this special promotion we will be offering this amazing program for just $14.95 postage paid. This is less than half of the suggested retail price of $29.99All you will need to run this disk is a Windows based computer and an Internet browser (no need to be connected to the Internet). Sorry no Macintosh version available at this time.These are tips and tricks that computer technicians know and now you have all the information available for a low price of only $14.95 postage paid! Software and computer manufacturers don't want you to know these secrets, because they want you to buy their software and/or technology upgrades at very inflated prices.\\nThis investment of only $14.95 truly outweighs the frustration of a poorly working good computer.Gain a better understanding of your computer by using these tips.ORDER TODAY FOR YOUR COPY OF THIS AMAZING PROGRAM FOR WINDOWS.Postage paid.\\n$14.95 US, $19.95 International (U.S dollars)(We accept Cash, Check or Money order)Make Checks payable to:\\nC Chute\\nPO Box 6337\\nJacksonville, Fl. 32205-9998Please Print Clearly Your Return:Name  _______________________________________________________________l31__Address _______________________________________________________________       City, State, and Zip Code _____________________________________________E-mail Address_________________________________________________________   ........................................................................This program is fully guaranteed. If you are unhappy just return the disk within 30 days\\nAnd we will refund your money.Copyright 2001\\nC Chute\\nAll Rights ReservedAll REMOVE requests AUTOMATICALLY honored upon receipt. PLEASE understand that any effort to disrupt, close or block this REMOVE account can only result in difficulties for others wanting to be removed from our master mailing list as it will be impossible to take anyone off the list if the remove instruction cannot be received. To be removed from our master mailing list please send an email to 2getoffmylist@start.com.au   and place remove in the subject.Thank you:\\nPLEASE FORWARD TO EVERYONE YOU KNOW!\\nONE DAY THEY WILL THANK YOU!\\nThis mailing is done by an independent marketing co.\\nWe apologize if this message has reached you in error.\\nSave the Planet, Save the Trees!  Advertise With\\nE-mail.  No wasted paper!   Delete with \\nOne simple keystroke!  Less refuse in our Dumps!Make it a great day!------------------------------------------------------------------------------------------------------------</td>\n",
       "      <td>1</td>\n",
       "      <td>1</td>\n",
       "    </tr>\n",
       "    <tr>\n",
       "      <th>...</th>\n",
       "      <td>...</td>\n",
       "      <td>...</td>\n",
       "      <td>...</td>\n",
       "      <td>...</td>\n",
       "    </tr>\n",
       "    <tr>\n",
       "      <th>524</th>\n",
       "      <td>10400</td>\n",
       "      <td>IGTT\\nVol. \\n6, Issue 243 - August 2002\\nThe \\nWall Street BulletinYour \\nFirst Source For News From \"The Street\"\\nSymbol: IGTT\\nShares Outstanding: 373,400,0000\\nFloat (est.): 52,560,000\\nShort-Term Target: $3.75\\n52 week High/Low: $1.10/0.02\\nRating: Strong Buy \\nOur last pick \\nSymphony Telecom (OTCBB: SYPY) went UP 100% in just one week!!!\\nInDigiNet Identifies \\nAcquisition Targets with Combined Revenues of $35 Million...\\nÂ \\nTelecom Consolidation Begins to Accelerate The Wall Street Bulletin believes \\nthat the recent \\ninvestment of capital into Level 3, lead by Warren Buffett, \\nis further proof of the continued validity of the telecommunication \\nmarket when looked at from the perspective of the small to mid-sized \\nenterprises. After the boom and bust comes the revival. For some \\ncarriers drowning in debt, such as Global Crossing and WorldCom, \\nthe future may be dim. But for those survivors of the industry \\nthat have managed to remain on their feet, other companies' problems \\nmean opportunity. \"Every major industry in the history of \\nthe United States has experienced a similar transformation, from \\nthe railroads in the late 1800s to the automakers in the mid-1900s \\nto the Dot-Coms at the end of the 20th century,\" says Robert \\nSaunders, director of the Eastern Management Group market \\nresearch firm. Christopher \\nDean, CTO of OSS company Eftia, says \"We are seeing all \\nthe people that are the survivors. There's all this pent-up money \\nand for the surviving carriers out there, they can get what used \\nto cost a few billion for a few millions.\" Read the full \\nstory from Telecommunications Magazine - See the link at the end \\nof this newsletter. \\nAs we write this report, our New Recommendation \\nInDigiNet, Inc. (OTCBB: \\nIGTT) has only been trading on the OTC Bulletin Board since \\nlate May of 2002. As InDigiNet, Inc. continues to implement its \\nbusiness plan, we believe this company will help lead the way \\nup for the resurgence of the Telecom Sector. This could be our \\nstrongest recommendation of the year. We are giving IGTT our Highest \\nRating of STRONG BUY/AGGRESSIVE GROWTH.\\nÂ \\nGround Floor Opportunity / Tremendous \\nGrowth Potential \\nWe believe IGTT will perform equally to, if not \\ngreater than its competition. A similar telecommunications company, \\nTalk America Holdings (Nasdaq: TALK), share \\nprice began to explode in April of this year moving from just \\nover $0.40/share to over $4.00/share in late June. Talk America \\nHoldings previously had a market cap of only $24.51 million, but \\ntoday has a market cap of $267 million.\\nIGTT curently has a market cap of $22.42 million. \\nUsing the TALK model for potential growth, IGTT could very well \\nbe trading in the .60 range in only a few months, with a market \\ncap in excess of $250 million. This would be an increase of 1000%. \\nSo you see why IGTT has such great potential and the time is right \\n for investors to get in on the ground floor.\\nÂ \\nThe InDigNet Strategy\\nInDigiNet, Inc. is an integrated solutions company \\nthat provides small to mid-sized enterprises (SMEs) with an integrated \\ncommunication solution. InDigiNet is a prestigious \"Diamond\" \\nlevel partner of Avaya, as well as a reseller for Cisco and \\nCompaq. The Company will offer data, local, long distance and \\nwireless services to SMEs over third party networks enabling the \\nCompany to offer a comprehensive suite of services without the \\ncapital burden of building a communication network. The Companyâ€™s \\nstrategy is to acquire the customer bases of smaller, single market \\ncommunication companies and attractively priced Internet \\nService Providers (ISPs). The Company recently completed \\nits acquisitions of Fox Telecommunications and WBConnect. \\nInDigiNet will then expand the breadth of their services to grow \\nrevenue and enhance profitability. SMEs account for $120 billion \\nin commercial telephony, data services and technology spending, \\nor 33% of the countryâ€™s total market, and this spending \\nis expected to grow at above average rates over the next ten years. \\nSource: Morgan Stanley Dean Witter. \\nThe IGTT web site: www.indiginet.com\\nÂ \\nThe IT Market\\nBased on recent studies, the countryâ€™s 7.4 \\nmillion SMEs currently lag significantly in the utilization of \\nIT and data \\ncommunications, including Internet access, web services, business \\nsoftware and e-commerce. Worldwide IT spending increased to $981 \\nbillion US for the year, an overall increase of 3.7 percent over \\n2001, according to a study released 7/24/2002 by market researcher \\nIDC. IT spending in 2003 is expected to reach record heights, \\ngrowing by 9 percent worldwide to top the $1 trillion mark for \\nthe first time. In IDC's revised forecasts for IT spending in \\n2002 and 2003, IT spending in the US is expected to increase by \\n3 percent this year over 2001 to $436 billion, with further growth \\nof 9 percent in 2003. Western Europe can expect growth of 4 percent \\nin 2002 and 6 percent in 2003. Though Japan will experience flat \\ngrowth levels this year, by next year growth in the market will \\nreturn to the tune of 7 percent with particular strength shown \\nin China, India, Korea, Russia, the Philippines, South Africa \\nand Poland. Source: IDC\\nÂ \\nParticulars\\nThe Wall Street Bulletin is putting IGTT on our \\nStrong Buy/Aggressive Growth recommendation list for the following \\nreasons:\\n1. The Company's strategy is to acquire the customer \\nbases of smaller, single-market communication companies and attractively \\npriced Internet Service Providers (ISPs). The Company will sell \\nits bundled service package to the acquired customer base that \\nwill form a direct and immediate distribution channel for all \\ntypes of communication services - local, long distance, wireless, \\nand data. 2. The Company is currently serving many customers in the Denver/Front \\nRange communities but in particular the education vertical market \\nhas recognized the value of integrating a wireless broadband data \\nnetwork into the existing campus network. The Company's customers \\ninclude United States Olympic Committee \\n(USOC), University of Denver, \\nand Colorado State University. \\n3. The Company has identified approximately $35,000,000 in revenues \\nto acquire comprised of distressed assets to be auctioned in bankruptcy \\ncourt and smaller communication providers with valuable customer \\nbases. Each of the targeted companies are within the Company's \\nfootprint and will, subject to purchase completion, increase the \\nCompany's embedded customer base. \\nÂ \\nInvestment Consideration\\nInDigiNet Inc recently filed its 10QSB, for the \\nthree months ended March 31, 2002. IGTT reported Revenues of $339,694 \\nin Q1 2002 vs. Revenues of $0 in Q1 2001. At this current growth \\nrate, revenues should grow above $1.3 million for their first \\nyear of production with no increases in acquisitions. As more \\nand more large corporations come under government scrutiny, investors \\nwill turn to small to mid-sized companies with their investment \\ndollars. \\nÂ \\nNEWS - InDigiNet, Inc. Completes Acquisition of \\nFox Telecommunications, Inc. - PRNewswire - CLICK \\nHERE\\nNEWS - InDigiNet, Inc. Completes Acquisition of \\nWBConnect - PRNewswire - CLICK \\nHERE\\nÂ \\nNEWS - Telecom Consolidation Begins to Accelerate \\n- from Telecommunications Magazine - CLICK \\nHERE\\nÂ \\nIndustry Interests - Telecommunications Websites: \\nTIA Online - Telecommunications \\nMagazine - IT World\\nÂ \\nThe Wall \\nStreet Bulletin is an independent newsletter and is not affiliated \\nwith InDigiNet, Inc.\\nÂ \\nThe Wall Street Bulletin is an independent \\nresearch firm. This report is based on The Wall Street Bulletinâ€™s \\nindependent analysis but also relies on information supplied by \\nsources believed to be reliable. This report may not be the opinion \\nof IGTT management. The Wall Street Bulletin has also been retained \\nto research and issue reports on IGTT and was paid ten thousand \\ndollars by a shareholder of the company. The Wall Street Bulletin \\nmay from time to time buy or sell IGTT common shares in the open \\nmarket without notice. The information contained in this report \\nis not intended to be, and shall not constitute, an offer to sell \\nor solicitation of any offer to buy any security. It is intended \\nfor information only. Some statements may contain so-called â€œforward-looking \\nstatementsâ€. Many factors could cause actual results to \\ndiffer. Investors should consult with their Investment Advisor \\nconcerning IGTT. Copyright 2002 Â© The Wall Street Bulletin \\n- All Rights Reserved\\nI no longer wish to receive your \\nnewsletter CLICK \\nHEREikxrkobewgotpevemtbokjgssytdinm\\n</td>\n",
       "      <td>1</td>\n",
       "      <td>0</td>\n",
       "    </tr>\n",
       "    <tr>\n",
       "      <th>379</th>\n",
       "      <td>6669</td>\n",
       "      <td>2000 chairman ' s award everyday heroes are all around us at enron , living our core values of respect , integrity , communication and excellence in everything they do . some of these heroes make a big splash while others just quietly make a difference in the workplace around them . either way , these special individuals deserve to be recognized with a nomination for the 2000 chairman ' s award . as there is more than just one employee living the values at enron , this award program will honor 10 employees as members of the chairman ' s roundtable . from that group , the one individual most embodying our values will be presented with the chairman ' s award at the management conference in san antonio in november . the beauty of this award program is that it is completely employee - driven from beginning to end . from your nominations , an international employee committee will select the chairman ' s roundtable and eventually , the chairman ' s award winner . your role of nominating our everyday heroes is extremely vital to the program ' s success . if someone has made a positive impression on you , please take the time to complete a nomination form and send it to charla reese by october 1 , 2000 . you may click here for a printable form : http : / / home . enron . com / announce / chairman _ nom / form 3 . doc for more information on the chairman ' s award , including details on last year ' s roundtable members and previous winners , repit suliyono and bobbye brown , please click here : http : / / home . enron . com / announce / chairman _ nom again , this is a very special award at enron and we sincerely thank you for your participation . ken , jeff and joe</td>\n",
       "      <td>0</td>\n",
       "      <td>0</td>\n",
       "    </tr>\n",
       "    <tr>\n",
       "      <th>612</th>\n",
       "      <td>11069</td>\n",
       "      <td>looking for cheap high - quality software ? hello access all the software you ever imagined for bottom prices our software is at least 10 times cheaper than sold by our competitors . just a few examples : $ 80 windows xp professional $ 60 norton antivirus 2004 professional $ 90 adobe photoshop 7 . 0 $ 60 ahead nero 6 . 3 powerpack $ 150 adobe acrobat 6 . 0 professional $ 200 ms windows server 2003 enterprise $ 120 microsoft office 2003 professional $ 60 red hat linux 7 . 3 categories : security , business , antivirus , internet , etc . and many more . . . enter here : http : / / cesarbeal . youroem . com best regards , cesar beal</td>\n",
       "      <td>1</td>\n",
       "      <td>1</td>\n",
       "    </tr>\n",
       "    <tr>\n",
       "      <th>867</th>\n",
       "      <td>10226</td>\n",
       "      <td>hey ! v america ' s # 1 government grant program ! the federal government gives away billions of dollars in grants each every year ( free money ! ) take advantage of this opportunity today and change your life forever ! 30 day money back guarantee ! can ' t wait on the mail ? you can receive our fabulous grant guide book in one easy download ! start searching for grants in minutes ! simply order your grant guide book today by sending $ 21 . 95 cash , check or money order with your e - mail address enclosed to : government grants loans p . o . box 101262 cape coral fl 33910 free cash grants are being funded by the u . s . government and private foundations each and every day . these grants are funded from your tax dollars . the private foundations use the grants as a tax write - off ! this free money can be used for any purpose you can imagine . start a business , go to college , buy a house , medical bills , or even personal needs . learn how to apply for and receive pell grants scholarships . there is free money available for virtually any use including personal ! even learn how to apply for low interest and no interest government loans ! government grant facts : want to start a business ? or expand your existing business ? our government is giving away over 5 billion dollars in business grants and low - interest loans . more than 10 , 000 , 000 deserving people are getting free money to build their dreams ! what are you waiting for ? let uncle sam finance your business today . attention college students : a huge amount of money is out there for you . incredibly enough the u . s . government does care about your education ! over 3 billion dollars for college grants , pell grants scholarships is given away . no credit checks or collateral required . start applying online now ! there are low interest and no interest government loans also available . there are also special grants for research technology . good news for women minorities : two billon dollars of free money is available for you from starting a business to personal grants . take advantage of this opportunity ! this is your tax money , get your share today ! purchase your dream home or get money for home improvements : government housing grants , low interest and no interest loans are available . learn about the fha ; who they are and how they can help you ! there are also reserved free government cash grants now available for the following special interest groups : american indians veterans family members of veterans low income families community block grants non profit organizations first time home buyers artists musicians nurses teachers researchers the disabled people suffering from hiv and aids substance abuse there are literally millions available ; all you have to do is ask ! attention : none of these grants require a credit check , collateral , security deposits or co - signers . you can apply even if you have a bankruptcy or bad credit , it doesn ' t matter . it  s free money , never repay ! our grant guide program includes : information on how to write your grant proposal . complete listing of grants by category agency ! complete listing of college scholarships , grants ! information on amount of funding available ! complete information on low interest no interest loans ! phone numbers addresses of grant sources ! free shipping handling for a limited time ! 30 day money back guarantee ! if you do not like our wonderful product for any reason and you would like your money back , simply return your order and you will be refunded . order now by sending $ 21 . 95 cash , check , or money order to : government grants loansp . o . box 101262 cape coral fl 33910 electronic delivery of grant guide : can ' t wait on snail mail ? copies of the grant guide book are also available via e - mail . when you send off for your fabulous book enclose your e - mail address and we will send the book to your e - mail account a . s . a . p . ! we have assembled a team of highly trained professionals which in turn has created the finest free cash grant program in america . we have dedicated ourselves to providing a quality program that provides not only hundreds of free cash sources but also instructs you in the most important step , and that is the proposal . to remove your email address from our mailing list please click here v v ahpvqeqkoacigulvlrcqr</td>\n",
       "      <td>1</td>\n",
       "      <td>1</td>\n",
       "    </tr>\n",
       "    <tr>\n",
       "      <th>165</th>\n",
       "      <td>8010</td>\n",
       "      <td>start date : 12 / 25 / 01 ; hourahead hour : 11 ; start date : 12 / 25 / 01 ; hourahead hour : 11 ; no ancillary schedules awarded . no variances detected . log messages : parsing file - - &gt; &gt; o : \\ portland \\ westdesk \\ california scheduling \\ iso final schedules \\ 2001122511 . txt</td>\n",
       "      <td>0</td>\n",
       "      <td>0</td>\n",
       "    </tr>\n",
       "  </tbody>\n",
       "</table>\n",
       "<p>285 rows × 4 columns</p>\n",
       "</div>"
      ],
      "text/plain": [
       "     Unnamed: 0  \\\n",
       "547       17378   \n",
       "343        9701   \n",
       "760        6271   \n",
       "824       14117   \n",
       "784       13929   \n",
       "..          ...   \n",
       "524       10400   \n",
       "379        6669   \n",
       "612       11069   \n",
       "867       10226   \n",
       "165        8010   \n",
       "\n",
       "                                                                                                                                                                                                                                                                                                                                                                                                                                                                                                                                                                                                                                                                                                                                                                                                                                                                                                                                                                                                                                                                                                                                                                                                                                                                                                                                                                                                                                                                                                                                                                                                                                                                                                                                                                                                                                                                                                                                                                                                                                                                                                                                                                                                                                                                                                                                                                                                                                                                                                                                                                                                                                                                                                                                                                                                                                                                                                                                                                                                                                                                                                                                                                                                                                                                                                                                                                                                                                                                                                                                                                                                                                                                                                                                                                                                                                                                                                                                                                                                                                                                                                                                                                                                                                                                                                                                                                                                                                                                                                                                                                                                                                                                                                                                                                                                                                                                                                                                                                                                                                                                                                                                                                                                                                                                                                                                                                                                                                                                                                                                                                                                                                                                                                                                                                                                                                                                                                                                                                                                                                                                                                                                                                                                                                                                                                                                                                                                                                                                                                                                                                                                                                                                                                                                                                                                                                                                                                                                                                                                                                                                                                                                                                                                                                                                                                                                                                                                                                                                                                                                                                                                                                                                                                                                                                                                                                                                                                                                                                                                                                                                                                                                                                                                                                                                                                                                                                                                                                                                                                                                                                                                                                                                                                                                                                                                                                                                                                                                                                                                                                                                        Email Text  \\\n",
       "547                                                                                                                                                                                                                                                                                                                                                                                                                                                                                                                                                                                                                                                                                                                                                                                                                                                                                                                                                                                                                                                                                                                                                                                                                                                                                                                                                                                                                                                                                                                                                                                                                                                                                                                                                                                                                                                                                                                                                                                                                                                                                                                                                                                                                                                                                                                                                                                                                                                                                                                                                                                                                                                                                                                                                                                                                                                                                                                                                                                                                                                                                                                                                                                                                                                                                                                                                                                                                                                                                                                                                                                                                                                                                                                                                                                                                                                                                                                                                                                                                                                                                                                                                                                                                                                                                                                                                                                                                                                                                                                                                                                                                                                                                                                                                                                                                                                                                                                                                                                                                                                                                                                                                                                                                                                                                                                                                                                                                                                                                                                                                                                                                                                                                                                                                                                                                                                                                                                                                                                                                                                                                                                                                                                                                                                                                                                                                                                                                                                                                                                                                                                                                                                                                                                                                                                                                                                                                                                                                                                                                                                                                                                                                                                                                                                                                                                                                                                                                                                                                                                                                                                                                                                                                                                                                                                                                                                                                                                                                                                                                                                                                                                                                                                                                                                                                                                                                                                                                                                                                                                                                                                                                                                                          hi explain bad off explain . companion companion gym again , hottest demanding meds at afforrdable priicewe shiip to all countriies shiiping 150 hottest selling meds for you to choose from notsugar clicck here to order thus use not whom a hard . companion off fire . speaking added edge am wrong . similar mischievous promised side . back love night companion bad fly ? wife friends side .   \n",
       "343                                                                                                                                                                                                                                                                                                                                                                                                                                                                                                                                                                                                                                                                                                                                                                                                                                                                                                                                                                                                                                                                                                                                                                                                                                                                                                                                                                                                                                                                                                                                                                                                                                                                                                                                                                                                                                                                                                                                                                                                                                                                                                                                                                                                                                                                                                                                                                                                                                                                                                                                                                                                                                                                                                                                                                                                                                                                                                                                                                                                                                                                                                                                                                                                                                                                                                                                                                                                                                                                                                                                                                                                                                                                                                                                                                                                                                                                                                                                                                                                                                                                                                                                                                                                                                                                                                                                                                                                                                                                                                                                                                                                                                                                                                                                                                                                                                                                                                                                                                                                                                                                                                                                                                                                                                                                                                                                                                                                                                                                                                                                                                                                                                                                                                                                                                                                                                                                                                                                                                                                                                                                                                                                                                                                                                                                                                                                                                                                                                                                                                                                                                                                                                                                                                                                                                                                                                                                                                                                                                                                                                                                                                                                                                                                                                                                                                                                                                                                                                                                                                                                                             lower your company phone bill every month ! unlimited web conferencing subscribe to the web conference center for only $ 40 . 00 per month ! ( connects up to 15 participants at a time plus audio charges ) conduct real - time interactive meetings and presentations over the internet application sharing review and revise documents in real - time record and archive your meeting simulate a live classroom quickly hold a meeting with anyone anywhere in the world lowest rate $ . 18 per minute for audio ( toll charges included ) call anytime , from anywhere , to anywhere quality , easy to use service free demo eliminate or reduce travel expense try this on for savings . . . and turn those unnecessary trips into problem solving and fact finding conferences , saving time and wear and tear on your overworked business staff . to find out more about this revolutionary concept , fill out the form below . required input field * name * web address company name * state * business phone * home phone email address * all information given herein is strictly confidential and will not be re - distributed for any reason other than for the specific use intended . to be removed from our distribution lists , please click here . . - - - - this sf . net email is sponsored by : jabber - the world ' s fastest growing real - time communications platform ! don ' t just im . build it in ! http : / / www . jabber . com / osdn / xim spamassassin - sightings mailing list   \n",
       "760                                                                                                                                                                                                                                                                                                                                                                                                                                                                                                                                                                                                                                                                                                                                                                                                                                                                                                                                                                                                                                                                                                                                                                                                                                                                                                                                                                                                                                                                                                                                                                                                                                                                                                                                                                                                                                                                                                                                                                                                                                                                                                                                                                                                                                                                                                                                                                                                                                                                                                                                                                                                                                                                                                                                                                                                                                                                                                                                                                                                                                                                                                                                                                                                                                                                                                                                                                                                                                                                                                                                                                                                                                                                                                                                                                                                                                                                                                                                                                                                                                                                                                                                                                                                                                                                                                                                                                                                                                                                                                                                                                                                                                                                                                                                                                                                                                                                                                                                                                                                                                                                                                                                                                                                                                                                                                                                                                                                                                                                                                                                                                                                                                                                                                                                                                                                                                                                                                                                                                                                                                                                                                                                                                                                                                                                                                                                                                                                                                                                                                                                                                                                                                                                                                                                                                                                                                                                                                                                                                                                                                                                                                                                                                                                                                                                                                                                                                                                                                                                                                                                                                                                                                                                                                                                                                                                                                                                                                                                                                                                Hi all --We had a pretty serious crash on the list host over the weekend, and it\\ndestroyed all configuration data.  As a result, I've had to rebuild the\\nmailing list from various other sources -- including the archives of\\npast list traffic.If you're a list subscriber, you may have received a \"welcome to the list\"\\nmail. All well and good.  However, if you *used* to be subscribed to one \\nof the lists at some point in 2002, or never were (I'm hoping that didn't\\nhappen!), you may have also have received one of these.  Just go to the\\nURL and click \"unsubscribe\", providing the password from the mail if\\nnecessary.If you're a list admin on any of the lists at lists.boxhost.net or\\ntaint.org, I'd appreciate if you could take a look and make sure the\\nsettings match up with what they used to be.Sorry about this :(--j.-- \\n'Justin Mason' => { url => 'http://jmason.org/', blog => 'http://taint.org/' }_______________________________________________\\nIIU mailing list\\nIIU@iiu.taint.org\\nhttp://iiu.taint.org/mailman/listinfo/iiu\\n   \n",
       "824                                                                                                                                                                                                                                                                                                                                                                                                                                                                                                                                                                                                                                                                                                                                                                                                                                                                                                                                                                                                                                                                                                                                                                                                                                                                                                                                                                                                                                                                                                                                                                                                                                                                                                                                                                                                                                                                                                                                                                                                                                                                                                                                                                                                                                                                                                                                                                                                                                                                                                                                                                                                                                                                                                                                                                                                                                                                                                                                                                                                                                                                                                                                                                                                                                                                                                                                                                                                                                                                                                                                                                                                                                                                                                                                                                                                                                                                                                                                                                                                                                                                                                                                                                                                                                                                                                                                                                                                                                                                                                                                                                                                                                                                                                                                                                                                                                                                                                                                                                                                                                                                                                                                                                                                                                                                                                                                                                                                                                                                                                                                                                                                                                                                                                                                                                                                                                                                                                                                                                                                                                                                                                                                                                                                                                                                                                                                                                                                                                                                                                                                                                                                                                                                                                                                                                                                                                                                                                                                                                                                                                                                                                                                                                                                                                                                                                                                                                                                                                                                                                                                                                                                                                                                                                                                                                                                                                                                                                                                                                                                                                                                                                                                                                                                                                   re : mitch robinson is out no - he cant be on my team even if you changed his mind chris calger 503 - 464 - 3735 - - - - - original message - - - - - from : kitchen , louise sent : thursday , january 24 , 2002 9 : 08 am to : calger , christopher f . ; presto , kevin m . ; oxley , david ; whalley , greg subject : re : mitch robinson is out any point in talking to him ? - - - - - - - - - - - - - - - - - - - - - - - - - - sent from my blackberry wireless handheld - - - - - original message - - - - - from : calger , christopher f . to : presto , kevin m . ; kitchen , louise ; oxley , david ; whalley , greg sent : thu jan 24 11 : 02 : 40 2002 subject : mitch robinson is out got him what he asked for . he said done . he flaked . does not want to work for a \" trading company \" . chris calger 503 - 464 - 3735   \n",
       "784                                                                                                                                                                                                                                                                                                                                                                                                                                                                                                                                                                                                                                                                                                                                                                                                                                                                                                                                                                                                                                                                                                                                                                                                                                                                                                                                                                                                                                                                                                                                                                                                                                                                                                                                                                                                                                                                                                                                                                                                                                                                                                                                                                                                                                                                                                                                                                                                                                                                                                                                                                                                                                                                                                                                                                                                                                                                                                                                                                                                                                                                                                                                                                                                                                                                                                                                                                                                                                                                                                                                                                                                                                                                                                                                                                                                                                                                                                                                                                                                                                                                                                                                                                                                                                                                                                                                                                                                                                                                                                                                                                                                                                                                                                                                                                                                                                                                                                                                                                                                                                                                                                                                                                                                                                                                                                                                                                                                                                            ARE YOU HAVING TROUBLE WITH YOUR COMPUTER?  THE PROBLEMS MAY NOT BE WITH YOUR COMPUTER?As part of a National Marketing Test, we are offering the most amazing Windows Tips. \\nOver 60 ways to improve the performance of your computer. (GUARANTEED)\\nYou will gain a better understanding of your computer and Windows 95 - 98SE operating system just by using these amazing tips and tricks.With this program and its information you will be able to: Increase your computer's resources (Are you at 96%?)\\nSearch for hidden files\\nKeyboard Shortcuts\\nRestart your computer faster\\nOpen programs faster\\nFind better ways to free up memory\\nNew PnP devices\\nFind the hidden settings for Windows\\nHow to make a Restart Icon\\nWhat to do when Windows won't start?\\nMemory issues\\nINI versus registry\\nChanging Logon and Logoff screens\\nDid you know you could change the name of your \"Start\" menu?THIS IS ONLY A SAMPLE OF WHAT IS AVAILABLE TO YOU WITH THIS PROGRAM.During this special promotion we will be offering this amazing program for just $14.95 postage paid. This is less than half of the suggested retail price of $29.99All you will need to run this disk is a Windows based computer and an Internet browser (no need to be connected to the Internet). Sorry no Macintosh version available at this time.These are tips and tricks that computer technicians know and now you have all the information available for a low price of only $14.95 postage paid! Software and computer manufacturers don't want you to know these secrets, because they want you to buy their software and/or technology upgrades at very inflated prices.\\nThis investment of only $14.95 truly outweighs the frustration of a poorly working good computer.Gain a better understanding of your computer by using these tips.ORDER TODAY FOR YOUR COPY OF THIS AMAZING PROGRAM FOR WINDOWS.Postage paid.\\n$14.95 US, $19.95 International (U.S dollars)(We accept Cash, Check or Money order)Make Checks payable to:\\nC Chute\\nPO Box 6337\\nJacksonville, Fl. 32205-9998Please Print Clearly Your Return:Name  _______________________________________________________________l31__Address _______________________________________________________________       City, State, and Zip Code _____________________________________________E-mail Address_________________________________________________________   ........................................................................This program is fully guaranteed. If you are unhappy just return the disk within 30 days\\nAnd we will refund your money.Copyright 2001\\nC Chute\\nAll Rights ReservedAll REMOVE requests AUTOMATICALLY honored upon receipt. PLEASE understand that any effort to disrupt, close or block this REMOVE account can only result in difficulties for others wanting to be removed from our master mailing list as it will be impossible to take anyone off the list if the remove instruction cannot be received. To be removed from our master mailing list please send an email to 2getoffmylist@start.com.au   and place remove in the subject.Thank you:\\nPLEASE FORWARD TO EVERYONE YOU KNOW!\\nONE DAY THEY WILL THANK YOU!\\nThis mailing is done by an independent marketing co.\\nWe apologize if this message has reached you in error.\\nSave the Planet, Save the Trees!  Advertise With\\nE-mail.  No wasted paper!   Delete with \\nOne simple keystroke!  Less refuse in our Dumps!Make it a great day!------------------------------------------------------------------------------------------------------------   \n",
       "..                                                                                                                                                                                                                                                                                                                                                                                                                                                                                                                                                                                                                                                                                                                                                                                                                                                                                                                                                                                                                                                                                                                                                                                                                                                                                                                                                                                                                                                                                                                                                                                                                                                                                                                                                                                                                                                                                                                                                                                                                                                                                                                                                                                                                                                                                                                                                                                                                                                                                                                                                                                                                                                                                                                                                                                                                                                                                                                                                                                                                                                                                                                                                                                                                                                                                                                                                                                                                                                                                                                                                                                                                                                                                                                                                                                                                                                                                                                                                                                                                                                                                                                                                                                                                                                                                                                                                                                                                                                                                                                                                                                                                                                                                                                                                                                                                                                                                                                                                                                                                                                                                                                                                                                                                                                                                                                                                                                                                                                                                                                                                                                                                                                                                                                                                                                                                                                                                                                                                                                                                                                                                                                                                                                                                                                                                                                                                                                                                                                                                                                                                                                                                                                                                                                                                                                                                                                                                                                                                                                                                                                                                                                                                                                                                                                                                                                                                                                                                                                                                                                                                                                                                                                                                                                                                                                                                                                                                                                                                                                                                                                                                                                                                                                                                                                                                                                                                                                                                                                                                                                                                                                                                                                                                                                                                                                                                                                                                                                                                                                                                                                                             ...   \n",
       "524  IGTT\\nVol. \\n6, Issue 243 - August 2002\\nThe \\nWall Street BulletinYour \\nFirst Source For News From \"The Street\"\\nSymbol: IGTT\\nShares Outstanding: 373,400,0000\\nFloat (est.): 52,560,000\\nShort-Term Target: $3.75\\n52 week High/Low: $1.10/0.02\\nRating: Strong Buy \\nOur last pick \\nSymphony Telecom (OTCBB: SYPY) went UP 100% in just one week!!!\\nInDigiNet Identifies \\nAcquisition Targets with Combined Revenues of $35 Million...\\nÂ \\nTelecom Consolidation Begins to Accelerate The Wall Street Bulletin believes \\nthat the recent \\ninvestment of capital into Level 3, lead by Warren Buffett, \\nis further proof of the continued validity of the telecommunication \\nmarket when looked at from the perspective of the small to mid-sized \\nenterprises. After the boom and bust comes the revival. For some \\ncarriers drowning in debt, such as Global Crossing and WorldCom, \\nthe future may be dim. But for those survivors of the industry \\nthat have managed to remain on their feet, other companies' problems \\nmean opportunity. \"Every major industry in the history of \\nthe United States has experienced a similar transformation, from \\nthe railroads in the late 1800s to the automakers in the mid-1900s \\nto the Dot-Coms at the end of the 20th century,\" says Robert \\nSaunders, director of the Eastern Management Group market \\nresearch firm. Christopher \\nDean, CTO of OSS company Eftia, says \"We are seeing all \\nthe people that are the survivors. There's all this pent-up money \\nand for the surviving carriers out there, they can get what used \\nto cost a few billion for a few millions.\" Read the full \\nstory from Telecommunications Magazine - See the link at the end \\nof this newsletter. \\nAs we write this report, our New Recommendation \\nInDigiNet, Inc. (OTCBB: \\nIGTT) has only been trading on the OTC Bulletin Board since \\nlate May of 2002. As InDigiNet, Inc. continues to implement its \\nbusiness plan, we believe this company will help lead the way \\nup for the resurgence of the Telecom Sector. This could be our \\nstrongest recommendation of the year. We are giving IGTT our Highest \\nRating of STRONG BUY/AGGRESSIVE GROWTH.\\nÂ \\nGround Floor Opportunity / Tremendous \\nGrowth Potential \\nWe believe IGTT will perform equally to, if not \\ngreater than its competition. A similar telecommunications company, \\nTalk America Holdings (Nasdaq: TALK), share \\nprice began to explode in April of this year moving from just \\nover $0.40/share to over $4.00/share in late June. Talk America \\nHoldings previously had a market cap of only $24.51 million, but \\ntoday has a market cap of $267 million.\\nIGTT curently has a market cap of $22.42 million. \\nUsing the TALK model for potential growth, IGTT could very well \\nbe trading in the .60 range in only a few months, with a market \\ncap in excess of $250 million. This would be an increase of 1000%. \\nSo you see why IGTT has such great potential and the time is right \\n for investors to get in on the ground floor.\\nÂ \\nThe InDigNet Strategy\\nInDigiNet, Inc. is an integrated solutions company \\nthat provides small to mid-sized enterprises (SMEs) with an integrated \\ncommunication solution. InDigiNet is a prestigious \"Diamond\" \\nlevel partner of Avaya, as well as a reseller for Cisco and \\nCompaq. The Company will offer data, local, long distance and \\nwireless services to SMEs over third party networks enabling the \\nCompany to offer a comprehensive suite of services without the \\ncapital burden of building a communication network. The Companyâ€™s \\nstrategy is to acquire the customer bases of smaller, single market \\ncommunication companies and attractively priced Internet \\nService Providers (ISPs). The Company recently completed \\nits acquisitions of Fox Telecommunications and WBConnect. \\nInDigiNet will then expand the breadth of their services to grow \\nrevenue and enhance profitability. SMEs account for $120 billion \\nin commercial telephony, data services and technology spending, \\nor 33% of the countryâ€™s total market, and this spending \\nis expected to grow at above average rates over the next ten years. \\nSource: Morgan Stanley Dean Witter. \\nThe IGTT web site: www.indiginet.com\\nÂ \\nThe IT Market\\nBased on recent studies, the countryâ€™s 7.4 \\nmillion SMEs currently lag significantly in the utilization of \\nIT and data \\ncommunications, including Internet access, web services, business \\nsoftware and e-commerce. Worldwide IT spending increased to $981 \\nbillion US for the year, an overall increase of 3.7 percent over \\n2001, according to a study released 7/24/2002 by market researcher \\nIDC. IT spending in 2003 is expected to reach record heights, \\ngrowing by 9 percent worldwide to top the $1 trillion mark for \\nthe first time. In IDC's revised forecasts for IT spending in \\n2002 and 2003, IT spending in the US is expected to increase by \\n3 percent this year over 2001 to $436 billion, with further growth \\nof 9 percent in 2003. Western Europe can expect growth of 4 percent \\nin 2002 and 6 percent in 2003. Though Japan will experience flat \\ngrowth levels this year, by next year growth in the market will \\nreturn to the tune of 7 percent with particular strength shown \\nin China, India, Korea, Russia, the Philippines, South Africa \\nand Poland. Source: IDC\\nÂ \\nParticulars\\nThe Wall Street Bulletin is putting IGTT on our \\nStrong Buy/Aggressive Growth recommendation list for the following \\nreasons:\\n1. The Company's strategy is to acquire the customer \\nbases of smaller, single-market communication companies and attractively \\npriced Internet Service Providers (ISPs). The Company will sell \\nits bundled service package to the acquired customer base that \\nwill form a direct and immediate distribution channel for all \\ntypes of communication services - local, long distance, wireless, \\nand data. 2. The Company is currently serving many customers in the Denver/Front \\nRange communities but in particular the education vertical market \\nhas recognized the value of integrating a wireless broadband data \\nnetwork into the existing campus network. The Company's customers \\ninclude United States Olympic Committee \\n(USOC), University of Denver, \\nand Colorado State University. \\n3. The Company has identified approximately $35,000,000 in revenues \\nto acquire comprised of distressed assets to be auctioned in bankruptcy \\ncourt and smaller communication providers with valuable customer \\nbases. Each of the targeted companies are within the Company's \\nfootprint and will, subject to purchase completion, increase the \\nCompany's embedded customer base. \\nÂ \\nInvestment Consideration\\nInDigiNet Inc recently filed its 10QSB, for the \\nthree months ended March 31, 2002. IGTT reported Revenues of $339,694 \\nin Q1 2002 vs. Revenues of $0 in Q1 2001. At this current growth \\nrate, revenues should grow above $1.3 million for their first \\nyear of production with no increases in acquisitions. As more \\nand more large corporations come under government scrutiny, investors \\nwill turn to small to mid-sized companies with their investment \\ndollars. \\nÂ \\nNEWS - InDigiNet, Inc. Completes Acquisition of \\nFox Telecommunications, Inc. - PRNewswire - CLICK \\nHERE\\nNEWS - InDigiNet, Inc. Completes Acquisition of \\nWBConnect - PRNewswire - CLICK \\nHERE\\nÂ \\nNEWS - Telecom Consolidation Begins to Accelerate \\n- from Telecommunications Magazine - CLICK \\nHERE\\nÂ \\nIndustry Interests - Telecommunications Websites: \\nTIA Online - Telecommunications \\nMagazine - IT World\\nÂ \\nThe Wall \\nStreet Bulletin is an independent newsletter and is not affiliated \\nwith InDigiNet, Inc.\\nÂ \\nThe Wall Street Bulletin is an independent \\nresearch firm. This report is based on The Wall Street Bulletinâ€™s \\nindependent analysis but also relies on information supplied by \\nsources believed to be reliable. This report may not be the opinion \\nof IGTT management. The Wall Street Bulletin has also been retained \\nto research and issue reports on IGTT and was paid ten thousand \\ndollars by a shareholder of the company. The Wall Street Bulletin \\nmay from time to time buy or sell IGTT common shares in the open \\nmarket without notice. The information contained in this report \\nis not intended to be, and shall not constitute, an offer to sell \\nor solicitation of any offer to buy any security. It is intended \\nfor information only. Some statements may contain so-called â€œforward-looking \\nstatementsâ€. Many factors could cause actual results to \\ndiffer. Investors should consult with their Investment Advisor \\nconcerning IGTT. Copyright 2002 Â© The Wall Street Bulletin \\n- All Rights Reserved\\nI no longer wish to receive your \\nnewsletter CLICK \\nHEREikxrkobewgotpevemtbokjgssytdinm\\n   \n",
       "379                                                                                                                                                                                                                                                                                                                                                                                                                                                                                                                                                                                                                                                                                                                                                                                                                                                                                                                                                                                                                                                                                                                                                                                                                                                                                                                                                                                                                                                                                                                                                                                                                                                                                                                                                                                                                                                                                                                                                                                                                                                                                                                                                                                                                                                                                                                                                                                                                                                                                                                                                                                                                                                                                                                                                                                                                                                                                                                                                                                                                                                                                                                                                                                                                                                                                                                                                                                                                                                                                                                                                                                                                                                                                                                                                                                                                                                                                                                                                                                                                                                                                                                                                                                                                                                                                                                                                                                                                                                                                                                                                                                                                                                                                                                                                                                                                                                                                                                                                                                                                                                                                                                                                                                                                                                                                                                                                                                                                                                                                                                                                                                                                                                                                                                                                                                                                                                                                                                                                                                                                                                                                                                                                                                                                                                                                                                                                                                                                                                                                                                                                                                                                                                                                                                                                                                                                                                                                                                                                                                                                                                                                                                                                                                                                                                                                                                          2000 chairman ' s award everyday heroes are all around us at enron , living our core values of respect , integrity , communication and excellence in everything they do . some of these heroes make a big splash while others just quietly make a difference in the workplace around them . either way , these special individuals deserve to be recognized with a nomination for the 2000 chairman ' s award . as there is more than just one employee living the values at enron , this award program will honor 10 employees as members of the chairman ' s roundtable . from that group , the one individual most embodying our values will be presented with the chairman ' s award at the management conference in san antonio in november . the beauty of this award program is that it is completely employee - driven from beginning to end . from your nominations , an international employee committee will select the chairman ' s roundtable and eventually , the chairman ' s award winner . your role of nominating our everyday heroes is extremely vital to the program ' s success . if someone has made a positive impression on you , please take the time to complete a nomination form and send it to charla reese by october 1 , 2000 . you may click here for a printable form : http : / / home . enron . com / announce / chairman _ nom / form 3 . doc for more information on the chairman ' s award , including details on last year ' s roundtable members and previous winners , repit suliyono and bobbye brown , please click here : http : / / home . enron . com / announce / chairman _ nom again , this is a very special award at enron and we sincerely thank you for your participation . ken , jeff and joe   \n",
       "612                                                                                                                                                                                                                                                                                                                                                                                                                                                                                                                                                                                                                                                                                                                                                                                                                                                                                                                                                                                                                                                                                                                                                                                                                                                                                                                                                                                                                                                                                                                                                                                                                                                                                                                                                                                                                                                                                                                                                                                                                                                                                                                                                                                                                                                                                                                                                                                                                                                                                                                                                                                                                                                                                                                                                                                                                                                                                                                                                                                                                                                                                                                                                                                                                                                                                                                                                                                                                                                                                                                                                                                                                                                                                                                                                                                                                                                                                                                                                                                                                                                                                                                                                                                                                                                                                                                                                                                                                                                                                                                                                                                                                                                                                                                                                                                                                                                                                                                                                                                                                                                                                                                                                                                                                                                                                                                                                                                                                                                                                                                                                                                                                                                                                                                                                                                                                                                                                                                                                                                                                                                                                                                                                                                                                                                                                                                                                                                                                                                                                                                                                                                                                                                                                                                                                                                                                                                                                                                                                                                                                                                                                                                                                                                                                                                                                                                                                                                                                                                                                                                                                                                                                                                                                                                                                                                                                                                                                                                                                                                                                                                                                                                                                                                                                                                                                                                                                                                                                  looking for cheap high - quality software ? hello access all the software you ever imagined for bottom prices our software is at least 10 times cheaper than sold by our competitors . just a few examples : $ 80 windows xp professional $ 60 norton antivirus 2004 professional $ 90 adobe photoshop 7 . 0 $ 60 ahead nero 6 . 3 powerpack $ 150 adobe acrobat 6 . 0 professional $ 200 ms windows server 2003 enterprise $ 120 microsoft office 2003 professional $ 60 red hat linux 7 . 3 categories : security , business , antivirus , internet , etc . and many more . . . enter here : http : / / cesarbeal . youroem . com best regards , cesar beal   \n",
       "867                                                                                                                                                                                                                                                                                                                                                                                                                                                                                                                                                                                                                                                                                                                                                                                                                                                                                                                                                                                                                                                                                                                                                                                                                                                                                                                                                                                                                                                                                                                                                                                                                                                                                                                                                                                                                                                                                                                                                                                                                                                                                                                                                                                                                                                                                                                                                                                                                                                                                                                                                                                                                                                                                                                                                                                                                                                                                                                                                                                                                                                                                                                                                                                                                                                                                                                                                                                                                                                                                                                                                                                                                                                                                                                                                                                                                                                                                                                                                                                                                                                                                                                                                                                                                                                                                                                                                                                                                                                                                                                    hey ! v america ' s # 1 government grant program ! the federal government gives away billions of dollars in grants each every year ( free money ! ) take advantage of this opportunity today and change your life forever ! 30 day money back guarantee ! can ' t wait on the mail ? you can receive our fabulous grant guide book in one easy download ! start searching for grants in minutes ! simply order your grant guide book today by sending $ 21 . 95 cash , check or money order with your e - mail address enclosed to : government grants loans p . o . box 101262 cape coral fl 33910 free cash grants are being funded by the u . s . government and private foundations each and every day . these grants are funded from your tax dollars . the private foundations use the grants as a tax write - off ! this free money can be used for any purpose you can imagine . start a business , go to college , buy a house , medical bills , or even personal needs . learn how to apply for and receive pell grants scholarships . there is free money available for virtually any use including personal ! even learn how to apply for low interest and no interest government loans ! government grant facts : want to start a business ? or expand your existing business ? our government is giving away over 5 billion dollars in business grants and low - interest loans . more than 10 , 000 , 000 deserving people are getting free money to build their dreams ! what are you waiting for ? let uncle sam finance your business today . attention college students : a huge amount of money is out there for you . incredibly enough the u . s . government does care about your education ! over 3 billion dollars for college grants , pell grants scholarships is given away . no credit checks or collateral required . start applying online now ! there are low interest and no interest government loans also available . there are also special grants for research technology . good news for women minorities : two billon dollars of free money is available for you from starting a business to personal grants . take advantage of this opportunity ! this is your tax money , get your share today ! purchase your dream home or get money for home improvements : government housing grants , low interest and no interest loans are available . learn about the fha ; who they are and how they can help you ! there are also reserved free government cash grants now available for the following special interest groups : american indians veterans family members of veterans low income families community block grants non profit organizations first time home buyers artists musicians nurses teachers researchers the disabled people suffering from hiv and aids substance abuse there are literally millions available ; all you have to do is ask ! attention : none of these grants require a credit check , collateral , security deposits or co - signers . you can apply even if you have a bankruptcy or bad credit , it doesn ' t matter . it  s free money , never repay ! our grant guide program includes : information on how to write your grant proposal . complete listing of grants by category agency ! complete listing of college scholarships , grants ! information on amount of funding available ! complete information on low interest no interest loans ! phone numbers addresses of grant sources ! free shipping handling for a limited time ! 30 day money back guarantee ! if you do not like our wonderful product for any reason and you would like your money back , simply return your order and you will be refunded . order now by sending $ 21 . 95 cash , check , or money order to : government grants loansp . o . box 101262 cape coral fl 33910 electronic delivery of grant guide : can ' t wait on snail mail ? copies of the grant guide book are also available via e - mail . when you send off for your fabulous book enclose your e - mail address and we will send the book to your e - mail account a . s . a . p . ! we have assembled a team of highly trained professionals which in turn has created the finest free cash grant program in america . we have dedicated ourselves to providing a quality program that provides not only hundreds of free cash sources but also instructs you in the most important step , and that is the proposal . to remove your email address from our mailing list please click here v v ahpvqeqkoacigulvlrcqr   \n",
       "165                                                                                                                                                                                                                                                                                                                                                                                                                                                                                                                                                                                                                                                                                                                                                                                                                                                                                                                                                                                                                                                                                                                                                                                                                                                                                                                                                                                                                                                                                                                                                                                                                                                                                                                                                                                                                                                                                                                                                                                                                                                                                                                                                                                                                                                                                                                                                                                                                                                                                                                                                                                                                                                                                                                                                                                                                                                                                                                                                                                                                                                                                                                                                                                                                                                                                                                                                                                                                                                                                                                                                                                                                                                                                                                                                                                                                                                                                                                                                                                                                                                                                                                                                                                                                                                                                                                                                                                                                                                                                                                                                                                                                                                                                                                                                                                                                                                                                                                                                                                                                                                                                                                                                                                                                                                                                                                                                                                                                                                                                                                                                                                                                                                                                                                                                                                                                                                                                                                                                                                                                                                                                                                                                                                                                                                                                                                                                                                                                                                                                                                                                                                                                                                                                                                                                                                                                                                                                                                                                                                                                                                                                                                                                                                                                                                                                                                                                                                                                                                                                                                                                                                                                                                                                                                                                                                                                                                                                                                                                                                                                                                                                                                                                                                                                                                                                                                                                                                                                                                                                                                                                                                                                                                                                                                                                                                    start date : 12 / 25 / 01 ; hourahead hour : 11 ; start date : 12 / 25 / 01 ; hourahead hour : 11 ; no ancillary schedules awarded . no variances detected . log messages : parsing file - - > > o : \\ portland \\ westdesk \\ california scheduling \\ iso final schedules \\ 2001122511 . txt   \n",
       "\n",
       "     Email Type  prediction_label  \n",
       "547           1                 1  \n",
       "343           1                 1  \n",
       "760           0                 0  \n",
       "824           0                 0  \n",
       "784           1                 1  \n",
       "..          ...               ...  \n",
       "524           1                 0  \n",
       "379           0                 0  \n",
       "612           1                 1  \n",
       "867           1                 1  \n",
       "165           0                 0  \n",
       "\n",
       "[285 rows x 4 columns]"
      ]
     },
     "execution_count": 38,
     "metadata": {},
     "output_type": "execute_result"
    }
   ],
   "source": [
    "predict_model(tuned_model)"
   ]
  },
  {
   "cell_type": "markdown",
   "id": "2a80f9d6",
   "metadata": {},
   "source": [
    "Entrenamos el modelo sobre TODO el dataset de entrenamiento (incluyendo el holdout set). Sirve como paso final antes de hacer predicciones en datos nuevos reales o antes de guardar el modelo para producción."
   ]
  },
  {
   "cell_type": "code",
   "execution_count": 40,
   "id": "294f71e1",
   "metadata": {},
   "outputs": [],
   "source": [
    "final_model = finalize_model(tuned_model)"
   ]
  },
  {
   "cell_type": "code",
   "execution_count": 43,
   "id": "d6d81516",
   "metadata": {},
   "outputs": [
    {
     "data": {
      "text/html": [
       "<style>#sk-container-id-1 {\n",
       "  /* Definition of color scheme common for light and dark mode */\n",
       "  --sklearn-color-text: black;\n",
       "  --sklearn-color-line: gray;\n",
       "  /* Definition of color scheme for unfitted estimators */\n",
       "  --sklearn-color-unfitted-level-0: #fff5e6;\n",
       "  --sklearn-color-unfitted-level-1: #f6e4d2;\n",
       "  --sklearn-color-unfitted-level-2: #ffe0b3;\n",
       "  --sklearn-color-unfitted-level-3: chocolate;\n",
       "  /* Definition of color scheme for fitted estimators */\n",
       "  --sklearn-color-fitted-level-0: #f0f8ff;\n",
       "  --sklearn-color-fitted-level-1: #d4ebff;\n",
       "  --sklearn-color-fitted-level-2: #b3dbfd;\n",
       "  --sklearn-color-fitted-level-3: cornflowerblue;\n",
       "\n",
       "  /* Specific color for light theme */\n",
       "  --sklearn-color-text-on-default-background: var(--sg-text-color, var(--theme-code-foreground, var(--jp-content-font-color1, black)));\n",
       "  --sklearn-color-background: var(--sg-background-color, var(--theme-background, var(--jp-layout-color0, white)));\n",
       "  --sklearn-color-border-box: var(--sg-text-color, var(--theme-code-foreground, var(--jp-content-font-color1, black)));\n",
       "  --sklearn-color-icon: #696969;\n",
       "\n",
       "  @media (prefers-color-scheme: dark) {\n",
       "    /* Redefinition of color scheme for dark theme */\n",
       "    --sklearn-color-text-on-default-background: var(--sg-text-color, var(--theme-code-foreground, var(--jp-content-font-color1, white)));\n",
       "    --sklearn-color-background: var(--sg-background-color, var(--theme-background, var(--jp-layout-color0, #111)));\n",
       "    --sklearn-color-border-box: var(--sg-text-color, var(--theme-code-foreground, var(--jp-content-font-color1, white)));\n",
       "    --sklearn-color-icon: #878787;\n",
       "  }\n",
       "}\n",
       "\n",
       "#sk-container-id-1 {\n",
       "  color: var(--sklearn-color-text);\n",
       "}\n",
       "\n",
       "#sk-container-id-1 pre {\n",
       "  padding: 0;\n",
       "}\n",
       "\n",
       "#sk-container-id-1 input.sk-hidden--visually {\n",
       "  border: 0;\n",
       "  clip: rect(1px 1px 1px 1px);\n",
       "  clip: rect(1px, 1px, 1px, 1px);\n",
       "  height: 1px;\n",
       "  margin: -1px;\n",
       "  overflow: hidden;\n",
       "  padding: 0;\n",
       "  position: absolute;\n",
       "  width: 1px;\n",
       "}\n",
       "\n",
       "#sk-container-id-1 div.sk-dashed-wrapped {\n",
       "  border: 1px dashed var(--sklearn-color-line);\n",
       "  margin: 0 0.4em 0.5em 0.4em;\n",
       "  box-sizing: border-box;\n",
       "  padding-bottom: 0.4em;\n",
       "  background-color: var(--sklearn-color-background);\n",
       "}\n",
       "\n",
       "#sk-container-id-1 div.sk-container {\n",
       "  /* jupyter's `normalize.less` sets `[hidden] { display: none; }`\n",
       "     but bootstrap.min.css set `[hidden] { display: none !important; }`\n",
       "     so we also need the `!important` here to be able to override the\n",
       "     default hidden behavior on the sphinx rendered scikit-learn.org.\n",
       "     See: https://github.com/scikit-learn/scikit-learn/issues/21755 */\n",
       "  display: inline-block !important;\n",
       "  position: relative;\n",
       "}\n",
       "\n",
       "#sk-container-id-1 div.sk-text-repr-fallback {\n",
       "  display: none;\n",
       "}\n",
       "\n",
       "div.sk-parallel-item,\n",
       "div.sk-serial,\n",
       "div.sk-item {\n",
       "  /* draw centered vertical line to link estimators */\n",
       "  background-image: linear-gradient(var(--sklearn-color-text-on-default-background), var(--sklearn-color-text-on-default-background));\n",
       "  background-size: 2px 100%;\n",
       "  background-repeat: no-repeat;\n",
       "  background-position: center center;\n",
       "}\n",
       "\n",
       "/* Parallel-specific style estimator block */\n",
       "\n",
       "#sk-container-id-1 div.sk-parallel-item::after {\n",
       "  content: \"\";\n",
       "  width: 100%;\n",
       "  border-bottom: 2px solid var(--sklearn-color-text-on-default-background);\n",
       "  flex-grow: 1;\n",
       "}\n",
       "\n",
       "#sk-container-id-1 div.sk-parallel {\n",
       "  display: flex;\n",
       "  align-items: stretch;\n",
       "  justify-content: center;\n",
       "  background-color: var(--sklearn-color-background);\n",
       "  position: relative;\n",
       "}\n",
       "\n",
       "#sk-container-id-1 div.sk-parallel-item {\n",
       "  display: flex;\n",
       "  flex-direction: column;\n",
       "}\n",
       "\n",
       "#sk-container-id-1 div.sk-parallel-item:first-child::after {\n",
       "  align-self: flex-end;\n",
       "  width: 50%;\n",
       "}\n",
       "\n",
       "#sk-container-id-1 div.sk-parallel-item:last-child::after {\n",
       "  align-self: flex-start;\n",
       "  width: 50%;\n",
       "}\n",
       "\n",
       "#sk-container-id-1 div.sk-parallel-item:only-child::after {\n",
       "  width: 0;\n",
       "}\n",
       "\n",
       "/* Serial-specific style estimator block */\n",
       "\n",
       "#sk-container-id-1 div.sk-serial {\n",
       "  display: flex;\n",
       "  flex-direction: column;\n",
       "  align-items: center;\n",
       "  background-color: var(--sklearn-color-background);\n",
       "  padding-right: 1em;\n",
       "  padding-left: 1em;\n",
       "}\n",
       "\n",
       "\n",
       "/* Toggleable style: style used for estimator/Pipeline/ColumnTransformer box that is\n",
       "clickable and can be expanded/collapsed.\n",
       "- Pipeline and ColumnTransformer use this feature and define the default style\n",
       "- Estimators will overwrite some part of the style using the `sk-estimator` class\n",
       "*/\n",
       "\n",
       "/* Pipeline and ColumnTransformer style (default) */\n",
       "\n",
       "#sk-container-id-1 div.sk-toggleable {\n",
       "  /* Default theme specific background. It is overwritten whether we have a\n",
       "  specific estimator or a Pipeline/ColumnTransformer */\n",
       "  background-color: var(--sklearn-color-background);\n",
       "}\n",
       "\n",
       "/* Toggleable label */\n",
       "#sk-container-id-1 label.sk-toggleable__label {\n",
       "  cursor: pointer;\n",
       "  display: block;\n",
       "  width: 100%;\n",
       "  margin-bottom: 0;\n",
       "  padding: 0.5em;\n",
       "  box-sizing: border-box;\n",
       "  text-align: center;\n",
       "}\n",
       "\n",
       "#sk-container-id-1 label.sk-toggleable__label-arrow:before {\n",
       "  /* Arrow on the left of the label */\n",
       "  content: \"▸\";\n",
       "  float: left;\n",
       "  margin-right: 0.25em;\n",
       "  color: var(--sklearn-color-icon);\n",
       "}\n",
       "\n",
       "#sk-container-id-1 label.sk-toggleable__label-arrow:hover:before {\n",
       "  color: var(--sklearn-color-text);\n",
       "}\n",
       "\n",
       "/* Toggleable content - dropdown */\n",
       "\n",
       "#sk-container-id-1 div.sk-toggleable__content {\n",
       "  max-height: 0;\n",
       "  max-width: 0;\n",
       "  overflow: hidden;\n",
       "  text-align: left;\n",
       "  /* unfitted */\n",
       "  background-color: var(--sklearn-color-unfitted-level-0);\n",
       "}\n",
       "\n",
       "#sk-container-id-1 div.sk-toggleable__content.fitted {\n",
       "  /* fitted */\n",
       "  background-color: var(--sklearn-color-fitted-level-0);\n",
       "}\n",
       "\n",
       "#sk-container-id-1 div.sk-toggleable__content pre {\n",
       "  margin: 0.2em;\n",
       "  border-radius: 0.25em;\n",
       "  color: var(--sklearn-color-text);\n",
       "  /* unfitted */\n",
       "  background-color: var(--sklearn-color-unfitted-level-0);\n",
       "}\n",
       "\n",
       "#sk-container-id-1 div.sk-toggleable__content.fitted pre {\n",
       "  /* unfitted */\n",
       "  background-color: var(--sklearn-color-fitted-level-0);\n",
       "}\n",
       "\n",
       "#sk-container-id-1 input.sk-toggleable__control:checked~div.sk-toggleable__content {\n",
       "  /* Expand drop-down */\n",
       "  max-height: 200px;\n",
       "  max-width: 100%;\n",
       "  overflow: auto;\n",
       "}\n",
       "\n",
       "#sk-container-id-1 input.sk-toggleable__control:checked~label.sk-toggleable__label-arrow:before {\n",
       "  content: \"▾\";\n",
       "}\n",
       "\n",
       "/* Pipeline/ColumnTransformer-specific style */\n",
       "\n",
       "#sk-container-id-1 div.sk-label input.sk-toggleable__control:checked~label.sk-toggleable__label {\n",
       "  color: var(--sklearn-color-text);\n",
       "  background-color: var(--sklearn-color-unfitted-level-2);\n",
       "}\n",
       "\n",
       "#sk-container-id-1 div.sk-label.fitted input.sk-toggleable__control:checked~label.sk-toggleable__label {\n",
       "  background-color: var(--sklearn-color-fitted-level-2);\n",
       "}\n",
       "\n",
       "/* Estimator-specific style */\n",
       "\n",
       "/* Colorize estimator box */\n",
       "#sk-container-id-1 div.sk-estimator input.sk-toggleable__control:checked~label.sk-toggleable__label {\n",
       "  /* unfitted */\n",
       "  background-color: var(--sklearn-color-unfitted-level-2);\n",
       "}\n",
       "\n",
       "#sk-container-id-1 div.sk-estimator.fitted input.sk-toggleable__control:checked~label.sk-toggleable__label {\n",
       "  /* fitted */\n",
       "  background-color: var(--sklearn-color-fitted-level-2);\n",
       "}\n",
       "\n",
       "#sk-container-id-1 div.sk-label label.sk-toggleable__label,\n",
       "#sk-container-id-1 div.sk-label label {\n",
       "  /* The background is the default theme color */\n",
       "  color: var(--sklearn-color-text-on-default-background);\n",
       "}\n",
       "\n",
       "/* On hover, darken the color of the background */\n",
       "#sk-container-id-1 div.sk-label:hover label.sk-toggleable__label {\n",
       "  color: var(--sklearn-color-text);\n",
       "  background-color: var(--sklearn-color-unfitted-level-2);\n",
       "}\n",
       "\n",
       "/* Label box, darken color on hover, fitted */\n",
       "#sk-container-id-1 div.sk-label.fitted:hover label.sk-toggleable__label.fitted {\n",
       "  color: var(--sklearn-color-text);\n",
       "  background-color: var(--sklearn-color-fitted-level-2);\n",
       "}\n",
       "\n",
       "/* Estimator label */\n",
       "\n",
       "#sk-container-id-1 div.sk-label label {\n",
       "  font-family: monospace;\n",
       "  font-weight: bold;\n",
       "  display: inline-block;\n",
       "  line-height: 1.2em;\n",
       "}\n",
       "\n",
       "#sk-container-id-1 div.sk-label-container {\n",
       "  text-align: center;\n",
       "}\n",
       "\n",
       "/* Estimator-specific */\n",
       "#sk-container-id-1 div.sk-estimator {\n",
       "  font-family: monospace;\n",
       "  border: 1px dotted var(--sklearn-color-border-box);\n",
       "  border-radius: 0.25em;\n",
       "  box-sizing: border-box;\n",
       "  margin-bottom: 0.5em;\n",
       "  /* unfitted */\n",
       "  background-color: var(--sklearn-color-unfitted-level-0);\n",
       "}\n",
       "\n",
       "#sk-container-id-1 div.sk-estimator.fitted {\n",
       "  /* fitted */\n",
       "  background-color: var(--sklearn-color-fitted-level-0);\n",
       "}\n",
       "\n",
       "/* on hover */\n",
       "#sk-container-id-1 div.sk-estimator:hover {\n",
       "  /* unfitted */\n",
       "  background-color: var(--sklearn-color-unfitted-level-2);\n",
       "}\n",
       "\n",
       "#sk-container-id-1 div.sk-estimator.fitted:hover {\n",
       "  /* fitted */\n",
       "  background-color: var(--sklearn-color-fitted-level-2);\n",
       "}\n",
       "\n",
       "/* Specification for estimator info (e.g. \"i\" and \"?\") */\n",
       "\n",
       "/* Common style for \"i\" and \"?\" */\n",
       "\n",
       ".sk-estimator-doc-link,\n",
       "a:link.sk-estimator-doc-link,\n",
       "a:visited.sk-estimator-doc-link {\n",
       "  float: right;\n",
       "  font-size: smaller;\n",
       "  line-height: 1em;\n",
       "  font-family: monospace;\n",
       "  background-color: var(--sklearn-color-background);\n",
       "  border-radius: 1em;\n",
       "  height: 1em;\n",
       "  width: 1em;\n",
       "  text-decoration: none !important;\n",
       "  margin-left: 1ex;\n",
       "  /* unfitted */\n",
       "  border: var(--sklearn-color-unfitted-level-1) 1pt solid;\n",
       "  color: var(--sklearn-color-unfitted-level-1);\n",
       "}\n",
       "\n",
       ".sk-estimator-doc-link.fitted,\n",
       "a:link.sk-estimator-doc-link.fitted,\n",
       "a:visited.sk-estimator-doc-link.fitted {\n",
       "  /* fitted */\n",
       "  border: var(--sklearn-color-fitted-level-1) 1pt solid;\n",
       "  color: var(--sklearn-color-fitted-level-1);\n",
       "}\n",
       "\n",
       "/* On hover */\n",
       "div.sk-estimator:hover .sk-estimator-doc-link:hover,\n",
       ".sk-estimator-doc-link:hover,\n",
       "div.sk-label-container:hover .sk-estimator-doc-link:hover,\n",
       ".sk-estimator-doc-link:hover {\n",
       "  /* unfitted */\n",
       "  background-color: var(--sklearn-color-unfitted-level-3);\n",
       "  color: var(--sklearn-color-background);\n",
       "  text-decoration: none;\n",
       "}\n",
       "\n",
       "div.sk-estimator.fitted:hover .sk-estimator-doc-link.fitted:hover,\n",
       ".sk-estimator-doc-link.fitted:hover,\n",
       "div.sk-label-container:hover .sk-estimator-doc-link.fitted:hover,\n",
       ".sk-estimator-doc-link.fitted:hover {\n",
       "  /* fitted */\n",
       "  background-color: var(--sklearn-color-fitted-level-3);\n",
       "  color: var(--sklearn-color-background);\n",
       "  text-decoration: none;\n",
       "}\n",
       "\n",
       "/* Span, style for the box shown on hovering the info icon */\n",
       ".sk-estimator-doc-link span {\n",
       "  display: none;\n",
       "  z-index: 9999;\n",
       "  position: relative;\n",
       "  font-weight: normal;\n",
       "  right: .2ex;\n",
       "  padding: .5ex;\n",
       "  margin: .5ex;\n",
       "  width: min-content;\n",
       "  min-width: 20ex;\n",
       "  max-width: 50ex;\n",
       "  color: var(--sklearn-color-text);\n",
       "  box-shadow: 2pt 2pt 4pt #999;\n",
       "  /* unfitted */\n",
       "  background: var(--sklearn-color-unfitted-level-0);\n",
       "  border: .5pt solid var(--sklearn-color-unfitted-level-3);\n",
       "}\n",
       "\n",
       ".sk-estimator-doc-link.fitted span {\n",
       "  /* fitted */\n",
       "  background: var(--sklearn-color-fitted-level-0);\n",
       "  border: var(--sklearn-color-fitted-level-3);\n",
       "}\n",
       "\n",
       ".sk-estimator-doc-link:hover span {\n",
       "  display: block;\n",
       "}\n",
       "\n",
       "/* \"?\"-specific style due to the `<a>` HTML tag */\n",
       "\n",
       "#sk-container-id-1 a.estimator_doc_link {\n",
       "  float: right;\n",
       "  font-size: 1rem;\n",
       "  line-height: 1em;\n",
       "  font-family: monospace;\n",
       "  background-color: var(--sklearn-color-background);\n",
       "  border-radius: 1rem;\n",
       "  height: 1rem;\n",
       "  width: 1rem;\n",
       "  text-decoration: none;\n",
       "  /* unfitted */\n",
       "  color: var(--sklearn-color-unfitted-level-1);\n",
       "  border: var(--sklearn-color-unfitted-level-1) 1pt solid;\n",
       "}\n",
       "\n",
       "#sk-container-id-1 a.estimator_doc_link.fitted {\n",
       "  /* fitted */\n",
       "  border: var(--sklearn-color-fitted-level-1) 1pt solid;\n",
       "  color: var(--sklearn-color-fitted-level-1);\n",
       "}\n",
       "\n",
       "/* On hover */\n",
       "#sk-container-id-1 a.estimator_doc_link:hover {\n",
       "  /* unfitted */\n",
       "  background-color: var(--sklearn-color-unfitted-level-3);\n",
       "  color: var(--sklearn-color-background);\n",
       "  text-decoration: none;\n",
       "}\n",
       "\n",
       "#sk-container-id-1 a.estimator_doc_link.fitted:hover {\n",
       "  /* fitted */\n",
       "  background-color: var(--sklearn-color-fitted-level-3);\n",
       "}\n",
       "</style><div id=\"sk-container-id-1\" class=\"sk-top-container\"><div class=\"sk-text-repr-fallback\"><pre>RidgeClassifier(alpha=0.61, class_weight=None, copy_X=True, fit_intercept=False,\n",
       "                max_iter=None, positive=False, random_state=42, solver=&#x27;auto&#x27;,\n",
       "                tol=0.0001)</pre><b>In a Jupyter environment, please rerun this cell to show the HTML representation or trust the notebook. <br />On GitHub, the HTML representation is unable to render, please try loading this page with nbviewer.org.</b></div><div class=\"sk-container\" hidden><div class=\"sk-item\"><div class=\"sk-estimator fitted sk-toggleable\"><input class=\"sk-toggleable__control sk-hidden--visually\" id=\"sk-estimator-id-1\" type=\"checkbox\" checked><label for=\"sk-estimator-id-1\" class=\"sk-toggleable__label fitted sk-toggleable__label-arrow fitted\">&nbsp;&nbsp;RidgeClassifier<a class=\"sk-estimator-doc-link fitted\" rel=\"noreferrer\" target=\"_blank\" href=\"https://scikit-learn.org/1.4/modules/generated/sklearn.linear_model.RidgeClassifier.html\">?<span>Documentation for RidgeClassifier</span></a><span class=\"sk-estimator-doc-link fitted\">i<span>Fitted</span></span></label><div class=\"sk-toggleable__content fitted\"><pre>RidgeClassifier(alpha=0.61, class_weight=None, copy_X=True, fit_intercept=False,\n",
       "                max_iter=None, positive=False, random_state=42, solver=&#x27;auto&#x27;,\n",
       "                tol=0.0001)</pre></div> </div></div></div></div>"
      ],
      "text/plain": [
       "RidgeClassifier(alpha=0.61, class_weight=None, copy_X=True, fit_intercept=False,\n",
       "                max_iter=None, positive=False, random_state=42, solver='auto',\n",
       "                tol=0.0001)"
      ]
     },
     "execution_count": 43,
     "metadata": {},
     "output_type": "execute_result"
    }
   ],
   "source": [
    "final_model.named_steps[\"actual_estimator\"]"
   ]
  },
  {
   "cell_type": "code",
   "execution_count": 42,
   "id": "e26c279f",
   "metadata": {},
   "outputs": [
    {
     "name": "stdout",
     "output_type": "stream",
     "text": [
      "Transformation Pipeline and Model Successfully Saved\n"
     ]
    },
    {
     "data": {
      "text/plain": [
       "(Pipeline(memory=Memory(location=None),\n",
       "          steps=[('numerical_imputer',\n",
       "                  TransformerWrapper(exclude=None, include=['Unnamed: 0'],\n",
       "                                     transformer=SimpleImputer(add_indicator=False,\n",
       "                                                               copy=True,\n",
       "                                                               fill_value=None,\n",
       "                                                               keep_empty_features=False,\n",
       "                                                               missing_values=nan,\n",
       "                                                               strategy='mean'))),\n",
       "                 ('categorical_imputer',\n",
       "                  TransformerWrapper(exclude=None, include=[],\n",
       "                                     transformer=SimpleImputer(ad...\n",
       "                                     transformer=EmbedTextFeatures(kwargs=None,\n",
       "                                                                   method='tf-idf'))),\n",
       "                 ('clean_column_names',\n",
       "                  TransformerWrapper(exclude=None, include=None,\n",
       "                                     transformer=CleanColumnNames(match='[\\\\]\\\\[\\\\,\\\\{\\\\}\\\\\"\\\\:]+'))),\n",
       "                 ('actual_estimator',\n",
       "                  RidgeClassifier(alpha=0.61, class_weight=None, copy_X=True,\n",
       "                                  fit_intercept=False, max_iter=None,\n",
       "                                  positive=False, random_state=42, solver='auto',\n",
       "                                  tol=0.0001))],\n",
       "          verbose=False),\n",
       " './pkl/phishing_model_final.pkl')"
      ]
     },
     "execution_count": 42,
     "metadata": {},
     "output_type": "execute_result"
    }
   ],
   "source": [
    "save_model(final_model, './pkl/phishing_model_final')"
   ]
  },
  {
   "cell_type": "markdown",
   "id": "d5841b45",
   "metadata": {},
   "source": [
    "## Predict on Unseen data"
   ]
  },
  {
   "cell_type": "code",
   "execution_count": 45,
   "id": "fc90ffb1",
   "metadata": {},
   "outputs": [
    {
     "data": {
      "text/html": [
       "<style type=\"text/css\">\n",
       "</style>\n",
       "<table id=\"T_1c07a\">\n",
       "  <thead>\n",
       "    <tr>\n",
       "      <th class=\"blank level0\" >&nbsp;</th>\n",
       "      <th id=\"T_1c07a_level0_col0\" class=\"col_heading level0 col0\" >Model</th>\n",
       "      <th id=\"T_1c07a_level0_col1\" class=\"col_heading level0 col1\" >Accuracy</th>\n",
       "      <th id=\"T_1c07a_level0_col2\" class=\"col_heading level0 col2\" >AUC</th>\n",
       "      <th id=\"T_1c07a_level0_col3\" class=\"col_heading level0 col3\" >Recall</th>\n",
       "      <th id=\"T_1c07a_level0_col4\" class=\"col_heading level0 col4\" >Prec.</th>\n",
       "      <th id=\"T_1c07a_level0_col5\" class=\"col_heading level0 col5\" >F1</th>\n",
       "      <th id=\"T_1c07a_level0_col6\" class=\"col_heading level0 col6\" >Kappa</th>\n",
       "      <th id=\"T_1c07a_level0_col7\" class=\"col_heading level0 col7\" >MCC</th>\n",
       "    </tr>\n",
       "  </thead>\n",
       "  <tbody>\n",
       "    <tr>\n",
       "      <th id=\"T_1c07a_level0_row0\" class=\"row_heading level0 row0\" >0</th>\n",
       "      <td id=\"T_1c07a_row0_col0\" class=\"data row0 col0\" >Ridge Classifier</td>\n",
       "      <td id=\"T_1c07a_row0_col1\" class=\"data row0 col1\" >0.9400</td>\n",
       "      <td id=\"T_1c07a_row0_col2\" class=\"data row0 col2\" >0.9423</td>\n",
       "      <td id=\"T_1c07a_row0_col3\" class=\"data row0 col3\" >0.8846</td>\n",
       "      <td id=\"T_1c07a_row0_col4\" class=\"data row0 col4\" >1.0000</td>\n",
       "      <td id=\"T_1c07a_row0_col5\" class=\"data row0 col5\" >0.9388</td>\n",
       "      <td id=\"T_1c07a_row0_col6\" class=\"data row0 col6\" >0.8804</td>\n",
       "      <td id=\"T_1c07a_row0_col7\" class=\"data row0 col7\" >0.8867</td>\n",
       "    </tr>\n",
       "  </tbody>\n",
       "</table>\n"
      ],
      "text/plain": [
       "<pandas.io.formats.style.Styler at 0x280806d6890>"
      ]
     },
     "metadata": {},
     "output_type": "display_data"
    },
    {
     "data": {
      "text/html": [
       "<div>\n",
       "<style scoped>\n",
       "    .dataframe tbody tr th:only-of-type {\n",
       "        vertical-align: middle;\n",
       "    }\n",
       "\n",
       "    .dataframe tbody tr th {\n",
       "        vertical-align: top;\n",
       "    }\n",
       "\n",
       "    .dataframe thead th {\n",
       "        text-align: right;\n",
       "    }\n",
       "</style>\n",
       "<table border=\"1\" class=\"dataframe\">\n",
       "  <thead>\n",
       "    <tr style=\"text-align: right;\">\n",
       "      <th></th>\n",
       "      <th>Unnamed: 0</th>\n",
       "      <th>Email Text</th>\n",
       "      <th>Email Type</th>\n",
       "      <th>prediction_label</th>\n",
       "    </tr>\n",
       "  </thead>\n",
       "  <tbody>\n",
       "    <tr>\n",
       "      <th>0</th>\n",
       "      <td>14230</td>\n",
       "      <td>On Sun, 11 Aug 2002 bitbitch@magnesium.net wrote:&gt; You mean like on mac keyboards :-)    Or laptops (which are as damnYeah, I was thinking of the G4 keyboard when I wrote this. Otherwise lousy\\nfeel and key placement, though. (That's why I'm holding on to my IBM Model\\nM Space Saver. Once I get an PS2 to USB converter, I expect it will\\noutlive several generations of computer hardware).Very good for sticking in USB fobs into, though. CRTs/LCD panels are even \\nbetter for that, though.&gt; near close to keyboard/usb connection as one can get, without the real\\n&gt; thing)I think laptops are largely useless because of the battery and the \\nkeyboard issue.http://xent.com/mailman/listinfo/fork\\n</td>\n",
       "      <td>0</td>\n",
       "      <td>0</td>\n",
       "    </tr>\n",
       "    <tr>\n",
       "      <th>1</th>\n",
       "      <td>8679</td>\n",
       "      <td>_   _ _____ _  __ &lt;*the* weekly high-tech sarcastic update for the uk&gt;\\n| \\ | |_   _| |/ / _ __   __2002-08-23_ o join! mail an empty message to\\n|  \\| | | | | ' / | '_ \\ / _ \\ \\ /\\ / / o ntknow-subscribe@lists.ntk.net\\n| |\\  | | | | . \\ | | | | (_) \\ v  v /  o website (+ archive) lives at:\\n|_| \\_| |_| |_|\\_\\|_| |_|\\___/ \\_/\\_/   o     http://www.ntk.net/\\n         \"Using a laptop computer in the shadow of Big Ben, we\\n         identified 26 parcels of confidential computer information.\"\\n                    - and inside each was a delicious chocolate treat\\nwww.sundaymirror.co.uk/homepage/news/page.cfm?objectid=12125585&amp;method=sm_full\\n                                &gt;&gt; HARD NEWS &lt;&lt;\\n                              here falls shoe two         Well, it's getting late, and the government hasn't fallen,\\n         so we better roll the presses on the bad news. The CAMPAIGN\\n         FOR DIGITAL RIGHTS published its first in-depth analysis of\\n         the EUCD. For this exciting installment, CD-R has\\n         concentrated on what it does to people who have to\\n         circumvent copy protection to do their job. The short\\n         summary is: if they're not a teacher, a prison warder,\\n         disabled, or the cops, they can forget their jobs. If you're\\n         anyone else - like a musician, or a cryptographer -  and the\\n         copy protection says you can't make a backup, you can't. And\\n         even if you *are* a teacher or other exceptional person,\\n         you'll have to ask the Secretary of State if you can crack\\n         the protected CD. In writing. Each time.\\n         http://uk.eurorights.org/issues/eucd/ukimpl/\\n                                     - oh, don't worry, it gets worse\\n         http://www.stand.org.uk/weblog/archive/2002/08/21/000243.php\\n                                   - what you can do to stop all this         But there's plenty more to ooze out of the law than that.\\n         One of the big questions about the EUCD is \"is it the\\n         European DMCA, or what?\". Well, the DMCA spurted bad juice\\n         in many different directions, but one way in which the two\\n         are similiar is over \"circumvention devices\". Distributing\\n         DeCSS, the DVD lobby have claimed, is a crime under the\\n         DMCA. DeCSS is code that was also a magically dangerous\\n         artifact: a circumvention device. Circumvention devices are\\n         about to become illegal here. Specifically, three months in\\n         chokey (or two years if you really nark the judge), for\\n         those who \"distribute otherwise than in the course of a\\n         business to such an extent as to affect prejudicially the\\n         copyright owner\" one of them. \"Otherwise in the course of\\n         business\" is legalese for \"as an ordinary punter\", so it's\\n         not just mod-chip sellers who are liable. Anyone who\\n         distributes such satanic machines is also a perp.\\n         http://www.stand.org.uk/weblog/archive/2002/08/21/000243.php\\n                                   - what you can do to stop all this         That's not going to go down well with ANDREW SIMMONS.\\n         Regular NTK readers will remember Andrew as a lightning rod\\n         to lawyers. Not only was he John Doe #13 in the American\\n         DeCSS case, but in a completely unrelated affair, he waws\\n         threatened with all manner of nastiness just for publishing\\n         his list of doomed dotcoms on his Website [NTK 2000-09-22].\\n         In the last week, he's had another letter via Demon, finally\\n         ordering him to remove his shiny \"circumvention device\" (aka\\n         DeCSS) from his site. It sounds like the lawyers may have\\n         shot their wad a tad early: the EUCD rules don't kick in\\n         until Christmas. But when the new laws do hit, and if what\\n         Andrew's preposterous correspondent says is believed in a UK\\n         court, hosting DeCSS *will* mean jail. There's been some\\n         talk about how the EUCD rules are better than the DMCA,\\n         because they specifically exclude computer programs from the\\n         new rules. Well, it looks like DeCSS is no longer just a\\n         computer program. From now on, it could become a special \"nick me\"\\n         tag for your Website.\\n         http://www.xenoclast.org/free-sklyarov-uk/2002-August/002923.html\\n                                                   - here we go again\\n         http://www.stand.org.uk/weblog/archive/2002/08/21/000243.php\\n                                           - CLICK ON THE DAMN LINK\\n                                &gt;&gt; ANTI-NEWS &lt;&lt;\\n                             berating the obvious         surely approaching the end of the PUERILE GOOGLE MISSPELLINGS\\n         soon: http://www.google.com/search?&amp;q=%22penny+farting%22 vs\\n         http://groups.google.com/groups?q=%22whitewater+farting%22 -\\n         we suspect some people are using \"poofreading\" deliberately,\\n         but probably not \"potable document format\", or the enigmatic:\\n         http://www.google.com/search?q=%22To+Be+Set+Browser+Caption%22\\n         ... presumably meant \"interfaith\" (unless of course they're\\n         Mac loyalists): http://www.ntk.net/2002/08/23/dohfaith.gif ...\\n         banner ads haven't been getting any less inappropriate either:\\n         http://www.ntk.net/2002/08/23/dohcruz.gif ... A Keyboard,\\n         Yesterday: http://news.bbc.co.uk/1/hi/technology/2208216.stm\\n         ...\"A levles\" in \"Phisics, Information Technoligies, Languges\":\\n  www.elance.com/c/fp/main/viewprofile.pl?view_person=insspirito&amp;catid=10231\\n         ... \"Alcohol makes others better-looking\" - scientists' shock\\n         finding: http://www.msnbc.com/news/796225.asp ... not judging\\n         them or anything: http://www.ntk.net/2002/08/23/dohsin.gif ...\\n         experience required in handling the *really* big accounts:\\n         http://www.ntk.net/2002/08/23/dohgod.gif ...\\n                               &gt;&gt; EVENT QUEUE &lt;&lt;\\n                         goto's considered non-harmful         Is it just us, but just 5 years after Lara Croft appeared on\\n         the cover of \"The Face\", could it be that the PlayStation is\\n         now even cooler than ever? As if anyone had any doubts, next\\n         week's PLAYSTATION EXPERIENCE (from Thu 2002-08-29, Earl's\\n         Court, London) features exclusive demos of imminent releases,\\n         teen band \"Blazing Squad\", skateboarding, BMXing, plus DJ sets\\n         from the likes of XFM bootleggers James Hyman and Eddie\\n         Temple-Morris. And, best of all, Sony are charging you a mere\\n         UKP8 (plus booking fee) for the privilege of allowing them to\\n         market all their upcoming titles to you.\\n         http://www.ects.co.uk/pressmore.html?type=1&amp;articleID=43\\n           - still, Gareth \"Gaz Top\" Jones is hosting the ECTS awards\\n         http://www.caextreme.org/\\n                   - coin-op collectors hit San Jose in 2 weeks' time\\n         http://www.cobd.co.uk/yakfestpage.htm\\n                       - Llamasoft all-dayer in Oxford pub end of Sep\\n         http://www.frightfest.co.uk/programme2002.html\\n              - this weekend: horror film fest in London, with \"Lupo\"\\n                                &gt;&gt; TRACKING &lt;&lt;\\n               sufficiently advanced technology : the gathering         The crazy counterintuitive conditional probability world of\\n         BAYES THEOREM has a reputation for making judges look stupid\\n         in DNA-testing murder cases, and search-engines look even\\n         stupider when they suggest \"relevant documents\" - but it's\\n         getting a bit of a re-renaissance in the spam filtering\\n         world. Tradition states Naive Bayesian alone doesn't work\\n         well enough at filtering by example, so it's good to see\\n         dozens of people independently sloshing around the noospere\\n         looking for better tweaked solutions. Including, of course,\\n         leading noosphere cadet ERIC S RAYMOND, whose Bayesian\\n         BOGOFILTER is fast, has extra smarts, and is up to version\\n         0.2. Unfortunately, as with Raymond's abandoned kernel\\n         configurator and recent anti-gay anti-islam anti-vegetable\\n         rants, it requires taking on board just a *bit* too\\n         much extra baggage to really take off. Rennies' IFILE around\\n         has been around for a while, and has support for MH and\\n         mutt. Gary Arnold's BAYESPAM is something he knocked up in\\n         Perl for qmail; a good start if you want to try this\\n         yourself. Which you should, because nobody's cracked it yet.\\n         http://www.paulgraham.com/spam.html\\n                   - what i did after i invented another new language\\nhttp://www.sjdm.org/mail-archive/jdm-society/2000-November/002244.html\\n- so, given a probability of 1% that a judge has understood Bayes before\\n         http://tuxedo.org/~esr/bogofilter/bogofilter.html\\n     - of course some say the bogofilter should be on ESR's outgoing mail\\n         http://www.ai.mit.edu/~jrennie/ifile/\\n                                                 - leading by example\\n         http://www.garyarnold.com/projects.php#bayespam\\n                                - \"Don't hurt me, I'm a C programmer!\"\\n                                &gt;&gt; MEMEPOOL &lt;&lt;\\n                ceci n'est pas une http://www.gagpipe.com/         worth it for the elaborate assembly instructions/ blank page\\n         excuses alone: http://www.log.dial.pipex.com/things/ ...\\n     http://news.yahoo.com/news?tmpl=story2&amp;u=/nm/20020822/ts_nm/bush_dc_14\\n         vs http://www.theonion.com/onion3724/bush_vows_to_remove.html\\n         ... be a bit funnier if it read them out in her voice as\\n         well: http://homepage.ntlworld.com/l_tabraham/jbrr.htm ...\\n         hey, in future, why not try sending us these while they're\\n         still vaguely topical?: http://www.chthonic.f9.co.uk/24/ vs\\n         http://thesurrealist.co.uk/24/ ... When Audiophiles Attack #5\\n         (or #6?) - THE QUANTUM PURIFIER: http://www.bybeetech.com/ vs\\n     http://www.showandtellmusic.com/pages/galleries/gallery_q/morse.html\\n         ... when oh when will the bloggers tire of putting a new word\\n         in front of \"chalking\"?: http://zapatopi.net/psychalking.html\\n         ... just one small step closer to \"Star Trek\" warp drives:\\n         http://physicsweb.org/article/news/6/8/11/ ... doing well for\\n         \"teaser openings\": http://humanity.berlios.de/usr-bin-perl/\\n         ... CRONENBERG to direct (one of two) upcoming JUDGE DREDD\\n         movies?... bloody students: http://www.elve.net/rtips0b.htm ...\\n                                &gt;&gt; GEEK MEDIA &lt;&lt;\\n                                  get out less         TV&gt;&gt; the week's late-night sci-fi selection starts off with\\n         Yul Brunner 1970s post-apocalyptic beat-em-up THE ULTIMATE\\n         WARRIOR (12.40am, Fri, C5), John \"The Last Seduction\" Dahl's\\n         bonkers brainscanner UNFORGETTABLE (2.05am, Fri, C4), and the\\n         seems-to-last-an-eternity STARGATE (11.05pm, Sat, BBC1)... the\\n         BBC have swiftly replaced the advertised showing of serial\\n         killer psycho-profiler \"Messiah 2\" with repeats of THE LOST\\n         WORLD (9.15pm, Sat, BBC1)... and, considering what came after,\\n         AMERICAN PIE (9.05pm, Sat, C4) may be eventually regarded as\\n         one of the great teen movies of all time... it's a double-\\n         Arnie fertility-horror double-bill in TWINS (6.20pm, Sun,\\n         BBC1) and JUNIOR (4.50pm, Mon, BBC1)... Nell McAndrew and\\n         Rhona Cameron contribute to a slightly vague interpretation of\\n         \"celebrity\" in I'M A CELEBRITY - GET ME OUT OF HERE! (8pm,\\n         Sun, ITV)... WHEN [DIANA] DIED - DEATH OF A PRINCESS (9pm,\\n         Sun, C4) contains \"scenes of nudity and religious ritual\" -\\n         funny what people find offensive nowadays ... and Jeff \"Tron\"\\n         Bridges plays the other half of that K-Pax double-act in\\n         STARMAN (2.30pm, Mon, C5) - all together now: \"You don't\\n         understand, Mrs Hayden: that *thing* is no longer your\\n         husband!\"... archaeology imitates \"Coneheads\" in ANCIENT\\n         MURDER MYSTERY: RIDDLE OF THE CONE-SHAPED SKULLS (8pm, Mon,\\n         C5)... odd scheduling for Bill Murray's kid-friendly identity\\n         mixup THE MAN WHO KNEW TOO LITTLE (11.05pm, Tue, BBC1)... and\\n         if only they'd got hold of Tim Burton's recent \"reimagining\"\\n         to show after the run of BATTLE FOR/ FAREWELL TO/ BACK TO\\n         THE PLANET OF THE APES (1.30pm, Tue-Thu, ITV), you could have\\n         watched the franchise deteriorate before your very eyes...         FILM&gt;&gt; good to see Time Magazine's staff staying cool long\\n         enough to publish their final \"Humanity Doomed\" collectors'\\n         edition for the backstory of \"X-Files\" director Rob Bowman's\\n         \"2000AD\"-style Brit-set monster apocalypse REIGN OF FIRE\\n         ( http://www.capalert.com/capreports/reignoffire.htm : \"Here's\\n         to evolution!\"; many deaths by incineration; child permitted\\n         in hardhat construction area; massive tattoos)... it's Martin\\n         \"Bad Boys\" Lawrence and Academy Award nominee Tom \"In The\\n         Bedroom\" Wilkinson - together at last! - in funnier-than-\\n         you'd-expect \"Galaxy Quest\"/\"A Knight's Tale\" hybrid BLACK\\n         KNIGHT ( http://www.screenit.com/movies/2001/black_knight.html :\\n         [Lawrence] does all sorts of mugging and facial contortions at\\n         the camera that some kids might want to imitate; we hear the\\n         King fart at dinner; some kids might want to imitate all of\\n         the action-based fighting that occurs)... or there's badfilm\\n         stalwart Heather Graham and \"My Cousin Vinny\" Academy Award\\n         winner Marisa \"In The Bedroom\" Tomei in clumsy Bollywood porn\\n         comedy pastiche THE GURU ( http://www.bbfc.co.uk/ : Contains\\n         strong sex references and language)...         DRESS DOWN FRIDAY&gt;&gt; after an unexpected 3-month hiatus -\\n         because, hey, who buys t-shirts in the summer? - NTK's online\\n         store is back to full strength at http://www.geekstyle.co.uk/\\n         and now features lengthy explanations of exactly what PayPal\\n         will attempt to charge you. Also new this month: lots of\\n         designs now available in XXL, including the ever-popular 404\\n         /SHIRT/TIE NOT FOUND, a glow-in-the-dark variant of the ZX\\n         font BORN TO RUN one, plus slightly more limited numbers of\\n         the arcade-style HI-SCORE TABLE and the last few remaining\\n         souvenirs from June's EXTREME COMPUTING show. Oh and copies of\\n         Mark Bennett's BLACK ICE magazine (for just US$7 plus postage\\n         and packing) - Brighton's very own answer to \"Mondo 2000\"...\\n         meanwhile, your entries have continued to flood in, a leading\\n         contender being CHRIS HOWE's possibly Designers-Republic-\\n         influenced http://www.geekstyle.co.uk/images/chrismessiah.gif\\n         - though his email address appears to have changed recently,\\n         so if anyone knows where he is, could you ask him to get in\\n         touch? We also enjoyed JAMES SWIFT's politically motivated\\n         http://www.3dengineer.com/tshirts/privacylogged.gif , BRUCE's\\n         heartfelt http://www.growf.org/shirts/crack.gif , and ASHLEY\\n         POMEROY's whimsical http://www.ashleypomeroy.com/arpshirts.gif\\n         - but remained puzzled by people sending us what appear to be\\n         parodies of our existing parody designs, from OWAIN KENWAY's\\n         http://www.angelfire.com/scifi2/dsky/1337spotting.html through\\n         to JOF's http://www.overhope.org.uk/misc/revolution.jpg and\\n         PAUL \"THE FRIDAY THING\" CARR's perhaps over-self-explanatory:\\n         http://www.geekstyle.co.uk/images/tft-shirt.jpg . And if your\\n         design skills aren't up to this high standard, you can of\\n         course just mail us a text slogan, so long as it's at least as\\n         funny as SIMON LIPSON's \"NTK: ROTFL meets ROT-13\", ANDREW\\n         SIMMONS' \"NTK: Notes you don't want to save, and for link\\n         evaluation\", or PHIL SOUTH's \"Frieze - Marther - Farquhar\" -\\n         but designed to look like it's the name of a law company!...\\n         meanwhile, the http://www.geekstyle.co.uk/images/ gallery\\n         reveals the \"Buy One, Subvert The Mass Media, Get One Free\"\\n         contest to be hotting up once again, as 25-year-old web\\n         designer GRAEME DAVISON \"just happened\" to be wearing the\\n         shirt that spells \"fuck\" in ASCII URL-encoding when he was\\n         photographed by THE NORTHERN ECHO about his trip to see\\n         \"Attack Of The Clones\" open in LA. Even though this was only a\\n         local newspaper, the judging panel felt he deserved the full\\n         prize (of another t-shirt), as the story goes on to cover the\\n         ostensibly pointless nature of the entire exercise. That's the\\n         kind of product placement that money just can't buy...                               &gt;&gt; SMALL PRINT &lt;&lt;       Need to Know is a useful and interesting UK digest of things that\\n         happened last week or might happen next week. You can read it\\n       on Friday afternoon or print it out then take it home if you have\\n     nothing better to do. It is compiled by NTK from stuff they get sent.\\n                       Registered at the Post Office as\\n                              \"geeks\", apparently\\n                              http://anews.co.uk/                                 NEED TO KNOW\\n            THEY STOLE OUR REVOLUTION. NOW WE'RE STEALING IT BACK.\\n                         Archive - http://www.ntk.net/\\n              Unsubscribe? Mail ntknow-unsubscribe@lists.ntk.net\\n                Subscribe? Mail ntknow-subscribe@lists.ntk.net\\n NTK now is supported by UNFORTU.NET, and by you: http://www.geekstyle.co.uk/                          (K) 2002 Special Projects.\\n             Copying is fine, but include URL: http://www.ntk.net/                    Tips, news and gossip to tips@spesh.com\\n             All communication is for publication, unless you beg.\\n              Press releases from naive PR people to pr@spesh.com\\n     Remember: Your work email may be monitored if sending sensitive material.\\n       Sending &gt;500KB attachments is forbidden by the Geneva Convention.\\n              Your country may be at risk if you fail to comply.</td>\n",
       "      <td>0</td>\n",
       "      <td>0</td>\n",
       "    </tr>\n",
       "    <tr>\n",
       "      <th>2</th>\n",
       "      <td>13442</td>\n",
       "      <td>epe lending - read the whole thing ! the following e - mail will give you details of the lending agreement we ' ve had in place with el paso for the past two weeks . please skim for content and please enter all related deals under the same desk . several deals have been entered incorrectly every day this week . purchases made under one book must be sold under the same book . 725506 - stwbom buys epe 25 mw @ $ 59 on peak / pv 725507 - stwbom sells stsw 25 mw @ $ 59 on peak / pv 725511 - stsw buys epe 25 mw @ $ 59 on peak / pv definitely ask me if you have any questions . my main concern regarding the mistakes we ' ve made lately is that one very small indiscretion on our part can turn into hours of extra work for the risk group . they don ' t like that . thanks for your attention to this matter , kate</td>\n",
       "      <td>0</td>\n",
       "      <td>0</td>\n",
       "    </tr>\n",
       "    <tr>\n",
       "      <th>3</th>\n",
       "      <td>7579</td>\n",
       "      <td>entouch newsletter business highlights enron industrial markets metal bulletin - iron and steel awards for 2000 pushiest entrant : enron , the us commodity trading company , which promised it would revolutionize the steel business by offering futures in hot rolled coil via its online market place . the eim fundamentals analysis group is excited to announce that dave allan has joined as a director , responsible for all forest products lines . he comes to eim with 20 years of experience in the forest products industry , of which 14 were spent at abitibi and 6 with pulp and paper week . please join us in welcoming dave . the siebel team ( \u0001 &amp; the force \u0001 8 ) continues to work towards program implementation of its customer management system in early may , with training to begin at the end of april . stay tuned for updates . enron global lng enron global lng is positioning itself to be a creator and leader of a global wholesale lng market . the rising prices of natural gas in the united states and concerns over future energy supplies have created a bullish outlook for lng in the u . s . and around the globe . lng has played a major role in serving energy needs in many parts of the world , but its place in the u . s . energy picture has been limited . an lng market that spans the globe can supply vast amounts of otherwise stranded gas to the world \u0001 , s growing appetite for cleaner burning fuels . enron global lng sees great opportunity for enron \u0001 , s wholesale energy business model to help shape yet another energy market . in the news enron corp . says first - quarter profit rose 20 percent houston , april 17 ( bloomberg ) - - enron corp . , the largest energy trader , said first - quarter profit rose 20 percent as sales almost quadrupled . profit from operations rose to $ 406 million , or 47 cents , from $ 338 million , or 40 cents , in the year - earlier period . enron raised its 2001 profit forecast to $ 1 . 75 to $ 1 . 80 a share , from its january projection of $ 1 . 70 to $ 1 . 75 . first - quarter revenue surged to $ 50 . 1 billion from $ 13 . 1 billion as enron boosted the volume of power sold in north america by 90 percent . enron had a first - quarter gain of $ 19 million , or 2 cents a share , for an accounting change , making net income $ 425 million , or 49 cents a share . there were no charges or gains in the year - earlier period . welcome new hires egm - janelle russell , eim - david allan , sylvia carter ena - sasha divelbiss , amy quirsfeld , judy zhang , annette thompson , kelly donlevy - lee , grant patterson transfers ( to or within ) ena \u0001 ) william abler , magdalena cruz , barbara taylor , james reyes , marvin carter , angel tamariz , jesse bryson eim \u0001 ) cassandra dutton , christine sullivan , camille gerard , sherri kathol , jennifer watson egm \u0001 ) steven batchelder legal stuff the information contained in this newsletter is confidential and proprietary to enron corp . and its subsidiaries . it is intended for internal use only and should not be disclosed .</td>\n",
       "      <td>0</td>\n",
       "      <td>0</td>\n",
       "    </tr>\n",
       "    <tr>\n",
       "      <th>4</th>\n",
       "      <td>8350</td>\n",
       "      <td>On Mon, 2 Sep 2002, Russell Turpin wrote:&gt; Adam Beberg:\\n&gt; &gt;Considering 90% of the fake job posting I see are for embedded systems or\\n&gt; &gt;device drivers - C still rules the world.\\n&gt;\\n&gt; There is a lot of C++ in the embedded world. With static object\\n&gt; allocation and a few other programming techniques, performance\\n&gt; differences disappear, but C++ gives a boost in development and\\n&gt; maintainability.Agreed, not much difference there. With C it just doesnt seem as wrong to\\nbe crawling around in registers and things. Quite frankly you cant fit\\n_that_ big of a project into a 32K ROM, so large project issues dont matter\\nas much in the embedded world.And in the realtime space, or when you have data coming in at 2Gbit/sec\\n[fibrechannel], every cycle DOES count.&gt; The real issue is compiler availability. Almost every embedded platform\\n&gt; has C cross-compilers. Many have C++ compilers. But there is still a\\n&gt; range of platforms that have the first but not the second. Or at least,\\n&gt; that was the story a few years ago.Definately still very very true. C++ compilers are still a rarity.\\n- Adam L. \"Duncan\" Beberg\\n  http://www.mithral.com/~beberg/\\n  beberg@mithral.com\\n</td>\n",
       "      <td>0</td>\n",
       "      <td>0</td>\n",
       "    </tr>\n",
       "  </tbody>\n",
       "</table>\n",
       "</div>"
      ],
      "text/plain": [
       "   Unnamed: 0  \\\n",
       "0       14230   \n",
       "1        8679   \n",
       "2       13442   \n",
       "3        7579   \n",
       "4        8350   \n",
       "\n",
       "                                                                                                                                                                                                                                                                                                                                                                                                                                                                                                                                                                                                                                                                                                                                                                                                                                                                                                                                                                                                                                                                                                                                                                                                                                                                                                                                                                                                                                                                                                                                                                                                                                                                                                                                                                                                                                                                                                                                                                                                                                                                                                                                                                                                                                                                                                                                                                                                                                                                                                                                                                                                                                                                                                                                                                                                                                                                                                                                                                                                                                                                                                                                                                                                                                                                                                                                                                                                                                                                                                                                                                                                                                                                                                                                                                                                                                                                                                                                                                                                                                                                                                                                                                                                                                                                                                                                                                                                                                                                                                                                                                                                                                                                                                                                                                                                                                                                                                                                                                                                                                                                                                                                                                                                                                                                                                                                                                                                                                                                                                                                                                                                                                                                                                                                                                                                                                                                                                                                                                                                                                                                                                                                                                                                                                                                                                                                                                                                                                                                                                                                                                                                                                                                                                                                                                                                                                                                                                                                                                                                                                                                                                                                                                                                                                                                                                                                                                                                                                                                                                                                                                                                                                                                                                                                                                                                                                                                                                                                                                                                                                                                                                                                                                                                                                                                                                                                                                                                                                                                                                                                                                                                                                                                                                                                                                                                                                                                                                                                                                                                                                                                                                                                                                                                                                                                                                                                                                                                                                                                                                                                                                                                                                                                                                                                                                                                                                                                                                                                                                                                                                                                                                                                                                                                                                                                                                                                                                                                                                                                                                                                                                                                                                                                                                                                                                                                                                                                                                                                                                                                                                                                                                                                                                                                                                                                                                                                                                                                                                                                                                                                                                                                                                                                                                                                                                                                                                                                                                                                                                                                                                                                                                                                                                                                                                                                                                                                                                                                                                                                                                                                                                                                                                                                                                                                                                                                                                                                                                                                                                                                                                                                                                                                                                                                                                                                                                                                                                                                                                                                                                                                                                                                                                                                                                                                                                                                                                                                                                                                                                                                                                                                                                                                                                                                                                                                                                                                                                                                                                                                                                                                                                                                                                                                                                                                                                                                                                                                                                                                                                                                                                                                                                                                                                                                                                                                                                                                                                                                                                                                                                                                                                                                                                                                                                                                                                                                                                                                                                                                                                                                                                                                                                                                                                                                                                                                                                                                                                                                                                                                                                                                                                                                                                                                                                                                                                                                                                                                                                                                                                                                                                                                                                                                                                                                                                                                                                                                                                                                                                                                                                                                                                                                                                                                                                                                                                                                                                                                                                                                                                                                                                                                                                                                                                                                                                                                                                                                                                                                                                                                                                                                                                                                                                                                                                                                                                                                                                                                                                                                                                                                                                                                                                                                                                                                                                                                                                  Email Text  \\\n",
       "0                                                                                                                                                                                                                                                                                                                                                                                                                                                                                                                                                                                                                                                                                                                                                                                                                                                                                                                                                                                                                                                                                                                                                                                                                                                                                                                                                                                                                                                                                                                                                                                                                                                                                                                                                                                                                                                                                                                                                                                                                                                                                                                                                                                                                                                                                                                                                                                                                                                                                                                                                                                                                                                                                                                                                                                                                                                                                                                                                                                                                                                                                                                                                                                                                                                                                                                                                                                                                                                                                                                                                                                                                                                                                                                                                                                                                                                                                                                                                                                                                                                                                                                                                                                                                                                                                                                                                                                                                                                                                                                                                                                                                                                                                                                                                                                                                                                                                                                                                                                                                                                                                                                                                                                                                                                                                                                                                                                                                                                                                                                                                                                                                                                                                                                                                                                                                                                                                                                                                                                                                                                                                                                                                                                                                                                                                                                                                                                                                                                                                                                                                                                                                                                                                                                                                                                                                                                                                                                                                                                                                                                                                                                                                                                                                                                                                                                                                                                                                                                                                                                                                                                                                                                                                                                                                                                                                                                                                                                                                                                                                                                                                                                                                                                                                                                                                                                                                                                                                                                                                                                                                                                                                                                                                                                                                                                                                                                                                                                                                                                                                                                                                                                                                                                                                                                                                                                                                                                                                                                                                                                                                                                                                                                                                                                                                                                                                                                                                                                                                                                                                                                                                                                                                                                                                                                                                                                                                                                                                                                                                                                                                                                                                                                                                                                                                                                                                                                                                                                                                                                                                                                                                                                                                                                                                                                                                                                                                                                                                                                                                                                                                                                                                                                                                                                                                                                                                                                                                                                                                                                                                                                                                                                                                                                                                                                                                                                                                                                                                                                                                                                                                                                                                                                                                                                                                                                                                                                                                                                                                                                                                                                                                                                                                                                                                                                                                                                                                                                                                                                                                                                                                                                                                                                                                                                                                                                                                                                                                                                                                                                                                                                                                                                                                                                                                                                                                                                                                                                                                                                                                                                                                                                                                                                                                                                                                                                                                                                                                                                                                                                                                                                                                                                                                                                                                                                                                                                                                                                                                                                                                                                                                                                                                                                                                                                                                                                                                                                                                                                                                                                                                                                                                                                                                                                                                                                                                                                                                                                                                                                                                                                                                                                                                                                                                                                                                                                                                                                                                                                                                                                                                                                                                                                                                                                                                                                                                                                                                                                                                                                                                                                                                                                                                                                                                                                                                                                                                                                                                                                                                                                                                                                                                                                                                                                                                                                                                                                                                                                                                                                                                                                                                                                     On Sun, 11 Aug 2002 bitbitch@magnesium.net wrote:> You mean like on mac keyboards :-)    Or laptops (which are as damnYeah, I was thinking of the G4 keyboard when I wrote this. Otherwise lousy\\nfeel and key placement, though. (That's why I'm holding on to my IBM Model\\nM Space Saver. Once I get an PS2 to USB converter, I expect it will\\noutlive several generations of computer hardware).Very good for sticking in USB fobs into, though. CRTs/LCD panels are even \\nbetter for that, though.> near close to keyboard/usb connection as one can get, without the real\\n> thing)I think laptops are largely useless because of the battery and the \\nkeyboard issue.http://xent.com/mailman/listinfo/fork\\n   \n",
       "1   _   _ _____ _  __ <*the* weekly high-tech sarcastic update for the uk>\\n| \\ | |_   _| |/ / _ __   __2002-08-23_ o join! mail an empty message to\\n|  \\| | | | | ' / | '_ \\ / _ \\ \\ /\\ / / o ntknow-subscribe@lists.ntk.net\\n| |\\  | | | | . \\ | | | | (_) \\ v  v /  o website (+ archive) lives at:\\n|_| \\_| |_| |_|\\_\\|_| |_|\\___/ \\_/\\_/   o     http://www.ntk.net/\\n         \"Using a laptop computer in the shadow of Big Ben, we\\n         identified 26 parcels of confidential computer information.\"\\n                    - and inside each was a delicious chocolate treat\\nwww.sundaymirror.co.uk/homepage/news/page.cfm?objectid=12125585&method=sm_full\\n                                >> HARD NEWS <<\\n                              here falls shoe two         Well, it's getting late, and the government hasn't fallen,\\n         so we better roll the presses on the bad news. The CAMPAIGN\\n         FOR DIGITAL RIGHTS published its first in-depth analysis of\\n         the EUCD. For this exciting installment, CD-R has\\n         concentrated on what it does to people who have to\\n         circumvent copy protection to do their job. The short\\n         summary is: if they're not a teacher, a prison warder,\\n         disabled, or the cops, they can forget their jobs. If you're\\n         anyone else - like a musician, or a cryptographer -  and the\\n         copy protection says you can't make a backup, you can't. And\\n         even if you *are* a teacher or other exceptional person,\\n         you'll have to ask the Secretary of State if you can crack\\n         the protected CD. In writing. Each time.\\n         http://uk.eurorights.org/issues/eucd/ukimpl/\\n                                     - oh, don't worry, it gets worse\\n         http://www.stand.org.uk/weblog/archive/2002/08/21/000243.php\\n                                   - what you can do to stop all this         But there's plenty more to ooze out of the law than that.\\n         One of the big questions about the EUCD is \"is it the\\n         European DMCA, or what?\". Well, the DMCA spurted bad juice\\n         in many different directions, but one way in which the two\\n         are similiar is over \"circumvention devices\". Distributing\\n         DeCSS, the DVD lobby have claimed, is a crime under the\\n         DMCA. DeCSS is code that was also a magically dangerous\\n         artifact: a circumvention device. Circumvention devices are\\n         about to become illegal here. Specifically, three months in\\n         chokey (or two years if you really nark the judge), for\\n         those who \"distribute otherwise than in the course of a\\n         business to such an extent as to affect prejudicially the\\n         copyright owner\" one of them. \"Otherwise in the course of\\n         business\" is legalese for \"as an ordinary punter\", so it's\\n         not just mod-chip sellers who are liable. Anyone who\\n         distributes such satanic machines is also a perp.\\n         http://www.stand.org.uk/weblog/archive/2002/08/21/000243.php\\n                                   - what you can do to stop all this         That's not going to go down well with ANDREW SIMMONS.\\n         Regular NTK readers will remember Andrew as a lightning rod\\n         to lawyers. Not only was he John Doe #13 in the American\\n         DeCSS case, but in a completely unrelated affair, he waws\\n         threatened with all manner of nastiness just for publishing\\n         his list of doomed dotcoms on his Website [NTK 2000-09-22].\\n         In the last week, he's had another letter via Demon, finally\\n         ordering him to remove his shiny \"circumvention device\" (aka\\n         DeCSS) from his site. It sounds like the lawyers may have\\n         shot their wad a tad early: the EUCD rules don't kick in\\n         until Christmas. But when the new laws do hit, and if what\\n         Andrew's preposterous correspondent says is believed in a UK\\n         court, hosting DeCSS *will* mean jail. There's been some\\n         talk about how the EUCD rules are better than the DMCA,\\n         because they specifically exclude computer programs from the\\n         new rules. Well, it looks like DeCSS is no longer just a\\n         computer program. From now on, it could become a special \"nick me\"\\n         tag for your Website.\\n         http://www.xenoclast.org/free-sklyarov-uk/2002-August/002923.html\\n                                                   - here we go again\\n         http://www.stand.org.uk/weblog/archive/2002/08/21/000243.php\\n                                           - CLICK ON THE DAMN LINK\\n                                >> ANTI-NEWS <<\\n                             berating the obvious         surely approaching the end of the PUERILE GOOGLE MISSPELLINGS\\n         soon: http://www.google.com/search?&q=%22penny+farting%22 vs\\n         http://groups.google.com/groups?q=%22whitewater+farting%22 -\\n         we suspect some people are using \"poofreading\" deliberately,\\n         but probably not \"potable document format\", or the enigmatic:\\n         http://www.google.com/search?q=%22To+Be+Set+Browser+Caption%22\\n         ... presumably meant \"interfaith\" (unless of course they're\\n         Mac loyalists): http://www.ntk.net/2002/08/23/dohfaith.gif ...\\n         banner ads haven't been getting any less inappropriate either:\\n         http://www.ntk.net/2002/08/23/dohcruz.gif ... A Keyboard,\\n         Yesterday: http://news.bbc.co.uk/1/hi/technology/2208216.stm\\n         ...\"A levles\" in \"Phisics, Information Technoligies, Languges\":\\n  www.elance.com/c/fp/main/viewprofile.pl?view_person=insspirito&catid=10231\\n         ... \"Alcohol makes others better-looking\" - scientists' shock\\n         finding: http://www.msnbc.com/news/796225.asp ... not judging\\n         them or anything: http://www.ntk.net/2002/08/23/dohsin.gif ...\\n         experience required in handling the *really* big accounts:\\n         http://www.ntk.net/2002/08/23/dohgod.gif ...\\n                               >> EVENT QUEUE <<\\n                         goto's considered non-harmful         Is it just us, but just 5 years after Lara Croft appeared on\\n         the cover of \"The Face\", could it be that the PlayStation is\\n         now even cooler than ever? As if anyone had any doubts, next\\n         week's PLAYSTATION EXPERIENCE (from Thu 2002-08-29, Earl's\\n         Court, London) features exclusive demos of imminent releases,\\n         teen band \"Blazing Squad\", skateboarding, BMXing, plus DJ sets\\n         from the likes of XFM bootleggers James Hyman and Eddie\\n         Temple-Morris. And, best of all, Sony are charging you a mere\\n         UKP8 (plus booking fee) for the privilege of allowing them to\\n         market all their upcoming titles to you.\\n         http://www.ects.co.uk/pressmore.html?type=1&articleID=43\\n           - still, Gareth \"Gaz Top\" Jones is hosting the ECTS awards\\n         http://www.caextreme.org/\\n                   - coin-op collectors hit San Jose in 2 weeks' time\\n         http://www.cobd.co.uk/yakfestpage.htm\\n                       - Llamasoft all-dayer in Oxford pub end of Sep\\n         http://www.frightfest.co.uk/programme2002.html\\n              - this weekend: horror film fest in London, with \"Lupo\"\\n                                >> TRACKING <<\\n               sufficiently advanced technology : the gathering         The crazy counterintuitive conditional probability world of\\n         BAYES THEOREM has a reputation for making judges look stupid\\n         in DNA-testing murder cases, and search-engines look even\\n         stupider when they suggest \"relevant documents\" - but it's\\n         getting a bit of a re-renaissance in the spam filtering\\n         world. Tradition states Naive Bayesian alone doesn't work\\n         well enough at filtering by example, so it's good to see\\n         dozens of people independently sloshing around the noospere\\n         looking for better tweaked solutions. Including, of course,\\n         leading noosphere cadet ERIC S RAYMOND, whose Bayesian\\n         BOGOFILTER is fast, has extra smarts, and is up to version\\n         0.2. Unfortunately, as with Raymond's abandoned kernel\\n         configurator and recent anti-gay anti-islam anti-vegetable\\n         rants, it requires taking on board just a *bit* too\\n         much extra baggage to really take off. Rennies' IFILE around\\n         has been around for a while, and has support for MH and\\n         mutt. Gary Arnold's BAYESPAM is something he knocked up in\\n         Perl for qmail; a good start if you want to try this\\n         yourself. Which you should, because nobody's cracked it yet.\\n         http://www.paulgraham.com/spam.html\\n                   - what i did after i invented another new language\\nhttp://www.sjdm.org/mail-archive/jdm-society/2000-November/002244.html\\n- so, given a probability of 1% that a judge has understood Bayes before\\n         http://tuxedo.org/~esr/bogofilter/bogofilter.html\\n     - of course some say the bogofilter should be on ESR's outgoing mail\\n         http://www.ai.mit.edu/~jrennie/ifile/\\n                                                 - leading by example\\n         http://www.garyarnold.com/projects.php#bayespam\\n                                - \"Don't hurt me, I'm a C programmer!\"\\n                                >> MEMEPOOL <<\\n                ceci n'est pas une http://www.gagpipe.com/         worth it for the elaborate assembly instructions/ blank page\\n         excuses alone: http://www.log.dial.pipex.com/things/ ...\\n     http://news.yahoo.com/news?tmpl=story2&u=/nm/20020822/ts_nm/bush_dc_14\\n         vs http://www.theonion.com/onion3724/bush_vows_to_remove.html\\n         ... be a bit funnier if it read them out in her voice as\\n         well: http://homepage.ntlworld.com/l_tabraham/jbrr.htm ...\\n         hey, in future, why not try sending us these while they're\\n         still vaguely topical?: http://www.chthonic.f9.co.uk/24/ vs\\n         http://thesurrealist.co.uk/24/ ... When Audiophiles Attack #5\\n         (or #6?) - THE QUANTUM PURIFIER: http://www.bybeetech.com/ vs\\n     http://www.showandtellmusic.com/pages/galleries/gallery_q/morse.html\\n         ... when oh when will the bloggers tire of putting a new word\\n         in front of \"chalking\"?: http://zapatopi.net/psychalking.html\\n         ... just one small step closer to \"Star Trek\" warp drives:\\n         http://physicsweb.org/article/news/6/8/11/ ... doing well for\\n         \"teaser openings\": http://humanity.berlios.de/usr-bin-perl/\\n         ... CRONENBERG to direct (one of two) upcoming JUDGE DREDD\\n         movies?... bloody students: http://www.elve.net/rtips0b.htm ...\\n                                >> GEEK MEDIA <<\\n                                  get out less         TV>> the week's late-night sci-fi selection starts off with\\n         Yul Brunner 1970s post-apocalyptic beat-em-up THE ULTIMATE\\n         WARRIOR (12.40am, Fri, C5), John \"The Last Seduction\" Dahl's\\n         bonkers brainscanner UNFORGETTABLE (2.05am, Fri, C4), and the\\n         seems-to-last-an-eternity STARGATE (11.05pm, Sat, BBC1)... the\\n         BBC have swiftly replaced the advertised showing of serial\\n         killer psycho-profiler \"Messiah 2\" with repeats of THE LOST\\n         WORLD (9.15pm, Sat, BBC1)... and, considering what came after,\\n         AMERICAN PIE (9.05pm, Sat, C4) may be eventually regarded as\\n         one of the great teen movies of all time... it's a double-\\n         Arnie fertility-horror double-bill in TWINS (6.20pm, Sun,\\n         BBC1) and JUNIOR (4.50pm, Mon, BBC1)... Nell McAndrew and\\n         Rhona Cameron contribute to a slightly vague interpretation of\\n         \"celebrity\" in I'M A CELEBRITY - GET ME OUT OF HERE! (8pm,\\n         Sun, ITV)... WHEN [DIANA] DIED - DEATH OF A PRINCESS (9pm,\\n         Sun, C4) contains \"scenes of nudity and religious ritual\" -\\n         funny what people find offensive nowadays ... and Jeff \"Tron\"\\n         Bridges plays the other half of that K-Pax double-act in\\n         STARMAN (2.30pm, Mon, C5) - all together now: \"You don't\\n         understand, Mrs Hayden: that *thing* is no longer your\\n         husband!\"... archaeology imitates \"Coneheads\" in ANCIENT\\n         MURDER MYSTERY: RIDDLE OF THE CONE-SHAPED SKULLS (8pm, Mon,\\n         C5)... odd scheduling for Bill Murray's kid-friendly identity\\n         mixup THE MAN WHO KNEW TOO LITTLE (11.05pm, Tue, BBC1)... and\\n         if only they'd got hold of Tim Burton's recent \"reimagining\"\\n         to show after the run of BATTLE FOR/ FAREWELL TO/ BACK TO\\n         THE PLANET OF THE APES (1.30pm, Tue-Thu, ITV), you could have\\n         watched the franchise deteriorate before your very eyes...         FILM>> good to see Time Magazine's staff staying cool long\\n         enough to publish their final \"Humanity Doomed\" collectors'\\n         edition for the backstory of \"X-Files\" director Rob Bowman's\\n         \"2000AD\"-style Brit-set monster apocalypse REIGN OF FIRE\\n         ( http://www.capalert.com/capreports/reignoffire.htm : \"Here's\\n         to evolution!\"; many deaths by incineration; child permitted\\n         in hardhat construction area; massive tattoos)... it's Martin\\n         \"Bad Boys\" Lawrence and Academy Award nominee Tom \"In The\\n         Bedroom\" Wilkinson - together at last! - in funnier-than-\\n         you'd-expect \"Galaxy Quest\"/\"A Knight's Tale\" hybrid BLACK\\n         KNIGHT ( http://www.screenit.com/movies/2001/black_knight.html :\\n         [Lawrence] does all sorts of mugging and facial contortions at\\n         the camera that some kids might want to imitate; we hear the\\n         King fart at dinner; some kids might want to imitate all of\\n         the action-based fighting that occurs)... or there's badfilm\\n         stalwart Heather Graham and \"My Cousin Vinny\" Academy Award\\n         winner Marisa \"In The Bedroom\" Tomei in clumsy Bollywood porn\\n         comedy pastiche THE GURU ( http://www.bbfc.co.uk/ : Contains\\n         strong sex references and language)...         DRESS DOWN FRIDAY>> after an unexpected 3-month hiatus -\\n         because, hey, who buys t-shirts in the summer? - NTK's online\\n         store is back to full strength at http://www.geekstyle.co.uk/\\n         and now features lengthy explanations of exactly what PayPal\\n         will attempt to charge you. Also new this month: lots of\\n         designs now available in XXL, including the ever-popular 404\\n         /SHIRT/TIE NOT FOUND, a glow-in-the-dark variant of the ZX\\n         font BORN TO RUN one, plus slightly more limited numbers of\\n         the arcade-style HI-SCORE TABLE and the last few remaining\\n         souvenirs from June's EXTREME COMPUTING show. Oh and copies of\\n         Mark Bennett's BLACK ICE magazine (for just US$7 plus postage\\n         and packing) - Brighton's very own answer to \"Mondo 2000\"...\\n         meanwhile, your entries have continued to flood in, a leading\\n         contender being CHRIS HOWE's possibly Designers-Republic-\\n         influenced http://www.geekstyle.co.uk/images/chrismessiah.gif\\n         - though his email address appears to have changed recently,\\n         so if anyone knows where he is, could you ask him to get in\\n         touch? We also enjoyed JAMES SWIFT's politically motivated\\n         http://www.3dengineer.com/tshirts/privacylogged.gif , BRUCE's\\n         heartfelt http://www.growf.org/shirts/crack.gif , and ASHLEY\\n         POMEROY's whimsical http://www.ashleypomeroy.com/arpshirts.gif\\n         - but remained puzzled by people sending us what appear to be\\n         parodies of our existing parody designs, from OWAIN KENWAY's\\n         http://www.angelfire.com/scifi2/dsky/1337spotting.html through\\n         to JOF's http://www.overhope.org.uk/misc/revolution.jpg and\\n         PAUL \"THE FRIDAY THING\" CARR's perhaps over-self-explanatory:\\n         http://www.geekstyle.co.uk/images/tft-shirt.jpg . And if your\\n         design skills aren't up to this high standard, you can of\\n         course just mail us a text slogan, so long as it's at least as\\n         funny as SIMON LIPSON's \"NTK: ROTFL meets ROT-13\", ANDREW\\n         SIMMONS' \"NTK: Notes you don't want to save, and for link\\n         evaluation\", or PHIL SOUTH's \"Frieze - Marther - Farquhar\" -\\n         but designed to look like it's the name of a law company!...\\n         meanwhile, the http://www.geekstyle.co.uk/images/ gallery\\n         reveals the \"Buy One, Subvert The Mass Media, Get One Free\"\\n         contest to be hotting up once again, as 25-year-old web\\n         designer GRAEME DAVISON \"just happened\" to be wearing the\\n         shirt that spells \"fuck\" in ASCII URL-encoding when he was\\n         photographed by THE NORTHERN ECHO about his trip to see\\n         \"Attack Of The Clones\" open in LA. Even though this was only a\\n         local newspaper, the judging panel felt he deserved the full\\n         prize (of another t-shirt), as the story goes on to cover the\\n         ostensibly pointless nature of the entire exercise. That's the\\n         kind of product placement that money just can't buy...                               >> SMALL PRINT <<       Need to Know is a useful and interesting UK digest of things that\\n         happened last week or might happen next week. You can read it\\n       on Friday afternoon or print it out then take it home if you have\\n     nothing better to do. It is compiled by NTK from stuff they get sent.\\n                       Registered at the Post Office as\\n                              \"geeks\", apparently\\n                              http://anews.co.uk/                                 NEED TO KNOW\\n            THEY STOLE OUR REVOLUTION. NOW WE'RE STEALING IT BACK.\\n                         Archive - http://www.ntk.net/\\n              Unsubscribe? Mail ntknow-unsubscribe@lists.ntk.net\\n                Subscribe? Mail ntknow-subscribe@lists.ntk.net\\n NTK now is supported by UNFORTU.NET, and by you: http://www.geekstyle.co.uk/                          (K) 2002 Special Projects.\\n             Copying is fine, but include URL: http://www.ntk.net/                    Tips, news and gossip to tips@spesh.com\\n             All communication is for publication, unless you beg.\\n              Press releases from naive PR people to pr@spesh.com\\n     Remember: Your work email may be monitored if sending sensitive material.\\n       Sending >500KB attachments is forbidden by the Geneva Convention.\\n              Your country may be at risk if you fail to comply.   \n",
       "2                                                                                                                                                                                                                                                                                                                                                                                                                                                                                                                                                                                                                                                                                                                                                                                                                                                                                                                                                                                                                                                                                                                                                                                                                                                                                                                                                                                                                                                                                                                                                                                                                                                                                                                                                                                                                                                                                                                                                                                                                                                                                                                                                                                                                                                                                                                                                                                                                                                                                                                                                                                                                                                                                                                                                                                                                                                                                                                                                                                                                                                                                                                                                                                                                                                                                                                                                                                                                                                                                                                                                                                                                                                                                                                                                                                                                                                                                                                                                                                                                                                                                                                                                                                                                                                                                                                                                                                                                                                                                                                                                                                                                                                                                                                                                                                                                                                                                                                                                                                                                                                                                                                                                                                                                                                                                                                                                                                                                                                                                                                                                                                                                                                                                                                                                                                                                                                                                                                                                                                                                                                                                                                                                                                                                                                                                                                                                                                                                                                                                                                                                                                                                                                                                                                                                                                                                                                                                                                                                                                                                                                                                                                                                                                                                                                                                                                                                                                                                                                                                                                                                                                                                                                                                                                                                                                                                                                                                                                                                                                                                                                                                                                                                                                                                                                                                                                                                                                                                                                                                                                                                                                                                                                                                                                                                                                                                                                                                                                                                                                                                                                                                                                                                                                                                                                                                                                                                                                                                                                                                                                                                                                                                                                                                                                                                                                                                                                                                                                                                                                                                                                                                                                                                                                                                                                                                                                                                                                                                                                                                                                                                                                                                                                                                                                                                                                                                                                                                                                                                                                                                                                                                                                                                                                                                                                                                                                                                                                                                                                                                                                                                                                                                                                                                                                                                                                                                                                                                                                                                                                                                                                                                                                                                                                                                                                                                                                                                                                                                                                                                                                                                                                                                                                                                                                                                                                                                                                                                                                                                                                                                                                                                                                                                                                                                                                                                                                                                                                                                                                                                                                                                                                                                                                                                                                                                                                                                                                                                                                                                                                                                                                                                                                                                                                                                                                                                                                                                                                                                                                                                                                                                                                                                                                                                                                                                                                                                                                                                                                                                                                                                                                                                                                                                                                                                                                                                                                                                                                                                                                                                                                                                                                                                                                                                                                                                                                                                                                                                                                                                                                                                                                                                                                                                                                                                                                                                                                                                                                                                                                                                                                                                                                                                                                                                                                                                                                                                                                                                                                                                                                                                                                                                                                                                                                                                                                                                                                                                                                                                                                                                                                                                                                                                                                                                                                                                                                                                                                                                                                                                                                                                                                                                                                                                                                                                                                                                                                                                                                                                                                                epe lending - read the whole thing ! the following e - mail will give you details of the lending agreement we ' ve had in place with el paso for the past two weeks . please skim for content and please enter all related deals under the same desk . several deals have been entered incorrectly every day this week . purchases made under one book must be sold under the same book . 725506 - stwbom buys epe 25 mw @ $ 59 on peak / pv 725507 - stwbom sells stsw 25 mw @ $ 59 on peak / pv 725511 - stsw buys epe 25 mw @ $ 59 on peak / pv definitely ask me if you have any questions . my main concern regarding the mistakes we ' ve made lately is that one very small indiscretion on our part can turn into hours of extra work for the risk group . they don ' t like that . thanks for your attention to this matter , kate   \n",
       "3                                                                                                                                                                                                                                                                                                                                                                                                                                                                                                                                                                                                                                                                                                                                                                                                                                                                                                                                                                                                                                                                                                                                                                                                                                                                                                                                                                                                                                                                                                                                                                                                                                                                                                                                                                                                                                                                                                                                                                                                                                                                                                                                                                                                                                                                                                                                                                                                                                                                                                                                                                                                                                                                                                                                                                                                                                                                                                                                                                                                                                                                                                                                                                                                                                                                                                                                                                                                                                                                                                                                                                                                                                                                                                                                                                                                                                                                                                                                                                                                                                                                                                                                                                                                                                                                                                                                                                                                                                                                                                                                                                                                                                                                                                                                                                                                                                                                                                                                                                                                                                                                                                                                                                                                                                                                                                                                                                                                                                                                                                                                                                                                                                                                                                                                                                                                                                                                                                                                                                                                                                                                                                                                                                                                                                                                                                                                                                                                                                                                                                                                                                                                                                                                                                                                                                                                                                                                                                                                                                                                                                                                                                                                                                                                                                                                                                                                                                                                                                                                                                                                                                                                                                                                                                                                                                                                                                                                                                                                                                                                                                                                                                                                                                                                                                                                                                                                                                                                                                                                                                                                                                                                                                                                                                                                                                                                                                                                                                                                                                                                                                                                                                                                                                                                                                                                                                                                                                                                                                                                                                                                                                                                                                                                                                                                                                                                                                                                                                                                                                                                                                                                                                                                                                                                                                                                                                                                                                                                                                                                                                                                                                                                                                                                                                                                                                                                                                                                                                                                                                                                                                                                                                                                                                                                                                                                                                                                                                                                                                                                                                                                                                                                                                                                                                                                                                                                                                                                                                                                                                                                                                                                                                                                                                                                                                                                                                                                                                                                                                                                                                                                                                                                                                                                                                                                                                                                                                                                                                                                                                                                                                                                                                                                                                                                                                                                                                                                                                                                                                                                                                                                                                                                                                                                                                                                                                                                                                                                                                                                                                                                                                                                                                                                                                                                                                                                                                                                                                                                                                                                                                                                                                                                                                                                                                                                                                                                                                                                                                                                                                                                                                                                                                                                                                                                                                                                                                                                                                                                                                                                                                                                                                                                                                                                                                                                                                                                                                                                                                                                                                                                                                                                                                                                                   entouch newsletter business highlights enron industrial markets metal bulletin - iron and steel awards for 2000 pushiest entrant : enron , the us commodity trading company , which promised it would revolutionize the steel business by offering futures in hot rolled coil via its online market place . the eim fundamentals analysis group is excited to announce that dave allan has joined as a director , responsible for all forest products lines . he comes to eim with 20 years of experience in the forest products industry , of which 14 were spent at abitibi and 6 with pulp and paper week . please join us in welcoming dave . the siebel team ( \u0001 & the force \u0001 8 ) continues to work towards program implementation of its customer management system in early may , with training to begin at the end of april . stay tuned for updates . enron global lng enron global lng is positioning itself to be a creator and leader of a global wholesale lng market . the rising prices of natural gas in the united states and concerns over future energy supplies have created a bullish outlook for lng in the u . s . and around the globe . lng has played a major role in serving energy needs in many parts of the world , but its place in the u . s . energy picture has been limited . an lng market that spans the globe can supply vast amounts of otherwise stranded gas to the world \u0001 , s growing appetite for cleaner burning fuels . enron global lng sees great opportunity for enron \u0001 , s wholesale energy business model to help shape yet another energy market . in the news enron corp . says first - quarter profit rose 20 percent houston , april 17 ( bloomberg ) - - enron corp . , the largest energy trader , said first - quarter profit rose 20 percent as sales almost quadrupled . profit from operations rose to $ 406 million , or 47 cents , from $ 338 million , or 40 cents , in the year - earlier period . enron raised its 2001 profit forecast to $ 1 . 75 to $ 1 . 80 a share , from its january projection of $ 1 . 70 to $ 1 . 75 . first - quarter revenue surged to $ 50 . 1 billion from $ 13 . 1 billion as enron boosted the volume of power sold in north america by 90 percent . enron had a first - quarter gain of $ 19 million , or 2 cents a share , for an accounting change , making net income $ 425 million , or 49 cents a share . there were no charges or gains in the year - earlier period . welcome new hires egm - janelle russell , eim - david allan , sylvia carter ena - sasha divelbiss , amy quirsfeld , judy zhang , annette thompson , kelly donlevy - lee , grant patterson transfers ( to or within ) ena \u0001 ) william abler , magdalena cruz , barbara taylor , james reyes , marvin carter , angel tamariz , jesse bryson eim \u0001 ) cassandra dutton , christine sullivan , camille gerard , sherri kathol , jennifer watson egm \u0001 ) steven batchelder legal stuff the information contained in this newsletter is confidential and proprietary to enron corp . and its subsidiaries . it is intended for internal use only and should not be disclosed .   \n",
       "4                                                                                                                                                                                                                                                                                                                                                                                                                                                                                                                                                                                                                                                                                                                                                                                                                                                                                                                                                                                                                                                                                                                                                                                                                                                                                                                                                                                                                                                                                                                                                                                                                                                                                                                                                                                                                                                                                                                                                                                                                                                                                                                                                                                                                                                                                                                                                                                                                                                                                                                                                                                                                                                                                                                                                                                                                                                                                                                                                                                                                                                                                                                                                                                                                                                                                                                                                                                                                                                                                                                                                                                                                                                                                                                                                                                                                                                                                                                                                                                                                                                                                                                                                                                                                                                                                                                                                                                                                                                                                                                                                                                                                                                                                                                                                                                                                                                                                                                                                                                                                                                                                                                                                                                                                                                                                                                                                                                                                                                                                                                                                                                                                                                                                                                                                                                                                                                                                                                                                                                                                                                                                                                                                                                                                                                                                                                                                                                                                                                                                                                                                                                                                                                                                                                                                                                                                                                                                                                                                                                                                                                                                                                                                                                                                                                                                                                                                                                                                                                                                                                                                                                                                                                                                                                                                                                                                                                                                                                                                                                                                                                                                                                                                                                                                                                                                                                                                                                                                                                                                                                                                                                                                                                                                                                                                                                                                                                                                                                                                                                                                                                                                                                                                                                                                                                                                                                                                                                                                                                                                                                                                                                                                                                                                                                                                                                                                                                                                                                                                                                                                                                                                                                                                                                                                                                                                                                                                                                                                                                                                                                                                                                                                                                                                                                                                                                                                                                                                                                                                                                                                                                                                                                                                                                                                                                                                                                                                                                                                                                                                                                                                                                                                                                                                                                                                                                                                                                                                                                                                                                                                                                                                                                                                                                                                                                                                                                                                                                                                                                                                                                                                                                                                                                                                                                                                                                                                                                                                                                                                                                                                                                                                                                                                                                                                                                                                                                                                                                                                                                                                                                                                                                                                                                                                                                                                                                                                                                                                                                                                                                                                                                                                                                                                                                                                                                                                                                                                                                                                                                                                                                                                                                                                                                                                                                                                                                                                                                                                                                                                                                                                                                                                                                                                                                                                                                                                                                                                                                                                                                                                                                                                                                                                                                                                                                                                                                                                                                                                                                                                                                                                                                                                                                                                                                                                                                                                                                                                                                                                                                                                                                                                                                                                                                                                                                                                                                                                                                                                                                                                                                                                                                                                                                                                                                                                                                                                                                                                                                                                                                                                                                                                                                                                                                                                                                                                                                                                                                                                                                                                                                                                                                                                On Mon, 2 Sep 2002, Russell Turpin wrote:> Adam Beberg:\\n> >Considering 90% of the fake job posting I see are for embedded systems or\\n> >device drivers - C still rules the world.\\n>\\n> There is a lot of C++ in the embedded world. With static object\\n> allocation and a few other programming techniques, performance\\n> differences disappear, but C++ gives a boost in development and\\n> maintainability.Agreed, not much difference there. With C it just doesnt seem as wrong to\\nbe crawling around in registers and things. Quite frankly you cant fit\\n_that_ big of a project into a 32K ROM, so large project issues dont matter\\nas much in the embedded world.And in the realtime space, or when you have data coming in at 2Gbit/sec\\n[fibrechannel], every cycle DOES count.> The real issue is compiler availability. Almost every embedded platform\\n> has C cross-compilers. Many have C++ compilers. But there is still a\\n> range of platforms that have the first but not the second. Or at least,\\n> that was the story a few years ago.Definately still very very true. C++ compilers are still a rarity.\\n- Adam L. \"Duncan\" Beberg\\n  http://www.mithral.com/~beberg/\\n  beberg@mithral.com\\n   \n",
       "\n",
       "   Email Type  prediction_label  \n",
       "0           0                 0  \n",
       "1           0                 0  \n",
       "2           0                 0  \n",
       "3           0                 0  \n",
       "4           0                 0  "
      ]
     },
     "execution_count": 45,
     "metadata": {},
     "output_type": "execute_result"
    }
   ],
   "source": [
    "unseen_predictions = predict_model(final_model, data=data_unseen)\n",
    "unseen_predictions.head()"
   ]
  },
  {
   "cell_type": "code",
   "execution_count": 53,
   "id": "31501a4c",
   "metadata": {},
   "outputs": [],
   "source": [
    "from sklearn.metrics import accuracy_score, precision_score, recall_score, f1_score, confusion_matrix"
   ]
  },
  {
   "cell_type": "code",
   "execution_count": 56,
   "id": "dcb786cb",
   "metadata": {},
   "outputs": [
    {
     "name": "stdout",
     "output_type": "stream",
     "text": [
      "Accuracy: 0.94\n",
      "Precision: 0.9466666666666665\n",
      "Recall: 0.94\n",
      "F1 Score: 0.9399279711884754\n",
      "Confusion Matrix:\n",
      " [[24  0]\n",
      " [ 3 23]]\n"
     ]
    }
   ],
   "source": [
    "y_true = unseen_predictions['Email Type']\n",
    "y_pred = unseen_predictions['prediction_label']\n",
    "\n",
    "print(\"Accuracy:\", accuracy_score(y_true, y_pred))\n",
    "print(\"Precision:\", precision_score(y_true, y_pred, average='weighted'))\n",
    "print(\"Recall:\", recall_score(y_true, y_pred, average='weighted'))\n",
    "print(\"F1 Score:\", f1_score(y_true, y_pred, average='weighted'))\n",
    "print(\"Confusion Matrix:\\n\", confusion_matrix(y_true, y_pred))\n"
   ]
  }
 ],
 "metadata": {
  "kernelspec": {
   "display_name": "venv-pycaret",
   "language": "python",
   "name": "python3"
  },
  "language_info": {
   "codemirror_mode": {
    "name": "ipython",
    "version": 3
   },
   "file_extension": ".py",
   "mimetype": "text/x-python",
   "name": "python",
   "nbconvert_exporter": "python",
   "pygments_lexer": "ipython3",
   "version": "3.10.11"
  }
 },
 "nbformat": 4,
 "nbformat_minor": 5
}
