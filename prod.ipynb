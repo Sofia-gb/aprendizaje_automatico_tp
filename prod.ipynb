{
 "cells": [
  {
   "cell_type": "markdown",
   "id": "fd17d8ee",
   "metadata": {},
   "source": [
    "# Clasificación de Emails: ¿Phishing o Seguro?"
   ]
  },
  {
   "cell_type": "code",
   "execution_count": 9,
   "id": "f3a81ba7",
   "metadata": {},
   "outputs": [],
   "source": [
    "safe = \"re : kenneth parkhill stinson : norma has checked the internal equity in the group , and kenneth is fine in a senior specialist spot at that salary . i will be happy to extend an offer to him . did you discuss anything concerning the relocation package with kenneth ? molly x 34804 stinson gibner 11 / 01 / 2000 06 : 18 pm to : molly magee / hou / ect @ ect cc : vince j kaminski / hou / ect @ ect subject : kenneth parkhill molly , we would like to go ahead with an offer to kenneth . after talking to him again , i think he will accept . we would like to offer him the equivalent package to an incoming associate , which i understand would be $ 76 k base and a signing bonus of $ 20 k . he position would be a specialist or senior specialist ( whichever fits the salary ) reporting to me . thanks for your help , stinson x 34748\""
   ]
  },
  {
   "cell_type": "code",
   "execution_count": 10,
   "id": "72e8dc79",
   "metadata": {},
   "outputs": [],
   "source": [
    "phishing = \"\"\"\n",
    "Subject: 🛑 Urgent: Your Account Has Been Suspended\n",
    "From: support@secure-paypal.com\n",
    "\n",
    "Dear Customer,\n",
    "\n",
    "We have detected unusual activity on your PayPal account and have temporarily limited your access for your protection.\n",
    "\n",
    "To restore your account, please verify your information by clicking the secure link below:\n",
    "\n",
    "👉 http://paypal.security-alert123.com\n",
    "\n",
    "Failure to do so within 24 hours may result in permanent suspension of your account.\n",
    "\n",
    "We apologize for the inconvenience and thank you for your cooperation.\n",
    "\n",
    "Sincerely,  \n",
    "PayPal Security Team\n",
    "\"\"\"\n"
   ]
  },
  {
   "cell_type": "code",
   "execution_count": 11,
   "id": "66fc495d",
   "metadata": {},
   "outputs": [
    {
     "name": "stderr",
     "output_type": "stream",
     "text": [
      "[nltk_data] Downloading package wordnet to\n",
      "[nltk_data]     C:\\Users\\Sofia\\AppData\\Roaming\\nltk_data...\n",
      "[nltk_data]   Package wordnet is already up-to-date!\n"
     ]
    }
   ],
   "source": [
    "import nltk\n",
    "from nltk.stem import WordNetLemmatizer\n",
    "nltk.download('wordnet')\n",
    "from sklearn.feature_extraction.text import TfidfVectorizer\n",
    "from pycaret.classification import *\n",
    "import pandas as pd"
   ]
  },
  {
   "cell_type": "code",
   "execution_count": 12,
   "id": "8e02df7a",
   "metadata": {},
   "outputs": [],
   "source": [
    "\n",
    "lemmer = WordNetLemmatizer()\n",
    "def lematize(text):\n",
    "    return ' '.join([lemmer.lemmatize(w) for w in text.split()])\n"
   ]
  },
  {
   "cell_type": "code",
   "execution_count": 13,
   "id": "a88623c6",
   "metadata": {},
   "outputs": [
    {
     "name": "stdout",
     "output_type": "stream",
     "text": [
      "Transformation Pipeline and Model Successfully Loaded\n"
     ]
    }
   ],
   "source": [
    "vectorizer = TfidfVectorizer(max_features=5000)\n",
    "train = pd.read_csv(\"Phishing_Email_Train.csv\")\n",
    "vectorizer.fit_transform(train['Cleaned'])\n",
    "final_model = load_model('./pkl/phishing_model_final')"
   ]
  },
  {
   "cell_type": "code",
   "execution_count": 14,
   "id": "a9dee41f",
   "metadata": {},
   "outputs": [],
   "source": [
    "def predict_email(email):\n",
    "    cleaned = lematize(email)\n",
    "    df_unseen = pd.DataFrame([cleaned], columns=['Email Text'])\n",
    "    X_unseen = vectorizer.transform(df_unseen['Email Text'])\n",
    "    X_unseen_df = pd.DataFrame(X_unseen.toarray(), columns=vectorizer.get_feature_names_out())\n",
    "    \n",
    "    unseen_predictions = predict_model(final_model, data=X_unseen_df)\n",
    "    prediction = unseen_predictions['prediction_label'].values\n",
    "    print(prediction)\n",
    "    if prediction == 1:\n",
    "        print(\"This email is likely a phishing attempt.\")\n",
    "    else:\n",
    "        print(\"This email is likely safe.\")"
   ]
  },
  {
   "cell_type": "code",
   "execution_count": 15,
   "id": "a239d8a6",
   "metadata": {},
   "outputs": [
    {
     "name": "stdout",
     "output_type": "stream",
     "text": [
      "[0]\n",
      "This email is likely safe.\n"
     ]
    }
   ],
   "source": [
    "predict_email(safe)"
   ]
  },
  {
   "cell_type": "code",
   "execution_count": 16,
   "id": "3d3366a6",
   "metadata": {},
   "outputs": [
    {
     "name": "stdout",
     "output_type": "stream",
     "text": [
      "[1]\n",
      "This email is likely a phishing attempt.\n"
     ]
    }
   ],
   "source": [
    "predict_email(phishing)"
   ]
  }
 ],
 "metadata": {
  "kernelspec": {
   "display_name": "venv-pycaret",
   "language": "python",
   "name": "python3"
  },
  "language_info": {
   "codemirror_mode": {
    "name": "ipython",
    "version": 3
   },
   "file_extension": ".py",
   "mimetype": "text/x-python",
   "name": "python",
   "nbconvert_exporter": "python",
   "pygments_lexer": "ipython3",
   "version": "3.10.11"
  }
 },
 "nbformat": 4,
 "nbformat_minor": 5
}
